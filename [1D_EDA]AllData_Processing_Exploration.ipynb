{
 "cells": [
  {
   "cell_type": "markdown",
   "id": "d31a15ac-f4c2-4c0c-bf10-705d050e4223",
   "metadata": {},
   "source": [
    "# Import libraries and common functions"
   ]
  },
  {
   "cell_type": "code",
   "execution_count": 3,
   "id": "c5e7204d-a36c-45cb-9b49-682a0224cdf3",
   "metadata": {},
   "outputs": [],
   "source": [
    "import pandas as pd\n",
    "import numpy as np\n",
    "import matplotlib.pyplot as plt\n",
    "import seaborn as sns\n",
    "import os\n",
    "import sqlite3\n",
    "import plotly.express as px"
   ]
  },
  {
   "cell_type": "code",
   "execution_count": 4,
   "id": "dd78106a-aa30-456a-88fa-67cbb3d48440",
   "metadata": {},
   "outputs": [],
   "source": [
    "import nbimporter\n",
    "%run -i Common_Functions.ipynb\n",
    "from Common_Functions import *"
   ]
  },
  {
   "cell_type": "markdown",
   "id": "611488e0-ccde-43e0-a90c-fe6e73181984",
   "metadata": {},
   "source": [
    "# Data view"
   ]
  },
  {
   "cell_type": "code",
   "execution_count": 7,
   "id": "dade830b-d8b5-4ddb-89bb-1af3901c3f56",
   "metadata": {},
   "outputs": [],
   "source": [
    "file_path = \"NEM Registration and Exemption List.xlsx\"\n",
    "df_participants = pd.read_excel(file_path, sheet_name='PU and Scheduled Loads')"
   ]
  },
  {
   "cell_type": "code",
   "execution_count": 8,
   "id": "d533db37-c0e2-4023-af53-868e7d0bccc4",
   "metadata": {},
   "outputs": [
    {
     "data": {
      "text/html": [
       "<div>\n",
       "<style scoped>\n",
       "    .dataframe tbody tr th:only-of-type {\n",
       "        vertical-align: middle;\n",
       "    }\n",
       "\n",
       "    .dataframe tbody tr th {\n",
       "        vertical-align: top;\n",
       "    }\n",
       "\n",
       "    .dataframe thead th {\n",
       "        text-align: right;\n",
       "    }\n",
       "</style>\n",
       "<table border=\"1\" class=\"dataframe\">\n",
       "  <thead>\n",
       "    <tr style=\"text-align: right;\">\n",
       "      <th></th>\n",
       "      <th>Participant</th>\n",
       "      <th>Station Name</th>\n",
       "      <th>Region</th>\n",
       "      <th>Dispatch Type</th>\n",
       "      <th>Category</th>\n",
       "      <th>Classification</th>\n",
       "      <th>Fuel Source - Primary</th>\n",
       "      <th>Fuel Source - Descriptor</th>\n",
       "      <th>Technology Type - Primary</th>\n",
       "      <th>Technology Type - Descriptor</th>\n",
       "      <th>Units</th>\n",
       "      <th>Aggregation</th>\n",
       "      <th>DUID</th>\n",
       "      <th>Reg Cap generation (MW)</th>\n",
       "      <th>Max Cap generation (MW)</th>\n",
       "      <th>Max ROC/Min generation</th>\n",
       "      <th>Reg Cap consumption (MW)</th>\n",
       "      <th>Max Cap consumption (MW)</th>\n",
       "      <th>Max ROC/Min consumption</th>\n",
       "      <th>Comments</th>\n",
       "    </tr>\n",
       "  </thead>\n",
       "  <tbody>\n",
       "    <tr>\n",
       "      <th>0</th>\n",
       "      <td>South Australian Water Corporation</td>\n",
       "      <td>Adelaide Desalination Plant</td>\n",
       "      <td>SA1</td>\n",
       "      <td>Generating Unit</td>\n",
       "      <td>Market</td>\n",
       "      <td>Scheduled</td>\n",
       "      <td>Battery storage</td>\n",
       "      <td>Grid</td>\n",
       "      <td>Storage</td>\n",
       "      <td>Battery and Inverter</td>\n",
       "      <td>1-3</td>\n",
       "      <td>Y</td>\n",
       "      <td>ADPBA1G</td>\n",
       "      <td>7.76</td>\n",
       "      <td>6.15</td>\n",
       "      <td>2</td>\n",
       "      <td>NaN</td>\n",
       "      <td>NaN</td>\n",
       "      <td>NaN</td>\n",
       "      <td>NaN</td>\n",
       "    </tr>\n",
       "    <tr>\n",
       "      <th>1</th>\n",
       "      <td>South Australian Water Corporation</td>\n",
       "      <td>Adelaide Desalination Plant</td>\n",
       "      <td>SA1</td>\n",
       "      <td>Load</td>\n",
       "      <td>Market</td>\n",
       "      <td>Scheduled</td>\n",
       "      <td>Battery storage</td>\n",
       "      <td>Grid</td>\n",
       "      <td>Storage</td>\n",
       "      <td>Battery and Inverter</td>\n",
       "      <td>1-3</td>\n",
       "      <td>Y</td>\n",
       "      <td>ADPBA1L</td>\n",
       "      <td>7.76</td>\n",
       "      <td>6.15</td>\n",
       "      <td>2</td>\n",
       "      <td>NaN</td>\n",
       "      <td>NaN</td>\n",
       "      <td>NaN</td>\n",
       "      <td>NaN</td>\n",
       "    </tr>\n",
       "    <tr>\n",
       "      <th>2</th>\n",
       "      <td>South Australian Water Corporation</td>\n",
       "      <td>Adelaide Desalination Plant</td>\n",
       "      <td>SA1</td>\n",
       "      <td>Generating Unit</td>\n",
       "      <td>Market</td>\n",
       "      <td>Non-Scheduled</td>\n",
       "      <td>Hydro</td>\n",
       "      <td>Water</td>\n",
       "      <td>Renewable</td>\n",
       "      <td>Run of River</td>\n",
       "      <td>1-2</td>\n",
       "      <td>Y</td>\n",
       "      <td>ADPMH1</td>\n",
       "      <td>1.44</td>\n",
       "      <td>1</td>\n",
       "      <td>-</td>\n",
       "      <td>NaN</td>\n",
       "      <td>NaN</td>\n",
       "      <td>NaN</td>\n",
       "      <td>NaN</td>\n",
       "    </tr>\n",
       "    <tr>\n",
       "      <th>3</th>\n",
       "      <td>South Australian Water Corporation</td>\n",
       "      <td>Adelaide Desalination Plant</td>\n",
       "      <td>SA1</td>\n",
       "      <td>Generating Unit</td>\n",
       "      <td>Market</td>\n",
       "      <td>Semi-Scheduled</td>\n",
       "      <td>Solar</td>\n",
       "      <td>Solar</td>\n",
       "      <td>Renewable</td>\n",
       "      <td>Photovoltaic Tracking Flat panel</td>\n",
       "      <td>1-4, 5-9</td>\n",
       "      <td>Y</td>\n",
       "      <td>ADPPV1</td>\n",
       "      <td>24.75</td>\n",
       "      <td>19</td>\n",
       "      <td>4</td>\n",
       "      <td>NaN</td>\n",
       "      <td>NaN</td>\n",
       "      <td>NaN</td>\n",
       "      <td>NaN</td>\n",
       "    </tr>\n",
       "    <tr>\n",
       "      <th>4</th>\n",
       "      <td>South Australian Water Corporation</td>\n",
       "      <td>Adelaide Desalination Plant</td>\n",
       "      <td>SA1</td>\n",
       "      <td>Generating Unit</td>\n",
       "      <td>Market</td>\n",
       "      <td>Non-Scheduled</td>\n",
       "      <td>Solar</td>\n",
       "      <td>Solar</td>\n",
       "      <td>Renewable</td>\n",
       "      <td>Photovoltaic Flat panel</td>\n",
       "      <td>1-2</td>\n",
       "      <td>Y</td>\n",
       "      <td>ADPPV2</td>\n",
       "      <td>0.2</td>\n",
       "      <td>0.2</td>\n",
       "      <td>-</td>\n",
       "      <td>NaN</td>\n",
       "      <td>NaN</td>\n",
       "      <td>NaN</td>\n",
       "      <td>NaN</td>\n",
       "    </tr>\n",
       "  </tbody>\n",
       "</table>\n",
       "</div>"
      ],
      "text/plain": [
       "                          Participant                 Station Name Region  \\\n",
       "0  South Australian Water Corporation  Adelaide Desalination Plant    SA1   \n",
       "1  South Australian Water Corporation  Adelaide Desalination Plant    SA1   \n",
       "2  South Australian Water Corporation  Adelaide Desalination Plant    SA1   \n",
       "3  South Australian Water Corporation  Adelaide Desalination Plant    SA1   \n",
       "4  South Australian Water Corporation  Adelaide Desalination Plant    SA1   \n",
       "\n",
       "     Dispatch Type Category  Classification Fuel Source - Primary  \\\n",
       "0  Generating Unit   Market       Scheduled       Battery storage   \n",
       "1             Load   Market       Scheduled       Battery storage   \n",
       "2  Generating Unit   Market   Non-Scheduled                 Hydro   \n",
       "3  Generating Unit   Market  Semi-Scheduled                 Solar   \n",
       "4  Generating Unit   Market   Non-Scheduled                 Solar   \n",
       "\n",
       "  Fuel Source - Descriptor Technology Type - Primary  \\\n",
       "0                     Grid                   Storage   \n",
       "1                     Grid                   Storage   \n",
       "2                    Water                 Renewable   \n",
       "3                    Solar                 Renewable   \n",
       "4                    Solar                 Renewable   \n",
       "\n",
       "       Technology Type - Descriptor     Units Aggregation     DUID  \\\n",
       "0              Battery and Inverter       1-3           Y  ADPBA1G   \n",
       "1              Battery and Inverter       1-3           Y  ADPBA1L   \n",
       "2                      Run of River       1-2           Y   ADPMH1   \n",
       "3  Photovoltaic Tracking Flat panel  1-4, 5-9           Y   ADPPV1   \n",
       "4           Photovoltaic Flat panel       1-2           Y   ADPPV2   \n",
       "\n",
       "  Reg Cap generation (MW) Max Cap generation (MW) Max ROC/Min generation  \\\n",
       "0                    7.76                    6.15                      2   \n",
       "1                    7.76                    6.15                      2   \n",
       "2                    1.44                       1                      -   \n",
       "3                   24.75                      19                      4   \n",
       "4                     0.2                     0.2                      -   \n",
       "\n",
       "   Reg Cap consumption (MW)  Max Cap consumption (MW)  \\\n",
       "0                       NaN                       NaN   \n",
       "1                       NaN                       NaN   \n",
       "2                       NaN                       NaN   \n",
       "3                       NaN                       NaN   \n",
       "4                       NaN                       NaN   \n",
       "\n",
       "   Max ROC/Min consumption  Comments  \n",
       "0                      NaN       NaN  \n",
       "1                      NaN       NaN  \n",
       "2                      NaN       NaN  \n",
       "3                      NaN       NaN  \n",
       "4                      NaN       NaN  "
      ]
     },
     "execution_count": 8,
     "metadata": {},
     "output_type": "execute_result"
    }
   ],
   "source": [
    "df_participants.head()"
   ]
  },
  {
   "cell_type": "code",
   "execution_count": 9,
   "id": "ee4820f5-5058-4a5a-a103-233607ddcaa6",
   "metadata": {},
   "outputs": [
    {
     "data": {
      "text/plain": [
       "array(['Grid', 'Water', 'Solar', 'Diesel', 'Waste Coal Mine Gas', 'Wind',\n",
       "       'Natural Gas', nan, 'Black Coal', 'Sewerage / Waste Water',\n",
       "       'Coal Seam Methane', 'Bagasse', 'Landfill Methane / Landfill Gas',\n",
       "       'Biogas - sludge', 'Solar ', 'Natural Gas / Diesel', 'Ethane',\n",
       "       'Brown Coal', 'solar', 'Kerosene', '-', 'Natural Gas / Fuel Oil',\n",
       "       'Bagasse and Diesel'], dtype=object)"
      ]
     },
     "execution_count": 9,
     "metadata": {},
     "output_type": "execute_result"
    }
   ],
   "source": [
    "df_participants['Fuel Source - Descriptor'].unique()"
   ]
  },
  {
   "cell_type": "code",
   "execution_count": 10,
   "id": "e136e00f-9694-4a64-998a-11b6a5aea4bf",
   "metadata": {
    "scrolled": true
   },
   "outputs": [
    {
     "name": "stdout",
     "output_type": "stream",
     "text": [
      "✅ Loaded data from extracted_csv/PUBLIC_DVD_DISPATCHPRICE_201901010000.CSV, rows: 45476\n",
      "✅ Loaded data from extracted_csv/PUBLIC_DVD_DISPATCHPRICE_201902010000.CSV, rows: 42751\n",
      "✅ Loaded data from extracted_csv/PUBLIC_DVD_DISPATCHPRICE_201903010000.CSV, rows: 49201\n",
      "✅ Loaded data from extracted_csv/PUBLIC_DVD_DISPATCHPRICE_201904010000.CSV, rows: 52681\n",
      "✅ Loaded data from extracted_csv/PUBLIC_DVD_DISPATCHPRICE_201905010000.CSV, rows: 47851\n",
      "✅ Loaded data from extracted_csv/PUBLIC_DVD_DISPATCHPRICE_201906010000.CSV, rows: 47986\n",
      "✅ Loaded data from extracted_csv/PUBLIC_DVD_DISPATCHPRICE_201907010000.CSV, rows: 55081\n",
      "✅ Loaded data from extracted_csv/PUBLIC_DVD_DISPATCHPRICE_201908010000.CSV, rows: 49981\n",
      "✅ Loaded data from extracted_csv/PUBLIC_DVD_DISPATCHPRICE_201909010000.CSV, rows: 50791\n",
      "✅ Loaded data from extracted_csv/PUBLIC_DVD_DISPATCHPRICE_201910010000.CSV, rows: 55381\n",
      "✅ Loaded data from extracted_csv/PUBLIC_DVD_DISPATCHPRICE_201911010000.CSV, rows: 58716\n",
      "✅ Loaded data from extracted_csv/PUBLIC_DVD_DISPATCHPRICE_201912010000.CSV, rows: 53731\n",
      "✅ Loaded data from extracted_csv/PUBLIC_DVD_DISPATCHPRICE_202001010000.CSV, rows: 45386\n",
      "✅ Loaded data from extracted_csv/PUBLIC_DVD_DISPATCHPRICE_202002010000.CSV, rows: 46171\n",
      "✅ Loaded data from extracted_csv/PUBLIC_DVD_DISPATCHPRICE_202003010000.CSV, rows: 44641\n",
      "✅ Loaded data from extracted_csv/PUBLIC_DVD_DISPATCHPRICE_202004010000.CSV, rows: 43201\n",
      "✅ Loaded data from extracted_csv/PUBLIC_DVD_DISPATCHPRICE_202005010000.CSV, rows: 44641\n",
      "✅ Loaded data from extracted_csv/PUBLIC_DVD_DISPATCHPRICE_202006010000.CSV, rows: 43201\n",
      "✅ Loaded data from extracted_csv/PUBLIC_DVD_DISPATCHPRICE_202007010000.CSV, rows: 44641\n",
      "✅ Loaded data from extracted_csv/PUBLIC_DVD_DISPATCHPRICE_202008010000.CSV, rows: 44641\n",
      "✅ Loaded data from extracted_csv/PUBLIC_DVD_DISPATCHPRICE_202009010000.CSV, rows: 43201\n",
      "✅ Loaded data from extracted_csv/PUBLIC_DVD_DISPATCHPRICE_202010010000.CSV, rows: 44641\n",
      "✅ Loaded data from extracted_csv/PUBLIC_DVD_DISPATCHPRICE_202011010000.CSV, rows: 43201\n",
      "✅ Loaded data from extracted_csv/PUBLIC_DVD_DISPATCHPRICE_202012010000.CSV, rows: 44726\n",
      "✅ Loaded data from extracted_csv/PUBLIC_DVD_DISPATCHPRICE_202101010000.CSV, rows: 44641\n",
      "✅ Loaded data from extracted_csv/PUBLIC_DVD_DISPATCHPRICE_202102010000.CSV, rows: 40321\n",
      "✅ Loaded data from extracted_csv/PUBLIC_DVD_DISPATCHPRICE_202103010000.CSV, rows: 44641\n",
      "✅ Loaded data from extracted_csv/PUBLIC_DVD_DISPATCHPRICE_202104010000.CSV, rows: 43201\n",
      "✅ Loaded data from extracted_csv/PUBLIC_DVD_DISPATCHPRICE_202105010000.CSV, rows: 44781\n",
      "✅ Loaded data from extracted_csv/PUBLIC_DVD_DISPATCHPRICE_202106010000.CSV, rows: 43201\n",
      "✅ Loaded data from extracted_csv/PUBLIC_DVD_DISPATCHPRICE_202107010000.CSV, rows: 44641\n",
      "✅ Loaded data from extracted_csv/PUBLIC_DVD_DISPATCHPRICE_202108010000.CSV, rows: 44641\n",
      "✅ Loaded data from extracted_csv/PUBLIC_DVD_DISPATCHPRICE_202109010000.CSV, rows: 43201\n",
      "✅ Loaded data from extracted_csv/PUBLIC_DVD_DISPATCHPRICE_202110010000.CSV, rows: 44641\n",
      "✅ Loaded data from extracted_csv/PUBLIC_DVD_DISPATCHPRICE_202111010000.CSV, rows: 43201\n",
      "✅ Loaded data from extracted_csv/PUBLIC_DVD_DISPATCHPRICE_202112010000.CSV, rows: 44641\n",
      "✅ Loaded data from extracted_csv/PUBLIC_DVD_DISPATCHPRICE_202201010000.CSV, rows: 44641\n",
      "✅ Loaded data from extracted_csv/PUBLIC_DVD_DISPATCHPRICE_202202010000.CSV, rows: 40591\n",
      "✅ Loaded data from extracted_csv/PUBLIC_DVD_DISPATCHPRICE_202203010000.CSV, rows: 44641\n",
      "✅ Loaded data from extracted_csv/PUBLIC_DVD_DISPATCHPRICE_202204010000.CSV, rows: 43201\n",
      "✅ Loaded data from extracted_csv/PUBLIC_DVD_DISPATCHPRICE_202205010000.CSV, rows: 44641\n",
      "✅ Loaded data from extracted_csv/PUBLIC_DVD_DISPATCHPRICE_202206010000.CSV, rows: 56561\n",
      "✅ Loaded data from extracted_csv/PUBLIC_DVD_DISPATCHPRICE_202207010000.CSV, rows: 45131\n",
      "✅ Loaded data from extracted_csv/PUBLIC_DVD_DISPATCHPRICE_202208010000.CSV, rows: 44641\n",
      "✅ Loaded data from extracted_csv/PUBLIC_DVD_DISPATCHPRICE_202209010000.CSV, rows: 43201\n",
      "✅ Loaded data from extracted_csv/PUBLIC_DVD_DISPATCHPRICE_202210010000.CSV, rows: 44641\n",
      "✅ Loaded data from extracted_csv/PUBLIC_DVD_DISPATCHPRICE_202211010000.CSV, rows: 46306\n",
      "✅ Loaded data from extracted_csv/PUBLIC_DVD_DISPATCHPRICE_202212010000.CSV, rows: 44641\n",
      "✅ Loaded data from extracted_csv/PUBLIC_DVD_DISPATCHPRICE_202301010000.CSV, rows: 44641\n",
      "✅ Loaded data from extracted_csv/PUBLIC_DVD_DISPATCHPRICE_202302010000.CSV, rows: 40471\n",
      "✅ Loaded data from extracted_csv/PUBLIC_DVD_DISPATCHPRICE_202303010000.CSV, rows: 44641\n",
      "✅ Loaded data from extracted_csv/PUBLIC_DVD_DISPATCHPRICE_202304010000.CSV, rows: 43201\n",
      "✅ Loaded data from extracted_csv/PUBLIC_DVD_DISPATCHPRICE_202305010000.CSV, rows: 44641\n",
      "✅ Loaded data from extracted_csv/PUBLIC_DVD_DISPATCHPRICE_202306010000.CSV, rows: 43201\n",
      "✅ Loaded data from extracted_csv/PUBLIC_DVD_DISPATCHPRICE_202307010000.CSV, rows: 44641\n",
      "✅ Loaded data from extracted_csv/PUBLIC_DVD_DISPATCHPRICE_202308010000.CSV, rows: 44641\n",
      "✅ Loaded data from extracted_csv/PUBLIC_DVD_DISPATCHPRICE_202309010000.CSV, rows: 43201\n",
      "✅ Loaded data from extracted_csv/PUBLIC_DVD_DISPATCHPRICE_202310010000.CSV, rows: 44641\n",
      "✅ Loaded data from extracted_csv/PUBLIC_DVD_DISPATCHPRICE_202311010000.CSV, rows: 43201\n",
      "✅ Loaded data from extracted_csv/PUBLIC_DVD_DISPATCHPRICE_202312010000.CSV, rows: 44641\n",
      "✅ Loaded data from extracted_csv/PUBLIC_DVD_DISPATCHPRICE_202401010000.CSV, rows: 44641\n",
      "✅ Loaded data from extracted_csv/PUBLIC_DVD_DISPATCHPRICE_202402010000.CSV, rows: 41761\n",
      "✅ Loaded data from extracted_csv/PUBLIC_DVD_DISPATCHPRICE_202403010000.CSV, rows: 44641\n",
      "✅ Loaded data from extracted_csv/PUBLIC_DVD_DISPATCHPRICE_202404010000.CSV, rows: 43201\n",
      "✅ Loaded data from extracted_csv/PUBLIC_DVD_DISPATCHPRICE_202405010000.CSV, rows: 44641\n",
      "✅ Loaded data from extracted_csv/PUBLIC_DVD_DISPATCHPRICE_202406010000.CSV, rows: 43201\n",
      "✅ Loaded data from extracted_csv/PUBLIC_DVD_DISPATCHPRICE_202407010000.CSV, rows: 44641\n",
      "✅ Loaded data from extracted_csv/PUBLIC_ARCHIVE#DISPATCHPRICE#FILE01#202408010000.CSV, rows: 44641\n",
      "✅ Loaded data from extracted_csv/PUBLIC_ARCHIVE#DISPATCHPRICE#FILE01#202409010000.CSV, rows: 43201\n",
      "✅ Loaded data from extracted_csv/PUBLIC_ARCHIVE#DISPATCHPRICE#FILE01#202410010000.CSV, rows: 44641\n",
      "✅ Loaded data from extracted_csv/PUBLIC_ARCHIVE#DISPATCHPRICE#FILE01#202411010000.CSV, rows: 43261\n",
      "✅ Loaded data from extracted_csv/PUBLIC_ARCHIVE#DISPATCHPRICE#FILE01#202412010000.CSV, rows: 44641\n",
      "✅ Loaded data from extracted_csv/PUBLIC_ARCHIVE#DISPATCHPRICE#FILE01#202501010000.CSV, rows: 44641\n",
      "🎉 Successfully concatenated 3308023 rows from all files!\n"
     ]
    }
   ],
   "source": [
    "df_dispatchprice = read_nem_data(\"DISPATCHPRICE\", \"2019-01-01\", \"2025-01-01\")"
   ]
  },
  {
   "cell_type": "code",
   "execution_count": 11,
   "id": "bf05c302-7a4b-4195-9856-60340cd1a93d",
   "metadata": {
    "scrolled": true
   },
   "outputs": [
    {
     "name": "stdout",
     "output_type": "stream",
     "text": [
      "✅ Loaded data from extracted_csv/PUBLIC_DVD_PERDEMAND_201901010000.CSV, rows: 2914561\n",
      "✅ Loaded data from extracted_csv/PUBLIC_DVD_PERDEMAND_201902010000.CSV, rows: 2633521\n",
      "✅ Loaded data from extracted_csv/PUBLIC_DVD_PERDEMAND_201903010000.CSV, rows: 2913361\n",
      "✅ Loaded data from extracted_csv/PUBLIC_DVD_PERDEMAND_201904010000.CSV, rows: 2822401\n",
      "✅ Loaded data from extracted_csv/PUBLIC_DVD_PERDEMAND_201905010000.CSV, rows: 2916481\n",
      "✅ Loaded data from extracted_csv/PUBLIC_DVD_PERDEMAND_201906010000.CSV, rows: 2820481\n",
      "✅ Loaded data from extracted_csv/PUBLIC_DVD_PERDEMAND_201907010000.CSV, rows: 2916481\n",
      "✅ Loaded data from extracted_csv/PUBLIC_DVD_PERDEMAND_201908010000.CSV, rows: 2911921\n",
      "✅ Loaded data from extracted_csv/PUBLIC_DVD_PERDEMAND_201909010000.CSV, rows: 2819281\n",
      "✅ Loaded data from extracted_csv/PUBLIC_DVD_PERDEMAND_201910010000.CSV, rows: 2902321\n",
      "✅ Loaded data from extracted_csv/PUBLIC_DVD_PERDEMAND_201911010000.CSV, rows: 2820433\n",
      "✅ Loaded data from extracted_csv/PUBLIC_DVD_PERDEMAND_201912010000.CSV, rows: 2914561\n",
      "✅ Loaded data from extracted_csv/PUBLIC_DVD_PERDEMAND_202001010000.CSV, rows: 2914321\n",
      "✅ Loaded data from extracted_csv/PUBLIC_DVD_PERDEMAND_202002010000.CSV, rows: 2728321\n",
      "✅ Loaded data from extracted_csv/PUBLIC_DVD_PERDEMAND_202003010000.CSV, rows: 2916481\n",
      "✅ Loaded data from extracted_csv/PUBLIC_DVD_PERDEMAND_202004010000.CSV, rows: 2820481\n",
      "✅ Loaded data from extracted_csv/PUBLIC_DVD_PERDEMAND_202005010000.CSV, rows: 2915041\n",
      "✅ Loaded data from extracted_csv/PUBLIC_DVD_PERDEMAND_202006010000.CSV, rows: 2821921\n",
      "✅ Loaded data from extracted_csv/PUBLIC_DVD_PERDEMAND_202007010000.CSV, rows: 2916481\n",
      "✅ Loaded data from extracted_csv/PUBLIC_DVD_PERDEMAND_202008010000.CSV, rows: 2916481\n",
      "✅ Loaded data from extracted_csv/PUBLIC_DVD_PERDEMAND_202009010000.CSV, rows: 2820481\n",
      "✅ Loaded data from extracted_csv/PUBLIC_DVD_PERDEMAND_202010010000.CSV, rows: 2916481\n",
      "✅ Loaded data from extracted_csv/PUBLIC_DVD_PERDEMAND_202011010000.CSV, rows: 2819041\n",
      "✅ Loaded data from extracted_csv/PUBLIC_DVD_PERDEMAND_202012010000.CSV, rows: 2913841\n",
      "✅ Loaded data from extracted_csv/PUBLIC_DVD_PERDEMAND_202101010000.CSV, rows: 2906113\n",
      "✅ Loaded data from extracted_csv/PUBLIC_DVD_PERDEMAND_202102010000.CSV, rows: 2634241\n",
      "✅ Loaded data from extracted_csv/PUBLIC_DVD_PERDEMAND_202103010000.CSV, rows: 2914561\n",
      "✅ Loaded data from extracted_csv/PUBLIC_DVD_PERDEMAND_202104010000.CSV, rows: 2820001\n",
      "✅ Loaded data from extracted_csv/PUBLIC_DVD_PERDEMAND_202105010000.CSV, rows: 2913121\n",
      "✅ Loaded data from extracted_csv/PUBLIC_DVD_PERDEMAND_202106010000.CSV, rows: 2820241\n",
      "✅ Loaded data from extracted_csv/PUBLIC_DVD_PERDEMAND_202107010000.CSV, rows: 2916481\n",
      "✅ Loaded data from extracted_csv/PUBLIC_DVD_PERDEMAND_202108010000.CSV, rows: 2914561\n",
      "✅ Loaded data from extracted_csv/PUBLIC_DVD_PERDEMAND_202109010000.CSV, rows: 2803873\n",
      "✅ Loaded data from extracted_csv/PUBLIC_DVD_PERDEMAND_202110010000.CSV, rows: 2911681\n",
      "✅ Loaded data from extracted_csv/PUBLIC_DVD_PERDEMAND_202111010000.CSV, rows: 2807761\n",
      "✅ Loaded data from extracted_csv/PUBLIC_DVD_PERDEMAND_202112010000.CSV, rows: 2916481\n",
      "✅ Loaded data from extracted_csv/PUBLIC_DVD_PERDEMAND_202201010000.CSV, rows: 2916481\n",
      "✅ Loaded data from extracted_csv/PUBLIC_DVD_PERDEMAND_202202010000.CSV, rows: 2632705\n",
      "✅ Loaded data from extracted_csv/PUBLIC_DVD_PERDEMAND_202203010000.CSV, rows: 2916481\n",
      "✅ Loaded data from extracted_csv/PUBLIC_DVD_PERDEMAND_202204010000.CSV, rows: 2822401\n",
      "✅ Loaded data from extracted_csv/PUBLIC_DVD_PERDEMAND_202205010000.CSV, rows: 2916481\n",
      "✅ Loaded data from extracted_csv/PUBLIC_DVD_PERDEMAND_202206010000.CSV, rows: 2822401\n",
      "✅ Loaded data from extracted_csv/PUBLIC_DVD_PERDEMAND_202207010000.CSV, rows: 2912641\n",
      "✅ Loaded data from extracted_csv/PUBLIC_DVD_PERDEMAND_202208010000.CSV, rows: 2916481\n",
      "✅ Loaded data from extracted_csv/PUBLIC_DVD_PERDEMAND_202209010000.CSV, rows: 2821441\n",
      "✅ Loaded data from extracted_csv/PUBLIC_DVD_PERDEMAND_202210010000.CSV, rows: 2913841\n",
      "✅ Loaded data from extracted_csv/PUBLIC_DVD_PERDEMAND_202211010000.CSV, rows: 2819377\n",
      "✅ Loaded data from extracted_csv/PUBLIC_DVD_PERDEMAND_202212010000.CSV, rows: 2915041\n",
      "✅ Loaded data from extracted_csv/PUBLIC_DVD_PERDEMAND_202301010000.CSV, rows: 2918401\n",
      "✅ Loaded data from extracted_csv/PUBLIC_DVD_PERDEMAND_202302010000.CSV, rows: 2634241\n",
      "✅ Loaded data from extracted_csv/PUBLIC_DVD_PERDEMAND_202303010000.CSV, rows: 2916481\n",
      "✅ Loaded data from extracted_csv/PUBLIC_DVD_PERDEMAND_202304010000.CSV, rows: 2822401\n",
      "✅ Loaded data from extracted_csv/PUBLIC_DVD_PERDEMAND_202305010000.CSV, rows: 2914561\n",
      "✅ Loaded data from extracted_csv/PUBLIC_DVD_PERDEMAND_202306010000.CSV, rows: 2803777\n",
      "✅ Loaded data from extracted_csv/PUBLIC_DVD_PERDEMAND_202307010000.CSV, rows: 2911297\n",
      "✅ Loaded data from extracted_csv/PUBLIC_DVD_PERDEMAND_202308010000.CSV, rows: 2916481\n",
      "✅ Loaded data from extracted_csv/PUBLIC_DVD_PERDEMAND_202309010000.CSV, rows: 2822401\n",
      "✅ Loaded data from extracted_csv/PUBLIC_DVD_PERDEMAND_202310010000.CSV, rows: 2916481\n",
      "✅ Loaded data from extracted_csv/PUBLIC_DVD_PERDEMAND_202311010000.CSV, rows: 2820481\n",
      "✅ Loaded data from extracted_csv/PUBLIC_DVD_PERDEMAND_202312010000.CSV, rows: 2914177\n",
      "✅ Loaded data from extracted_csv/PUBLIC_DVD_PERDEMAND_202401010000.CSV, rows: 2915617\n",
      "✅ Loaded data from extracted_csv/PUBLIC_DVD_PERDEMAND_202402010000.CSV, rows: 2726881\n",
      "✅ Loaded data from extracted_csv/PUBLIC_DVD_PERDEMAND_202403010000.CSV, rows: 2916481\n",
      "✅ Loaded data from extracted_csv/PUBLIC_DVD_PERDEMAND_202404010000.CSV, rows: 2814721\n",
      "✅ Loaded data from extracted_csv/PUBLIC_DVD_PERDEMAND_202405010000.CSV, rows: 2916481\n",
      "✅ Loaded data from extracted_csv/PUBLIC_DVD_PERDEMAND_202406010000.CSV, rows: 2820961\n",
      "✅ Loaded data from extracted_csv/PUBLIC_DVD_PERDEMAND_202407010000.CSV, rows: 2916001\n",
      "✅ Loaded data from extracted_csv/PUBLIC_ARCHIVE#PERDEMAND#FILE01#202408010000.CSV, rows: 1659121\n",
      "✅ Loaded data from extracted_csv/PUBLIC_ARCHIVE#PERDEMAND#FILE01#202409010000.CSV, rows: 1601761\n",
      "✅ Loaded data from extracted_csv/PUBLIC_ARCHIVE#PERDEMAND#FILE01#202410010000.CSV, rows: 1658161\n",
      "✅ Loaded data from extracted_csv/PUBLIC_ARCHIVE#PERDEMAND#FILE01#202411010000.CSV, rows: 1598881\n",
      "✅ Loaded data from extracted_csv/PUBLIC_ARCHIVE#PERDEMAND#FILE01#202412010000.CSV, rows: 1657201\n",
      "✅ Loaded data from extracted_csv/PUBLIC_ARCHIVE#PERDEMAND#FILE01#202501010000.CSV, rows: 1648849\n",
      "🎉 Successfully concatenated 201492361 rows from all files!\n"
     ]
    }
   ],
   "source": [
    "df_demand = read_nem_data(\"PERDEMAND\", \"2019-01-01\", \"2025-01-01\")"
   ]
  },
  {
   "cell_type": "code",
   "execution_count": 12,
   "id": "fe0b83d9-ced2-4f36-88a5-ce5e8d00d389",
   "metadata": {
    "scrolled": true
   },
   "outputs": [
    {
     "name": "stdout",
     "output_type": "stream",
     "text": [
      "✅ Loaded data from extracted_csv/PUBLIC_DVD_DISPATCH_UNIT_SCADA_201901010000.CSV, rows: 2831589\n",
      "✅ Loaded data from extracted_csv/PUBLIC_DVD_DISPATCH_UNIT_SCADA_201902010000.CSV, rows: 2577552\n",
      "✅ Loaded data from extracted_csv/PUBLIC_DVD_DISPATCH_UNIT_SCADA_201903010000.CSV, rows: 2869806\n",
      "✅ Loaded data from extracted_csv/PUBLIC_DVD_DISPATCH_UNIT_SCADA_201904010000.CSV, rows: 2796195\n",
      "✅ Loaded data from extracted_csv/PUBLIC_DVD_DISPATCH_UNIT_SCADA_201905010000.CSV, rows: 2901604\n",
      "✅ Loaded data from extracted_csv/PUBLIC_DVD_DISPATCH_UNIT_SCADA_201906010000.CSV, rows: 2838273\n",
      "✅ Loaded data from extracted_csv/PUBLIC_DVD_DISPATCH_UNIT_SCADA_201907010000.CSV, rows: 2945783\n",
      "✅ Loaded data from extracted_csv/PUBLIC_DVD_DISPATCH_UNIT_SCADA_201908010000.CSV, rows: 2954559\n",
      "✅ Loaded data from extracted_csv/PUBLIC_DVD_DISPATCH_UNIT_SCADA_201909010000.CSV, rows: 2867042\n",
      "✅ Loaded data from extracted_csv/PUBLIC_DVD_DISPATCH_UNIT_SCADA_201910010000.CSV, rows: 2981574\n",
      "✅ Loaded data from extracted_csv/PUBLIC_DVD_DISPATCH_UNIT_SCADA_201911010000.CSV, rows: 2893667\n",
      "✅ Loaded data from extracted_csv/PUBLIC_DVD_DISPATCH_UNIT_SCADA_201912010000.CSV, rows: 3008860\n",
      "✅ Loaded data from extracted_csv/PUBLIC_DVD_DISPATCH_UNIT_SCADA_202001010000.CSV, rows: 3031454\n",
      "✅ Loaded data from extracted_csv/PUBLIC_DVD_DISPATCH_UNIT_SCADA_202002010000.CSV, rows: 2840729\n",
      "✅ Loaded data from extracted_csv/PUBLIC_DVD_DISPATCH_UNIT_SCADA_202003010000.CSV, rows: 3067033\n",
      "✅ Loaded data from extracted_csv/PUBLIC_DVD_DISPATCH_UNIT_SCADA_202004010000.CSV, rows: 2988327\n",
      "✅ Loaded data from extracted_csv/PUBLIC_DVD_DISPATCH_UNIT_SCADA_202005010000.CSV, rows: 3112823\n",
      "✅ Loaded data from extracted_csv/PUBLIC_DVD_DISPATCH_UNIT_SCADA_202006010000.CSV, rows: 3023785\n",
      "✅ Loaded data from extracted_csv/PUBLIC_DVD_DISPATCH_UNIT_SCADA_202007010000.CSV, rows: 3132894\n",
      "✅ Loaded data from extracted_csv/PUBLIC_DVD_DISPATCH_UNIT_SCADA_202008010000.CSV, rows: 3136690\n",
      "✅ Loaded data from extracted_csv/PUBLIC_DVD_DISPATCH_UNIT_SCADA_202009010000.CSV, rows: 3054202\n",
      "✅ Loaded data from extracted_csv/PUBLIC_DVD_DISPATCH_UNIT_SCADA_202010010000.CSV, rows: 3152688\n",
      "✅ Loaded data from extracted_csv/PUBLIC_DVD_DISPATCH_UNIT_SCADA_202011010000.CSV, rows: 3093175\n",
      "✅ Loaded data from extracted_csv/PUBLIC_DVD_DISPATCH_UNIT_SCADA_202012010000.CSV, rows: 3248906\n",
      "✅ Loaded data from extracted_csv/PUBLIC_DVD_DISPATCH_UNIT_SCADA_202101010000.CSV, rows: 3266151\n",
      "✅ Loaded data from extracted_csv/PUBLIC_DVD_DISPATCH_UNIT_SCADA_202102010000.CSV, rows: 2979796\n",
      "✅ Loaded data from extracted_csv/PUBLIC_DVD_DISPATCH_UNIT_SCADA_202103010000.CSV, rows: 3305220\n",
      "✅ Loaded data from extracted_csv/PUBLIC_DVD_DISPATCH_UNIT_SCADA_202104010000.CSV, rows: 3210970\n",
      "✅ Loaded data from extracted_csv/PUBLIC_DVD_DISPATCH_UNIT_SCADA_202105010000.CSV, rows: 3341953\n",
      "✅ Loaded data from extracted_csv/PUBLIC_DVD_DISPATCH_UNIT_SCADA_202106010000.CSV, rows: 3262930\n",
      "✅ Loaded data from extracted_csv/PUBLIC_DVD_DISPATCH_UNIT_SCADA_202107010000.CSV, rows: 3445428\n",
      "✅ Loaded data from extracted_csv/PUBLIC_DVD_DISPATCH_UNIT_SCADA_202108010000.CSV, rows: 3478505\n",
      "✅ Loaded data from extracted_csv/PUBLIC_DVD_DISPATCH_UNIT_SCADA_202109010000.CSV, rows: 3368945\n",
      "✅ Loaded data from extracted_csv/PUBLIC_DVD_DISPATCH_UNIT_SCADA_202110010000.CSV, rows: 3488365\n",
      "✅ Loaded data from extracted_csv/PUBLIC_DVD_DISPATCH_UNIT_SCADA_202111010000.CSV, rows: 3433899\n",
      "✅ Loaded data from extracted_csv/PUBLIC_DVD_DISPATCH_UNIT_SCADA_202112010000.CSV, rows: 3578984\n",
      "✅ Loaded data from extracted_csv/PUBLIC_DVD_DISPATCH_UNIT_SCADA_202201010000.CSV, rows: 3605618\n",
      "✅ Loaded data from extracted_csv/PUBLIC_DVD_DISPATCH_UNIT_SCADA_202202010000.CSV, rows: 3279357\n",
      "✅ Loaded data from extracted_csv/PUBLIC_DVD_DISPATCH_UNIT_SCADA_202203010000.CSV, rows: 3682802\n",
      "✅ Loaded data from extracted_csv/PUBLIC_DVD_DISPATCH_UNIT_SCADA_202204010000.CSV, rows: 3595573\n",
      "✅ Loaded data from extracted_csv/PUBLIC_DVD_DISPATCH_UNIT_SCADA_202205010000.CSV, rows: 3727951\n",
      "✅ Loaded data from extracted_csv/PUBLIC_DVD_DISPATCH_UNIT_SCADA_202206010000.CSV, rows: 3634084\n",
      "✅ Loaded data from extracted_csv/PUBLIC_DVD_DISPATCH_UNIT_SCADA_202207010000.CSV, rows: 3794308\n",
      "✅ Loaded data from extracted_csv/PUBLIC_DVD_DISPATCH_UNIT_SCADA_202208010000.CSV, rows: 3817429\n",
      "✅ Loaded data from extracted_csv/PUBLIC_DVD_DISPATCH_UNIT_SCADA_202209010000.CSV, rows: 3699239\n",
      "✅ Loaded data from extracted_csv/PUBLIC_DVD_DISPATCH_UNIT_SCADA_202210010000.CSV, rows: 3832653\n",
      "✅ Loaded data from extracted_csv/PUBLIC_DVD_DISPATCH_UNIT_SCADA_202211010000.CSV, rows: 3715219\n",
      "✅ Loaded data from extracted_csv/PUBLIC_DVD_DISPATCH_UNIT_SCADA_202212010000.CSV, rows: 3866438\n",
      "✅ Loaded data from extracted_csv/PUBLIC_DVD_DISPATCH_UNIT_SCADA_202301010000.CSV, rows: 3882451\n",
      "✅ Loaded data from extracted_csv/PUBLIC_DVD_DISPATCH_UNIT_SCADA_202302010000.CSV, rows: 3520108\n",
      "✅ Loaded data from extracted_csv/PUBLIC_DVD_DISPATCH_UNIT_SCADA_202303010000.CSV, rows: 3936156\n",
      "✅ Loaded data from extracted_csv/PUBLIC_DVD_DISPATCH_UNIT_SCADA_202304010000.CSV, rows: 3839421\n",
      "✅ Loaded data from extracted_csv/PUBLIC_DVD_DISPATCH_UNIT_SCADA_202305010000.CSV, rows: 3974288\n",
      "✅ Loaded data from extracted_csv/PUBLIC_DVD_DISPATCH_UNIT_SCADA_202306010000.CSV, rows: 3893472\n",
      "✅ Loaded data from extracted_csv/PUBLIC_DVD_DISPATCH_UNIT_SCADA_202307010000.CSV, rows: 4047628\n",
      "✅ Loaded data from extracted_csv/PUBLIC_DVD_DISPATCH_UNIT_SCADA_202308010000.CSV, rows: 4099796\n",
      "✅ Loaded data from extracted_csv/PUBLIC_DVD_DISPATCH_UNIT_SCADA_202309010000.CSV, rows: 3969449\n",
      "✅ Loaded data from extracted_csv/PUBLIC_DVD_DISPATCH_UNIT_SCADA_202310010000.CSV, rows: 4123346\n",
      "✅ Loaded data from extracted_csv/PUBLIC_DVD_DISPATCH_UNIT_SCADA_202311010000.CSV, rows: 4004601\n",
      "✅ Loaded data from extracted_csv/PUBLIC_DVD_DISPATCH_UNIT_SCADA_202312010000.CSV, rows: 4191392\n",
      "✅ Loaded data from extracted_csv/PUBLIC_DVD_DISPATCH_UNIT_SCADA_202401010000.CSV, rows: 4193480\n",
      "✅ Loaded data from extracted_csv/PUBLIC_DVD_DISPATCH_UNIT_SCADA_202402010000.CSV, rows: 3923682\n",
      "✅ Loaded data from extracted_csv/PUBLIC_DVD_DISPATCH_UNIT_SCADA_202403010000.CSV, rows: 4188581\n",
      "✅ Loaded data from extracted_csv/PUBLIC_DVD_DISPATCH_UNIT_SCADA_202404010000.CSV, rows: 4052269\n",
      "✅ Loaded data from extracted_csv/PUBLIC_DVD_DISPATCH_UNIT_SCADA_202405010000.CSV, rows: 4202535\n",
      "✅ Loaded data from extracted_csv/PUBLIC_DVD_DISPATCH_UNIT_SCADA_202406010000.CSV, rows: 4103639\n",
      "✅ Loaded data from extracted_csv/PUBLIC_DVD_DISPATCH_UNIT_SCADA_202407010000.CSV, rows: 4281109\n",
      "✅ Loaded data from extracted_csv/PUBLIC_ARCHIVE#DISPATCH_UNIT_SCADA#FILE01#202408010000.CSV, rows: 4136178\n",
      "✅ Loaded data from extracted_csv/PUBLIC_ARCHIVE#DISPATCH_UNIT_SCADA#FILE01#202409010000.CSV, rows: 4034259\n",
      "✅ Loaded data from extracted_csv/PUBLIC_ARCHIVE#DISPATCH_UNIT_SCADA#FILE01#202410010000.CSV, rows: 4082274\n"
     ]
    },
    {
     "name": "stderr",
     "output_type": "stream",
     "text": [
      "/var/folders/b6/bmslj24d11n41826_8m7yb400000gn/T/ipykernel_3604/1439474265.py:31: DtypeWarning: Columns (7) have mixed types. Specify dtype option on import or set low_memory=False.\n",
      "  df_temp = pd.read_csv(file_path, skiprows=1)  # Skip first row\n"
     ]
    },
    {
     "name": "stdout",
     "output_type": "stream",
     "text": [
      "✅ Loaded data from extracted_csv/PUBLIC_ARCHIVE#DISPATCH_UNIT_SCADA#FILE01#202411010000.CSV, rows: 3902492\n",
      "✅ Loaded data from extracted_csv/PUBLIC_ARCHIVE#DISPATCH_UNIT_SCADA#FILE01#202412010000.CSV, rows: 4048391\n",
      "✅ Loaded data from extracted_csv/PUBLIC_ARCHIVE#DISPATCH_UNIT_SCADA#FILE01#202501010000.CSV, rows: 4058257\n",
      "🎉 Successfully concatenated 256450281 rows from all files!\n"
     ]
    }
   ],
   "source": [
    "df_scada = read_nem_data(\"DISPATCH_UNIT_SCADA\", \"2019-01-01\", \"2025-01-01\")"
   ]
  },
  {
   "cell_type": "code",
   "execution_count": 55,
   "id": "0b8ebe2b-2d0e-44fd-b989-3d2c15b8e864",
   "metadata": {
    "scrolled": true
   },
   "outputs": [
    {
     "name": "stdout",
     "output_type": "stream",
     "text": [
      "✅ Loaded data from extracted_csv/PUBLIC_DVD_DUDETAILSUMMARY_201901010000.CSV, rows: 8977\n",
      "✅ Loaded data from extracted_csv/PUBLIC_DVD_DUDETAILSUMMARY_201902010000.CSV, rows: 8978\n",
      "✅ Loaded data from extracted_csv/PUBLIC_DVD_DUDETAILSUMMARY_201903010000.CSV, rows: 8984\n",
      "✅ Loaded data from extracted_csv/PUBLIC_DVD_DUDETAILSUMMARY_201904010000.CSV, rows: 8985\n",
      "✅ Loaded data from extracted_csv/PUBLIC_DVD_DUDETAILSUMMARY_201905010000.CSV, rows: 8994\n",
      "✅ Loaded data from extracted_csv/PUBLIC_DVD_DUDETAILSUMMARY_201906010000.CSV, rows: 9494\n",
      "✅ Loaded data from extracted_csv/PUBLIC_DVD_DUDETAILSUMMARY_201907010000.CSV, rows: 9496\n",
      "✅ Loaded data from extracted_csv/PUBLIC_DVD_DUDETAILSUMMARY_201908010000.CSV, rows: 9499\n",
      "✅ Loaded data from extracted_csv/PUBLIC_DVD_DUDETAILSUMMARY_201909010000.CSV, rows: 9506\n",
      "✅ Loaded data from extracted_csv/PUBLIC_DVD_DUDETAILSUMMARY_201910010000.CSV, rows: 9522\n",
      "✅ Loaded data from extracted_csv/PUBLIC_DVD_DUDETAILSUMMARY_201911010000.CSV, rows: 9527\n",
      "✅ Loaded data from extracted_csv/PUBLIC_DVD_DUDETAILSUMMARY_201912010000.CSV, rows: 9532\n",
      "✅ Loaded data from extracted_csv/PUBLIC_DVD_DUDETAILSUMMARY_202001010000.CSV, rows: 9542\n",
      "✅ Loaded data from extracted_csv/PUBLIC_DVD_DUDETAILSUMMARY_202002010000.CSV, rows: 9553\n",
      "✅ Loaded data from extracted_csv/PUBLIC_DVD_DUDETAILSUMMARY_202003010000.CSV, rows: 9555\n",
      "✅ Loaded data from extracted_csv/PUBLIC_DVD_DUDETAILSUMMARY_202004010000.CSV, rows: 9559\n",
      "✅ Loaded data from extracted_csv/PUBLIC_DVD_DUDETAILSUMMARY_202005010000.CSV, rows: 9564\n",
      "✅ Loaded data from extracted_csv/PUBLIC_DVD_DUDETAILSUMMARY_202006010000.CSV, rows: 10082\n",
      "✅ Loaded data from extracted_csv/PUBLIC_DVD_DUDETAILSUMMARY_202007010000.CSV, rows: 10088\n",
      "✅ Loaded data from extracted_csv/PUBLIC_DVD_DUDETAILSUMMARY_202008010000.CSV, rows: 10090\n",
      "✅ Loaded data from extracted_csv/PUBLIC_DVD_DUDETAILSUMMARY_202009010000.CSV, rows: 10092\n",
      "✅ Loaded data from extracted_csv/PUBLIC_DVD_DUDETAILSUMMARY_202010010000.CSV, rows: 10107\n",
      "✅ Loaded data from extracted_csv/PUBLIC_DVD_DUDETAILSUMMARY_202011010000.CSV, rows: 10117\n",
      "✅ Loaded data from extracted_csv/PUBLIC_DVD_DUDETAILSUMMARY_202012010000.CSV, rows: 10129\n",
      "✅ Loaded data from extracted_csv/PUBLIC_DVD_DUDETAILSUMMARY_202101010000.CSV, rows: 10132\n",
      "✅ Loaded data from extracted_csv/PUBLIC_DVD_DUDETAILSUMMARY_202102010000.CSV, rows: 10134\n",
      "✅ Loaded data from extracted_csv/PUBLIC_DVD_DUDETAILSUMMARY_202103010000.CSV, rows: 10136\n",
      "✅ Loaded data from extracted_csv/PUBLIC_DVD_DUDETAILSUMMARY_202104010000.CSV, rows: 10146\n",
      "✅ Loaded data from extracted_csv/PUBLIC_DVD_DUDETAILSUMMARY_202105010000.CSV, rows: 10149\n",
      "✅ Loaded data from extracted_csv/PUBLIC_DVD_DUDETAILSUMMARY_202106010000.CSV, rows: 10725\n",
      "✅ Loaded data from extracted_csv/PUBLIC_DVD_DUDETAILSUMMARY_202107010000.CSV, rows: 10729\n",
      "✅ Loaded data from extracted_csv/PUBLIC_DVD_DUDETAILSUMMARY_202108010000.CSV, rows: 10730\n",
      "✅ Loaded data from extracted_csv/PUBLIC_DVD_DUDETAILSUMMARY_202109010000.CSV, rows: 10736\n",
      "✅ Loaded data from extracted_csv/PUBLIC_DVD_DUDETAILSUMMARY_202110010000.CSV, rows: 10751\n",
      "✅ Loaded data from extracted_csv/PUBLIC_DVD_DUDETAILSUMMARY_202111010000.CSV, rows: 10769\n",
      "✅ Loaded data from extracted_csv/PUBLIC_DVD_DUDETAILSUMMARY_202112010000.CSV, rows: 10779\n",
      "✅ Loaded data from extracted_csv/PUBLIC_DVD_DUDETAILSUMMARY_202201010000.CSV, rows: 10785\n",
      "✅ Loaded data from extracted_csv/PUBLIC_DVD_DUDETAILSUMMARY_202202010000.CSV, rows: 10797\n",
      "✅ Loaded data from extracted_csv/PUBLIC_DVD_DUDETAILSUMMARY_202203010000.CSV, rows: 10804\n",
      "✅ Loaded data from extracted_csv/PUBLIC_DVD_DUDETAILSUMMARY_202204010000.CSV, rows: 10808\n",
      "✅ Loaded data from extracted_csv/PUBLIC_DVD_DUDETAILSUMMARY_202205010000.CSV, rows: 10813\n",
      "✅ Loaded data from extracted_csv/PUBLIC_DVD_DUDETAILSUMMARY_202206010000.CSV, rows: 11433\n",
      "✅ Loaded data from extracted_csv/PUBLIC_DVD_DUDETAILSUMMARY_202207010000.CSV, rows: 11438\n",
      "✅ Loaded data from extracted_csv/PUBLIC_DVD_DUDETAILSUMMARY_202208010000.CSV, rows: 11443\n",
      "✅ Loaded data from extracted_csv/PUBLIC_DVD_DUDETAILSUMMARY_202209010000.CSV, rows: 11454\n",
      "✅ Loaded data from extracted_csv/PUBLIC_DVD_DUDETAILSUMMARY_202210010000.CSV, rows: 11460\n",
      "✅ Loaded data from extracted_csv/PUBLIC_DVD_DUDETAILSUMMARY_202211010000.CSV, rows: 11462\n",
      "✅ Loaded data from extracted_csv/PUBLIC_DVD_DUDETAILSUMMARY_202212010000.CSV, rows: 11474\n",
      "✅ Loaded data from extracted_csv/PUBLIC_DVD_DUDETAILSUMMARY_202301010000.CSV, rows: 11477\n",
      "✅ Loaded data from extracted_csv/PUBLIC_DVD_DUDETAILSUMMARY_202302010000.CSV, rows: 11484\n",
      "✅ Loaded data from extracted_csv/PUBLIC_DVD_DUDETAILSUMMARY_202303010000.CSV, rows: 11493\n",
      "✅ Loaded data from extracted_csv/PUBLIC_DVD_DUDETAILSUMMARY_202304010000.CSV, rows: 11501\n",
      "✅ Loaded data from extracted_csv/PUBLIC_DVD_DUDETAILSUMMARY_202305010000.CSV, rows: 11509\n",
      "✅ Loaded data from extracted_csv/PUBLIC_DVD_DUDETAILSUMMARY_202306010000.CSV, rows: 12157\n",
      "✅ Loaded data from extracted_csv/PUBLIC_DVD_DUDETAILSUMMARY_202307010000.CSV, rows: 12164\n",
      "✅ Loaded data from extracted_csv/PUBLIC_DVD_DUDETAILSUMMARY_202308010000.CSV, rows: 12166\n",
      "✅ Loaded data from extracted_csv/PUBLIC_DVD_DUDETAILSUMMARY_202309010000.CSV, rows: 12175\n",
      "✅ Loaded data from extracted_csv/PUBLIC_DVD_DUDETAILSUMMARY_202310010000.CSV, rows: 12183\n",
      "✅ Loaded data from extracted_csv/PUBLIC_DVD_DUDETAILSUMMARY_202311010000.CSV, rows: 12204\n",
      "✅ Loaded data from extracted_csv/PUBLIC_DVD_DUDETAILSUMMARY_202312010000.CSV, rows: 12209\n",
      "✅ Loaded data from extracted_csv/PUBLIC_DVD_DUDETAILSUMMARY_202401010000.CSV, rows: 12212\n",
      "✅ Loaded data from extracted_csv/PUBLIC_DVD_DUDETAILSUMMARY_202402010000.CSV, rows: 12221\n",
      "✅ Loaded data from extracted_csv/PUBLIC_DVD_DUDETAILSUMMARY_202403010000.CSV, rows: 12229\n",
      "✅ Loaded data from extracted_csv/PUBLIC_DVD_DUDETAILSUMMARY_202404010000.CSV, rows: 12236\n",
      "✅ Loaded data from extracted_csv/PUBLIC_DVD_DUDETAILSUMMARY_202405010000.CSV, rows: 12561\n",
      "✅ Loaded data from extracted_csv/PUBLIC_DVD_DUDETAILSUMMARY_202406010000.CSV, rows: 13220\n",
      "✅ Loaded data from extracted_csv/PUBLIC_DVD_DUDETAILSUMMARY_202407010000.CSV, rows: 13229\n",
      "✅ Loaded data from extracted_csv/PUBLIC_ARCHIVE#DUDETAILSUMMARY#FILE01#202408010000.CSV, rows: 13246\n",
      "✅ Loaded data from extracted_csv/PUBLIC_ARCHIVE#DUDETAILSUMMARY#FILE01#202409010000.CSV, rows: 13260\n",
      "✅ Loaded data from extracted_csv/PUBLIC_ARCHIVE#DUDETAILSUMMARY#FILE01#202410010000.CSV, rows: 13269\n",
      "✅ Loaded data from extracted_csv/PUBLIC_ARCHIVE#DUDETAILSUMMARY#FILE01#202411010000.CSV, rows: 13276\n",
      "✅ Loaded data from extracted_csv/PUBLIC_ARCHIVE#DUDETAILSUMMARY#FILE01#202412010000.CSV, rows: 13287\n",
      "✅ Loaded data from extracted_csv/PUBLIC_ARCHIVE#DUDETAILSUMMARY#FILE01#202501010000.CSV, rows: 13295\n",
      "🎉 Successfully concatenated 800322 rows from all files!\n"
     ]
    }
   ],
   "source": [
    "df_summary = read_nem_data(\"DUDETAILSUMMARY\", \"2019-01-01\", \"2025-01-01\")"
   ]
  },
  {
   "cell_type": "markdown",
   "id": "9347712f-29c4-4136-9062-755f9568ab8e",
   "metadata": {},
   "source": [
    "<div style=\"background-color: lightblue; padding: 10px;\">\n",
    "\n",
    "My strategy for these datasets are groupby hour to reduce the data for 2D Exploration or next step I also sample 20% of data for 1D exploration, because they are over 200M rows of data that the yare too big.\n",
    "</div>"
   ]
  },
  {
   "cell_type": "code",
   "execution_count": 12,
   "id": "a8c4af24-d881-4ab9-afd0-a51c8332d184",
   "metadata": {},
   "outputs": [
    {
     "data": {
      "text/html": [
       "<div>\n",
       "<style scoped>\n",
       "    .dataframe tbody tr th:only-of-type {\n",
       "        vertical-align: middle;\n",
       "    }\n",
       "\n",
       "    .dataframe tbody tr th {\n",
       "        vertical-align: top;\n",
       "    }\n",
       "\n",
       "    .dataframe thead th {\n",
       "        text-align: right;\n",
       "    }\n",
       "</style>\n",
       "<table border=\"1\" class=\"dataframe\">\n",
       "  <thead>\n",
       "    <tr style=\"text-align: right;\">\n",
       "      <th></th>\n",
       "      <th>I</th>\n",
       "      <th>DISPATCH</th>\n",
       "      <th>PRICE</th>\n",
       "      <th>1</th>\n",
       "      <th>SETTLEMENTDATE</th>\n",
       "      <th>RUNNO</th>\n",
       "      <th>REGIONID</th>\n",
       "      <th>DISPATCHINTERVAL</th>\n",
       "      <th>INTERVENTION</th>\n",
       "      <th>RRP</th>\n",
       "      <th>...</th>\n",
       "      <th>RAISE1SECRRP</th>\n",
       "      <th>RAISE1SECROP</th>\n",
       "      <th>RAISE1SECAPCFLAG</th>\n",
       "      <th>LOWER1SECRRP</th>\n",
       "      <th>LOWER1SECROP</th>\n",
       "      <th>LOWER1SECAPCFLAG</th>\n",
       "      <th>PRE_AP_RAISE1_PRICE</th>\n",
       "      <th>PRE_AP_LOWER1_PRICE</th>\n",
       "      <th>CUMUL_PRE_AP_RAISE1_PRICE</th>\n",
       "      <th>CUMUL_PRE_AP_LOWER1_PRICE</th>\n",
       "    </tr>\n",
       "  </thead>\n",
       "  <tbody>\n",
       "    <tr>\n",
       "      <th>0</th>\n",
       "      <td>D</td>\n",
       "      <td>DISPATCH</td>\n",
       "      <td>PRICE</td>\n",
       "      <td>1.0</td>\n",
       "      <td>2019/01/01 00:05:00</td>\n",
       "      <td>1.0</td>\n",
       "      <td>NSW1</td>\n",
       "      <td>2.018123e+10</td>\n",
       "      <td>0.0</td>\n",
       "      <td>68.09260</td>\n",
       "      <td>...</td>\n",
       "      <td>NaN</td>\n",
       "      <td>NaN</td>\n",
       "      <td>NaN</td>\n",
       "      <td>NaN</td>\n",
       "      <td>NaN</td>\n",
       "      <td>NaN</td>\n",
       "      <td>NaN</td>\n",
       "      <td>NaN</td>\n",
       "      <td>NaN</td>\n",
       "      <td>NaN</td>\n",
       "    </tr>\n",
       "    <tr>\n",
       "      <th>1</th>\n",
       "      <td>D</td>\n",
       "      <td>DISPATCH</td>\n",
       "      <td>PRICE</td>\n",
       "      <td>1.0</td>\n",
       "      <td>2019/01/01 00:05:00</td>\n",
       "      <td>1.0</td>\n",
       "      <td>QLD1</td>\n",
       "      <td>2.018123e+10</td>\n",
       "      <td>0.0</td>\n",
       "      <td>64.82955</td>\n",
       "      <td>...</td>\n",
       "      <td>NaN</td>\n",
       "      <td>NaN</td>\n",
       "      <td>NaN</td>\n",
       "      <td>NaN</td>\n",
       "      <td>NaN</td>\n",
       "      <td>NaN</td>\n",
       "      <td>NaN</td>\n",
       "      <td>NaN</td>\n",
       "      <td>NaN</td>\n",
       "      <td>NaN</td>\n",
       "    </tr>\n",
       "    <tr>\n",
       "      <th>2</th>\n",
       "      <td>D</td>\n",
       "      <td>DISPATCH</td>\n",
       "      <td>PRICE</td>\n",
       "      <td>1.0</td>\n",
       "      <td>2019/01/01 00:05:00</td>\n",
       "      <td>1.0</td>\n",
       "      <td>SA1</td>\n",
       "      <td>2.018123e+10</td>\n",
       "      <td>0.0</td>\n",
       "      <td>76.50000</td>\n",
       "      <td>...</td>\n",
       "      <td>NaN</td>\n",
       "      <td>NaN</td>\n",
       "      <td>NaN</td>\n",
       "      <td>NaN</td>\n",
       "      <td>NaN</td>\n",
       "      <td>NaN</td>\n",
       "      <td>NaN</td>\n",
       "      <td>NaN</td>\n",
       "      <td>NaN</td>\n",
       "      <td>NaN</td>\n",
       "    </tr>\n",
       "  </tbody>\n",
       "</table>\n",
       "<p>3 rows × 72 columns</p>\n",
       "</div>"
      ],
      "text/plain": [
       "   I  DISPATCH  PRICE    1       SETTLEMENTDATE  RUNNO REGIONID  \\\n",
       "0  D  DISPATCH  PRICE  1.0  2019/01/01 00:05:00    1.0     NSW1   \n",
       "1  D  DISPATCH  PRICE  1.0  2019/01/01 00:05:00    1.0     QLD1   \n",
       "2  D  DISPATCH  PRICE  1.0  2019/01/01 00:05:00    1.0      SA1   \n",
       "\n",
       "   DISPATCHINTERVAL  INTERVENTION       RRP  ...  RAISE1SECRRP  RAISE1SECROP  \\\n",
       "0      2.018123e+10           0.0  68.09260  ...           NaN           NaN   \n",
       "1      2.018123e+10           0.0  64.82955  ...           NaN           NaN   \n",
       "2      2.018123e+10           0.0  76.50000  ...           NaN           NaN   \n",
       "\n",
       "   RAISE1SECAPCFLAG  LOWER1SECRRP LOWER1SECROP  LOWER1SECAPCFLAG  \\\n",
       "0               NaN           NaN          NaN               NaN   \n",
       "1               NaN           NaN          NaN               NaN   \n",
       "2               NaN           NaN          NaN               NaN   \n",
       "\n",
       "   PRE_AP_RAISE1_PRICE  PRE_AP_LOWER1_PRICE  CUMUL_PRE_AP_RAISE1_PRICE  \\\n",
       "0                  NaN                  NaN                        NaN   \n",
       "1                  NaN                  NaN                        NaN   \n",
       "2                  NaN                  NaN                        NaN   \n",
       "\n",
       "   CUMUL_PRE_AP_LOWER1_PRICE  \n",
       "0                        NaN  \n",
       "1                        NaN  \n",
       "2                        NaN  \n",
       "\n",
       "[3 rows x 72 columns]"
      ]
     },
     "execution_count": 12,
     "metadata": {},
     "output_type": "execute_result"
    }
   ],
   "source": [
    "df_dispatchprice.head(3)"
   ]
  },
  {
   "cell_type": "code",
   "execution_count": 13,
   "id": "481e838a-f2c5-4403-ada4-d1bebdf17bbd",
   "metadata": {},
   "outputs": [
    {
     "data": {
      "text/html": [
       "<div>\n",
       "<style scoped>\n",
       "    .dataframe tbody tr th:only-of-type {\n",
       "        vertical-align: middle;\n",
       "    }\n",
       "\n",
       "    .dataframe tbody tr th {\n",
       "        vertical-align: top;\n",
       "    }\n",
       "\n",
       "    .dataframe thead th {\n",
       "        text-align: right;\n",
       "    }\n",
       "</style>\n",
       "<table border=\"1\" class=\"dataframe\">\n",
       "  <thead>\n",
       "    <tr style=\"text-align: right;\">\n",
       "      <th></th>\n",
       "      <th>I</th>\n",
       "      <th>DEMAND</th>\n",
       "      <th>PERIOD</th>\n",
       "      <th>1</th>\n",
       "      <th>EFFECTIVEDATE</th>\n",
       "      <th>SETTLEMENTDATE</th>\n",
       "      <th>REGIONID</th>\n",
       "      <th>OFFERDATE</th>\n",
       "      <th>PERIODID</th>\n",
       "      <th>VERSIONNO</th>\n",
       "      <th>RESDEMAND</th>\n",
       "      <th>DEMAND90PROBABILITY</th>\n",
       "      <th>DEMAND10PROBABILITY</th>\n",
       "      <th>LASTCHANGED</th>\n",
       "      <th>MR_SCHEDULE</th>\n",
       "    </tr>\n",
       "  </thead>\n",
       "  <tbody>\n",
       "    <tr>\n",
       "      <th>0</th>\n",
       "      <td>D</td>\n",
       "      <td>DEMAND</td>\n",
       "      <td>PERIOD</td>\n",
       "      <td>1.0</td>\n",
       "      <td>2019/01/01 00:00:00</td>\n",
       "      <td>2019/01/01 00:00:00</td>\n",
       "      <td>NSW1</td>\n",
       "      <td>2018/12/25 00:00:00</td>\n",
       "      <td>1.0</td>\n",
       "      <td>1.0</td>\n",
       "      <td>6562.0</td>\n",
       "      <td>6209.0</td>\n",
       "      <td>6915.0</td>\n",
       "      <td>2018/12/25 00:28:20</td>\n",
       "      <td>0.0</td>\n",
       "    </tr>\n",
       "    <tr>\n",
       "      <th>1</th>\n",
       "      <td>D</td>\n",
       "      <td>DEMAND</td>\n",
       "      <td>PERIOD</td>\n",
       "      <td>1.0</td>\n",
       "      <td>2019/01/01 00:00:00</td>\n",
       "      <td>2019/01/01 00:00:00</td>\n",
       "      <td>NSW1</td>\n",
       "      <td>2018/12/25 00:00:00</td>\n",
       "      <td>2.0</td>\n",
       "      <td>1.0</td>\n",
       "      <td>6609.0</td>\n",
       "      <td>6253.0</td>\n",
       "      <td>6964.0</td>\n",
       "      <td>2018/12/25 00:28:20</td>\n",
       "      <td>0.0</td>\n",
       "    </tr>\n",
       "    <tr>\n",
       "      <th>2</th>\n",
       "      <td>D</td>\n",
       "      <td>DEMAND</td>\n",
       "      <td>PERIOD</td>\n",
       "      <td>1.0</td>\n",
       "      <td>2019/01/01 00:00:00</td>\n",
       "      <td>2019/01/01 00:00:00</td>\n",
       "      <td>NSW1</td>\n",
       "      <td>2018/12/25 00:00:00</td>\n",
       "      <td>3.0</td>\n",
       "      <td>1.0</td>\n",
       "      <td>6762.0</td>\n",
       "      <td>6398.0</td>\n",
       "      <td>7126.0</td>\n",
       "      <td>2018/12/25 00:28:20</td>\n",
       "      <td>0.0</td>\n",
       "    </tr>\n",
       "  </tbody>\n",
       "</table>\n",
       "</div>"
      ],
      "text/plain": [
       "   I  DEMAND  PERIOD    1        EFFECTIVEDATE       SETTLEMENTDATE REGIONID  \\\n",
       "0  D  DEMAND  PERIOD  1.0  2019/01/01 00:00:00  2019/01/01 00:00:00     NSW1   \n",
       "1  D  DEMAND  PERIOD  1.0  2019/01/01 00:00:00  2019/01/01 00:00:00     NSW1   \n",
       "2  D  DEMAND  PERIOD  1.0  2019/01/01 00:00:00  2019/01/01 00:00:00     NSW1   \n",
       "\n",
       "             OFFERDATE  PERIODID  VERSIONNO  RESDEMAND  DEMAND90PROBABILITY  \\\n",
       "0  2018/12/25 00:00:00       1.0        1.0     6562.0               6209.0   \n",
       "1  2018/12/25 00:00:00       2.0        1.0     6609.0               6253.0   \n",
       "2  2018/12/25 00:00:00       3.0        1.0     6762.0               6398.0   \n",
       "\n",
       "   DEMAND10PROBABILITY          LASTCHANGED  MR_SCHEDULE  \n",
       "0               6915.0  2018/12/25 00:28:20          0.0  \n",
       "1               6964.0  2018/12/25 00:28:20          0.0  \n",
       "2               7126.0  2018/12/25 00:28:20          0.0  "
      ]
     },
     "execution_count": 13,
     "metadata": {},
     "output_type": "execute_result"
    }
   ],
   "source": [
    "df_demand.head(3)"
   ]
  },
  {
   "cell_type": "code",
   "execution_count": 14,
   "id": "eb308d3f-b9af-413c-a8e2-6ca40a75c9c1",
   "metadata": {},
   "outputs": [
    {
     "data": {
      "text/html": [
       "<div>\n",
       "<style scoped>\n",
       "    .dataframe tbody tr th:only-of-type {\n",
       "        vertical-align: middle;\n",
       "    }\n",
       "\n",
       "    .dataframe tbody tr th {\n",
       "        vertical-align: top;\n",
       "    }\n",
       "\n",
       "    .dataframe thead th {\n",
       "        text-align: right;\n",
       "    }\n",
       "</style>\n",
       "<table border=\"1\" class=\"dataframe\">\n",
       "  <thead>\n",
       "    <tr style=\"text-align: right;\">\n",
       "      <th></th>\n",
       "      <th>I</th>\n",
       "      <th>DISPATCH</th>\n",
       "      <th>UNIT_SCADA</th>\n",
       "      <th>1</th>\n",
       "      <th>SETTLEMENTDATE</th>\n",
       "      <th>DUID</th>\n",
       "      <th>SCADAVALUE</th>\n",
       "      <th>LASTCHANGED</th>\n",
       "    </tr>\n",
       "  </thead>\n",
       "  <tbody>\n",
       "    <tr>\n",
       "      <th>0</th>\n",
       "      <td>D</td>\n",
       "      <td>DISPATCH</td>\n",
       "      <td>UNIT_SCADA</td>\n",
       "      <td>1.0</td>\n",
       "      <td>2019/01/01 00:05:00</td>\n",
       "      <td>BARCSF1</td>\n",
       "      <td>0.500000</td>\n",
       "      <td>NaN</td>\n",
       "    </tr>\n",
       "    <tr>\n",
       "      <th>1</th>\n",
       "      <td>D</td>\n",
       "      <td>DISPATCH</td>\n",
       "      <td>UNIT_SCADA</td>\n",
       "      <td>1.0</td>\n",
       "      <td>2019/01/01 00:05:00</td>\n",
       "      <td>BUTLERSG</td>\n",
       "      <td>10.299998</td>\n",
       "      <td>NaN</td>\n",
       "    </tr>\n",
       "    <tr>\n",
       "      <th>2</th>\n",
       "      <td>D</td>\n",
       "      <td>DISPATCH</td>\n",
       "      <td>UNIT_SCADA</td>\n",
       "      <td>1.0</td>\n",
       "      <td>2019/01/01 00:05:00</td>\n",
       "      <td>CALL_A_4</td>\n",
       "      <td>0.000000</td>\n",
       "      <td>NaN</td>\n",
       "    </tr>\n",
       "  </tbody>\n",
       "</table>\n",
       "</div>"
      ],
      "text/plain": [
       "   I  DISPATCH  UNIT_SCADA    1       SETTLEMENTDATE      DUID  SCADAVALUE  \\\n",
       "0  D  DISPATCH  UNIT_SCADA  1.0  2019/01/01 00:05:00   BARCSF1    0.500000   \n",
       "1  D  DISPATCH  UNIT_SCADA  1.0  2019/01/01 00:05:00  BUTLERSG   10.299998   \n",
       "2  D  DISPATCH  UNIT_SCADA  1.0  2019/01/01 00:05:00  CALL_A_4    0.000000   \n",
       "\n",
       "  LASTCHANGED  \n",
       "0         NaN  \n",
       "1         NaN  \n",
       "2         NaN  "
      ]
     },
     "execution_count": 14,
     "metadata": {},
     "output_type": "execute_result"
    }
   ],
   "source": [
    "df_scada.head(3)"
   ]
  },
  {
   "cell_type": "code",
   "execution_count": 13,
   "id": "67693e06-a98e-46a3-88cb-4787c10907ca",
   "metadata": {},
   "outputs": [],
   "source": [
    "dfscada = df_scada[df_scada['I'] == \"D\"]"
   ]
  },
  {
   "cell_type": "code",
   "execution_count": 17,
   "id": "880a6ec3-6efb-439f-aafc-0425d16bfdc3",
   "metadata": {},
   "outputs": [],
   "source": [
    "df_price_grouped = groupby_columns_agg_by_date_hour(df=df_dispatchprice,\\\n",
    "                                 date_column='SETTLEMENTDATE',\\\n",
    "                                 group_columns=['REGIONID'], \\\n",
    "                                 value_column='RRP',\\\n",
    "                                agg_method=\"avg\")"
   ]
  },
  {
   "cell_type": "code",
   "execution_count": 18,
   "id": "dc3cbb86-71e9-47ce-b43f-8755bd220c93",
   "metadata": {},
   "outputs": [
    {
     "data": {
      "text/plain": [
       "REGIONID     266765\n",
       "Date_Hour    266765\n",
       "RRP          266765\n",
       "dtype: int64"
      ]
     },
     "execution_count": 18,
     "metadata": {},
     "output_type": "execute_result"
    }
   ],
   "source": [
    "df_price_grouped.count()"
   ]
  },
  {
   "cell_type": "code",
   "execution_count": 19,
   "id": "347a68f0-2ece-4e0f-a883-18126bcdab25",
   "metadata": {},
   "outputs": [],
   "source": [
    "df_price_grouped.to_csv(\"PRICE_groupby_hour_regionid_avg.csv\", index=False)"
   ]
  },
  {
   "cell_type": "code",
   "execution_count": 20,
   "id": "1729821e-5dfb-4bf0-96d9-86025d7e1bf8",
   "metadata": {},
   "outputs": [],
   "source": [
    "df_demand_grouped = groupby_columns_agg_by_date_hour(df=df_demand,\\\n",
    "                                 date_column='SETTLEMENTDATE',\\\n",
    "                                 group_columns=['REGIONID'], \\\n",
    "                                 value_column='RESDEMAND',\\\n",
    "                                agg_method=\"sum\")"
   ]
  },
  {
   "cell_type": "code",
   "execution_count": 21,
   "id": "c2d708b5-674e-4808-8b92-45c20a8a41a3",
   "metadata": {},
   "outputs": [
    {
     "data": {
      "text/plain": [
       "REGIONID     11115\n",
       "Date_Hour    11115\n",
       "RESDEMAND    11115\n",
       "dtype: int64"
      ]
     },
     "execution_count": 21,
     "metadata": {},
     "output_type": "execute_result"
    }
   ],
   "source": [
    "df_demand_grouped.count()"
   ]
  },
  {
   "cell_type": "code",
   "execution_count": 22,
   "id": "382a1f06-5636-4b82-a081-351e1babfa15",
   "metadata": {},
   "outputs": [],
   "source": [
    "df_demand_grouped.to_csv(\"DEMAND_groupby_hour_regionid_sum.csv\", index=False)"
   ]
  },
  {
   "cell_type": "code",
   "execution_count": null,
   "id": "d2ecbe3a-3230-453d-ae77-96c331a8695f",
   "metadata": {},
   "outputs": [],
   "source": [
    "df_participants_select = df_participants[['Fuel Source - Descriptor', 'DUID', 'Technology Type - Primary', 'Region']]\n",
    "df_scada_merged_participants = dfscada.merge(df_participants_select, on=\"DUID\", how=\"left\")"
   ]
  },
  {
   "cell_type": "code",
   "execution_count": null,
   "id": "8e6ebaac-f268-48b4-899f-9a3246a23d94",
   "metadata": {},
   "outputs": [],
   "source": [
    "df_scada_grouped = groupby_columns_agg_by_date_hour_duid_keep(df=df_scada_merged_participants,\\\n",
    "                                 date_column='SETTLEMENTDATE',\\\n",
    "                                 group_columns=['Region'], \\\n",
    "                                 value_column='SCADAVALUE',\\\n",
    "                                duid_column='DUID',\\\n",
    "                                agg_method=\"sum\")"
   ]
  },
  {
   "cell_type": "code",
   "execution_count": null,
   "id": "1d41e2da-2d58-4efe-8ded-778584d4db2d",
   "metadata": {},
   "outputs": [],
   "source": [
    "df_scada_grouped.count()"
   ]
  },
  {
   "cell_type": "code",
   "execution_count": null,
   "id": "cf99e156-1b07-47bb-89d7-5ef6d67f2464",
   "metadata": {},
   "outputs": [],
   "source": [
    "df_scada_grouped.to_csv(\"SCADA_JOINED_groupby_hour_regionid_sum.csv\", index=False)"
   ]
  },
  {
   "cell_type": "markdown",
   "id": "52e0b41a-159a-429c-841b-d3f236acf42b",
   "metadata": {},
   "source": [
    "# EDA "
   ]
  },
  {
   "cell_type": "markdown",
   "id": "9c1bc9f7-fc9c-4777-8335-5fe5e7b7c643",
   "metadata": {},
   "source": [
    "## 1D Exploration"
   ]
  },
  {
   "cell_type": "markdown",
   "id": "f20573c7-5861-45ed-a128-3b3964a69745",
   "metadata": {},
   "source": [
    "<div style=\"background-color: lightblue; padding: 10px;\">\n",
    "\n",
    "The data used for this EDA is now from 5 sources:\n",
    "-  DISPATCH_UNIT_SCADA for power generation.\n",
    "-  DUDETAILSUMMARY for dispatchable unit details.\n",
    "-  PERDEMAND for demand data.\n",
    "-  DISPATCHPRICE for pricing data.\n",
    "-  Data from \"NEM Registration and Exemption List.xlsx\" file for energy types.\n",
    "\n",
    "Data used is from Jan 2019 to Jan 2025.\n",
    "\n",
    "</div>"
   ]
  },
  {
   "cell_type": "markdown",
   "id": "26e8b2dd-b707-4bd7-97bb-1e1ca4d00df6",
   "metadata": {},
   "source": [
    "<div style=\"background-color: lightblue; padding: 10px;\">\n",
    "We need to sample data before use.\n",
    "</div>"
   ]
  },
  {
   "cell_type": "code",
   "execution_count": 14,
   "id": "4523a957-eac4-4fd5-8ce3-f353f19bbd46",
   "metadata": {},
   "outputs": [],
   "source": [
    "df_price_sample = sample_data(df=df_dispatchprice, \\\n",
    "                              sample_fraction=0.05)"
   ]
  },
  {
   "cell_type": "code",
   "execution_count": 15,
   "id": "a328a8c7-e46a-4728-b9ee-8f45692153d9",
   "metadata": {},
   "outputs": [],
   "source": [
    "df_demand_sample = sample_data(df=df_demand, \\\n",
    "                              sample_fraction=0.05)"
   ]
  },
  {
   "cell_type": "code",
   "execution_count": 16,
   "id": "9dec7955-3dd0-488a-bd33-4af7ebdcde18",
   "metadata": {},
   "outputs": [],
   "source": [
    "df_scada_sample = sample_data(df=df_scada, \\\n",
    "                              sample_fraction=0.05)"
   ]
  },
  {
   "cell_type": "code",
   "execution_count": 17,
   "id": "06a58191-b3b5-49b6-b205-c897a6a20f69",
   "metadata": {},
   "outputs": [],
   "source": [
    "df_price_sample.to_csv(\"PRICE_sample_0.05.csv\", index=False)\n",
    "df_demand_sample.to_csv(\"DEMAND_sample_0.05.csv\", index=False)\n",
    "df_scada_sample.to_csv(\"SCADA_sample_0.05.csv\", index=False)"
   ]
  },
  {
   "cell_type": "markdown",
   "id": "e853278a-55ed-43f6-9600-6e72167f4342",
   "metadata": {},
   "source": [
    "## Data Summary"
   ]
  },
  {
   "cell_type": "code",
   "execution_count": 24,
   "id": "4dbba4f3-3f02-4c13-a38c-f970869e912d",
   "metadata": {},
   "outputs": [
    {
     "data": {
      "text/plain": [
       "Index(['I', 'DISPATCH', 'PRICE', '1', 'SETTLEMENTDATE', 'RUNNO', 'REGIONID',\n",
       "       'DISPATCHINTERVAL', 'INTERVENTION', 'RRP', 'EEP', 'ROP', 'APCFLAG',\n",
       "       'MARKETSUSPENDEDFLAG', 'LASTCHANGED', 'RAISE6SECRRP', 'RAISE6SECROP',\n",
       "       'RAISE6SECAPCFLAG', 'RAISE60SECRRP', 'RAISE60SECROP',\n",
       "       'RAISE60SECAPCFLAG', 'RAISE5MINRRP', 'RAISE5MINROP', 'RAISE5MINAPCFLAG',\n",
       "       'RAISEREGRRP', 'RAISEREGROP', 'RAISEREGAPCFLAG', 'LOWER6SECRRP',\n",
       "       'LOWER6SECROP', 'LOWER6SECAPCFLAG', 'LOWER60SECRRP', 'LOWER60SECROP',\n",
       "       'LOWER60SECAPCFLAG', 'LOWER5MINRRP', 'LOWER5MINROP', 'LOWER5MINAPCFLAG',\n",
       "       'LOWERREGRRP', 'LOWERREGROP', 'LOWERREGAPCFLAG', 'PRICE_STATUS',\n",
       "       'PRE_AP_ENERGY_PRICE', 'PRE_AP_RAISE6_PRICE', 'PRE_AP_RAISE60_PRICE',\n",
       "       'PRE_AP_RAISE5MIN_PRICE', 'PRE_AP_RAISEREG_PRICE',\n",
       "       'PRE_AP_LOWER6_PRICE', 'PRE_AP_LOWER60_PRICE', 'PRE_AP_LOWER5MIN_PRICE',\n",
       "       'PRE_AP_LOWERREG_PRICE', 'CUMUL_PRE_AP_ENERGY_PRICE',\n",
       "       'CUMUL_PRE_AP_RAISE6_PRICE', 'CUMUL_PRE_AP_RAISE60_PRICE',\n",
       "       'CUMUL_PRE_AP_RAISE5MIN_PRICE', 'CUMUL_PRE_AP_RAISEREG_PRICE',\n",
       "       'CUMUL_PRE_AP_LOWER6_PRICE', 'CUMUL_PRE_AP_LOWER60_PRICE',\n",
       "       'CUMUL_PRE_AP_LOWER5MIN_PRICE', 'CUMUL_PRE_AP_LOWERREG_PRICE', '4', '5',\n",
       "       'OCD_STATUS', 'MII_STATUS', 'RAISE1SECRRP', 'RAISE1SECROP',\n",
       "       'RAISE1SECAPCFLAG', 'LOWER1SECRRP', 'LOWER1SECROP', 'LOWER1SECAPCFLAG',\n",
       "       'PRE_AP_RAISE1_PRICE', 'PRE_AP_LOWER1_PRICE',\n",
       "       'CUMUL_PRE_AP_RAISE1_PRICE', 'CUMUL_PRE_AP_LOWER1_PRICE'],\n",
       "      dtype='object')"
      ]
     },
     "execution_count": 24,
     "metadata": {},
     "output_type": "execute_result"
    }
   ],
   "source": [
    "df_price_sample.columns"
   ]
  },
  {
   "cell_type": "code",
   "execution_count": 29,
   "id": "8b3abe47-a3e0-4330-9442-afd04c236a07",
   "metadata": {},
   "outputs": [
    {
     "data": {
      "text/plain": [
       "Index(['I', 'DEMAND', 'PERIOD', '1', 'EFFECTIVEDATE', 'SETTLEMENTDATE',\n",
       "       'REGIONID', 'OFFERDATE', 'PERIODID', 'VERSIONNO', 'RESDEMAND',\n",
       "       'DEMAND90PROBABILITY', 'DEMAND10PROBABILITY', 'LASTCHANGED',\n",
       "       'MR_SCHEDULE'],\n",
       "      dtype='object')"
      ]
     },
     "execution_count": 29,
     "metadata": {},
     "output_type": "execute_result"
    }
   ],
   "source": [
    "df_demand_sample.columns"
   ]
  },
  {
   "cell_type": "code",
   "execution_count": 27,
   "id": "eaf94a01-7d48-494a-94d4-0f65a1f343fd",
   "metadata": {},
   "outputs": [
    {
     "data": {
      "text/html": [
       "<style type=\"text/css\">\n",
       "#T_ca783_row0_col2, #T_ca783_row0_col3, #T_ca783_row0_col11, #T_ca783_row1_col2, #T_ca783_row1_col3, #T_ca783_row1_col11, #T_ca783_row2_col2, #T_ca783_row2_col3, #T_ca783_row3_col2, #T_ca783_row3_col3, #T_ca783_row4_col2, #T_ca783_row4_col3, #T_ca783_row5_col2, #T_ca783_row5_col3, #T_ca783_row5_col11, #T_ca783_row5_col13, #T_ca783_row5_col15, #T_ca783_row6_col2, #T_ca783_row6_col3, #T_ca783_row7_col2, #T_ca783_row7_col3, #T_ca783_row7_col11, #T_ca783_row7_col13 {\n",
       "  background-color: #506bda;\n",
       "  color: #f1f1f1;\n",
       "}\n",
       "#T_ca783_row0_col4, #T_ca783_row0_col5, #T_ca783_row0_col6, #T_ca783_row0_col7, #T_ca783_row0_col8, #T_ca783_row0_col15, #T_ca783_row1_col4, #T_ca783_row1_col5, #T_ca783_row1_col6, #T_ca783_row1_col7, #T_ca783_row1_col8, #T_ca783_row1_col15, #T_ca783_row2_col4, #T_ca783_row2_col5, #T_ca783_row2_col6, #T_ca783_row2_col7, #T_ca783_row2_col8, #T_ca783_row2_col15, #T_ca783_row3_col4, #T_ca783_row3_col5, #T_ca783_row3_col6, #T_ca783_row3_col7, #T_ca783_row3_col8, #T_ca783_row3_col15, #T_ca783_row7_col4, #T_ca783_row7_col5, #T_ca783_row7_col6, #T_ca783_row7_col7, #T_ca783_row7_col8, #T_ca783_row7_col15 {\n",
       "  background-color: #000000;\n",
       "  color: #f1f1f1;\n",
       "}\n",
       "#T_ca783_row0_col9, #T_ca783_row0_col13, #T_ca783_row0_col14, #T_ca783_row1_col9, #T_ca783_row1_col13, #T_ca783_row1_col14, #T_ca783_row2_col11, #T_ca783_row2_col13, #T_ca783_row2_col14, #T_ca783_row3_col9, #T_ca783_row3_col14, #T_ca783_row4_col4, #T_ca783_row4_col6, #T_ca783_row4_col7, #T_ca783_row4_col8, #T_ca783_row4_col11, #T_ca783_row4_col13, #T_ca783_row4_col14, #T_ca783_row4_col15, #T_ca783_row5_col4, #T_ca783_row5_col5, #T_ca783_row5_col6, #T_ca783_row5_col7, #T_ca783_row5_col8, #T_ca783_row5_col9, #T_ca783_row5_col14, #T_ca783_row6_col4, #T_ca783_row6_col6, #T_ca783_row6_col7, #T_ca783_row6_col11, #T_ca783_row6_col13, #T_ca783_row6_col14, #T_ca783_row6_col15, #T_ca783_row7_col9, #T_ca783_row7_col14 {\n",
       "  background-color: #3b4cc0;\n",
       "  color: #f1f1f1;\n",
       "}\n",
       "#T_ca783_row2_col9 {\n",
       "  background-color: #4e68d8;\n",
       "  color: #f1f1f1;\n",
       "}\n",
       "#T_ca783_row3_col11, #T_ca783_row3_col13, #T_ca783_row6_col8 {\n",
       "  background-color: #3e51c5;\n",
       "  color: #f1f1f1;\n",
       "}\n",
       "#T_ca783_row4_col5 {\n",
       "  background-color: #3d50c3;\n",
       "  color: #f1f1f1;\n",
       "}\n",
       "#T_ca783_row4_col9, #T_ca783_row6_col9 {\n",
       "  background-color: #4a63d3;\n",
       "  color: #f1f1f1;\n",
       "}\n",
       "#T_ca783_row6_col5 {\n",
       "  background-color: #b40426;\n",
       "  color: #f1f1f1;\n",
       "}\n",
       "</style>\n",
       "<table id=\"T_ca783\">\n",
       "  <thead>\n",
       "    <tr>\n",
       "      <th class=\"blank level0\" >&nbsp;</th>\n",
       "      <th id=\"T_ca783_level0_col0\" class=\"col_heading level0 col0\" >Column</th>\n",
       "      <th id=\"T_ca783_level0_col1\" class=\"col_heading level0 col1\" >Type</th>\n",
       "      <th id=\"T_ca783_level0_col2\" class=\"col_heading level0 col2\" >Num Rows</th>\n",
       "      <th id=\"T_ca783_level0_col3\" class=\"col_heading level0 col3\" >Num Non-Null Rows</th>\n",
       "      <th id=\"T_ca783_level0_col4\" class=\"col_heading level0 col4\" >Min</th>\n",
       "      <th id=\"T_ca783_level0_col5\" class=\"col_heading level0 col5\" >Max</th>\n",
       "      <th id=\"T_ca783_level0_col6\" class=\"col_heading level0 col6\" >Mean</th>\n",
       "      <th id=\"T_ca783_level0_col7\" class=\"col_heading level0 col7\" >Median</th>\n",
       "      <th id=\"T_ca783_level0_col8\" class=\"col_heading level0 col8\" >Std Dev</th>\n",
       "      <th id=\"T_ca783_level0_col9\" class=\"col_heading level0 col9\" >Num Unique</th>\n",
       "      <th id=\"T_ca783_level0_col10\" class=\"col_heading level0 col10\" >Most Freq Value</th>\n",
       "      <th id=\"T_ca783_level0_col11\" class=\"col_heading level0 col11\" >Most Freq Count</th>\n",
       "      <th id=\"T_ca783_level0_col12\" class=\"col_heading level0 col12\" >Least Freq Value</th>\n",
       "      <th id=\"T_ca783_level0_col13\" class=\"col_heading level0 col13\" >Least Freq Count</th>\n",
       "      <th id=\"T_ca783_level0_col14\" class=\"col_heading level0 col14\" >Num Nulls</th>\n",
       "      <th id=\"T_ca783_level0_col15\" class=\"col_heading level0 col15\" >Num Zeros</th>\n",
       "    </tr>\n",
       "  </thead>\n",
       "  <tbody>\n",
       "    <tr>\n",
       "      <th id=\"T_ca783_level0_row0\" class=\"row_heading level0 row0\" >0</th>\n",
       "      <td id=\"T_ca783_row0_col0\" class=\"data row0 col0\" >DISPATCH</td>\n",
       "      <td id=\"T_ca783_row0_col1\" class=\"data row0 col1\" >object</td>\n",
       "      <td id=\"T_ca783_row0_col2\" class=\"data row0 col2\" >165401</td>\n",
       "      <td id=\"T_ca783_row0_col3\" class=\"data row0 col3\" >165401</td>\n",
       "      <td id=\"T_ca783_row0_col4\" class=\"data row0 col4\" >nan</td>\n",
       "      <td id=\"T_ca783_row0_col5\" class=\"data row0 col5\" >nan</td>\n",
       "      <td id=\"T_ca783_row0_col6\" class=\"data row0 col6\" >nan</td>\n",
       "      <td id=\"T_ca783_row0_col7\" class=\"data row0 col7\" >nan</td>\n",
       "      <td id=\"T_ca783_row0_col8\" class=\"data row0 col8\" >nan</td>\n",
       "      <td id=\"T_ca783_row0_col9\" class=\"data row0 col9\" >2</td>\n",
       "      <td id=\"T_ca783_row0_col10\" class=\"data row0 col10\" >DISPATCH</td>\n",
       "      <td id=\"T_ca783_row0_col11\" class=\"data row0 col11\" >165398</td>\n",
       "      <td id=\"T_ca783_row0_col12\" class=\"data row0 col12\" >END OF REPORT</td>\n",
       "      <td id=\"T_ca783_row0_col13\" class=\"data row0 col13\" >3</td>\n",
       "      <td id=\"T_ca783_row0_col14\" class=\"data row0 col14\" >0</td>\n",
       "      <td id=\"T_ca783_row0_col15\" class=\"data row0 col15\" >nan</td>\n",
       "    </tr>\n",
       "    <tr>\n",
       "      <th id=\"T_ca783_level0_row1\" class=\"row_heading level0 row1\" >1</th>\n",
       "      <td id=\"T_ca783_row1_col0\" class=\"data row1 col0\" >PRICE</td>\n",
       "      <td id=\"T_ca783_row1_col1\" class=\"data row1 col1\" >object</td>\n",
       "      <td id=\"T_ca783_row1_col2\" class=\"data row1 col2\" >165401</td>\n",
       "      <td id=\"T_ca783_row1_col3\" class=\"data row1 col3\" >165401</td>\n",
       "      <td id=\"T_ca783_row1_col4\" class=\"data row1 col4\" >nan</td>\n",
       "      <td id=\"T_ca783_row1_col5\" class=\"data row1 col5\" >nan</td>\n",
       "      <td id=\"T_ca783_row1_col6\" class=\"data row1 col6\" >nan</td>\n",
       "      <td id=\"T_ca783_row1_col7\" class=\"data row1 col7\" >nan</td>\n",
       "      <td id=\"T_ca783_row1_col8\" class=\"data row1 col8\" >nan</td>\n",
       "      <td id=\"T_ca783_row1_col9\" class=\"data row1 col9\" >4</td>\n",
       "      <td id=\"T_ca783_row1_col10\" class=\"data row1 col10\" >PRICE</td>\n",
       "      <td id=\"T_ca783_row1_col11\" class=\"data row1 col11\" >165398</td>\n",
       "      <td id=\"T_ca783_row1_col12\" class=\"data row1 col12\" >44643</td>\n",
       "      <td id=\"T_ca783_row1_col13\" class=\"data row1 col13\" >1</td>\n",
       "      <td id=\"T_ca783_row1_col14\" class=\"data row1 col14\" >0</td>\n",
       "      <td id=\"T_ca783_row1_col15\" class=\"data row1 col15\" >nan</td>\n",
       "    </tr>\n",
       "    <tr>\n",
       "      <th id=\"T_ca783_level0_row2\" class=\"row_heading level0 row2\" >2</th>\n",
       "      <td id=\"T_ca783_row2_col0\" class=\"data row2 col0\" >SETTLEMENTDATE</td>\n",
       "      <td id=\"T_ca783_row2_col1\" class=\"data row2 col1\" >object</td>\n",
       "      <td id=\"T_ca783_row2_col2\" class=\"data row2 col2\" >165401</td>\n",
       "      <td id=\"T_ca783_row2_col3\" class=\"data row2 col3\" >165398</td>\n",
       "      <td id=\"T_ca783_row2_col4\" class=\"data row2 col4\" >nan</td>\n",
       "      <td id=\"T_ca783_row2_col5\" class=\"data row2 col5\" >nan</td>\n",
       "      <td id=\"T_ca783_row2_col6\" class=\"data row2 col6\" >nan</td>\n",
       "      <td id=\"T_ca783_row2_col7\" class=\"data row2 col7\" >nan</td>\n",
       "      <td id=\"T_ca783_row2_col8\" class=\"data row2 col8\" >nan</td>\n",
       "      <td id=\"T_ca783_row2_col9\" class=\"data row2 col9\" >148624</td>\n",
       "      <td id=\"T_ca783_row2_col10\" class=\"data row2 col10\" >2019/06/09 06:00:00</td>\n",
       "      <td id=\"T_ca783_row2_col11\" class=\"data row2 col11\" >5</td>\n",
       "      <td id=\"T_ca783_row2_col12\" class=\"data row2 col12\" >2020/10/10 06:35:00</td>\n",
       "      <td id=\"T_ca783_row2_col13\" class=\"data row2 col13\" >1</td>\n",
       "      <td id=\"T_ca783_row2_col14\" class=\"data row2 col14\" >3</td>\n",
       "      <td id=\"T_ca783_row2_col15\" class=\"data row2 col15\" >nan</td>\n",
       "    </tr>\n",
       "    <tr>\n",
       "      <th id=\"T_ca783_level0_row3\" class=\"row_heading level0 row3\" >3</th>\n",
       "      <td id=\"T_ca783_row3_col0\" class=\"data row3 col0\" >REGIONID</td>\n",
       "      <td id=\"T_ca783_row3_col1\" class=\"data row3 col1\" >object</td>\n",
       "      <td id=\"T_ca783_row3_col2\" class=\"data row3 col2\" >165401</td>\n",
       "      <td id=\"T_ca783_row3_col3\" class=\"data row3 col3\" >165398</td>\n",
       "      <td id=\"T_ca783_row3_col4\" class=\"data row3 col4\" >nan</td>\n",
       "      <td id=\"T_ca783_row3_col5\" class=\"data row3 col5\" >nan</td>\n",
       "      <td id=\"T_ca783_row3_col6\" class=\"data row3 col6\" >nan</td>\n",
       "      <td id=\"T_ca783_row3_col7\" class=\"data row3 col7\" >nan</td>\n",
       "      <td id=\"T_ca783_row3_col8\" class=\"data row3 col8\" >nan</td>\n",
       "      <td id=\"T_ca783_row3_col9\" class=\"data row3 col9\" >5</td>\n",
       "      <td id=\"T_ca783_row3_col10\" class=\"data row3 col10\" >TAS1</td>\n",
       "      <td id=\"T_ca783_row3_col11\" class=\"data row3 col11\" >33221</td>\n",
       "      <td id=\"T_ca783_row3_col12\" class=\"data row3 col12\" >NSW1</td>\n",
       "      <td id=\"T_ca783_row3_col13\" class=\"data row3 col13\" >32967</td>\n",
       "      <td id=\"T_ca783_row3_col14\" class=\"data row3 col14\" >3</td>\n",
       "      <td id=\"T_ca783_row3_col15\" class=\"data row3 col15\" >nan</td>\n",
       "    </tr>\n",
       "    <tr>\n",
       "      <th id=\"T_ca783_level0_row4\" class=\"row_heading level0 row4\" >4</th>\n",
       "      <td id=\"T_ca783_row4_col0\" class=\"data row4 col0\" >RRP</td>\n",
       "      <td id=\"T_ca783_row4_col1\" class=\"data row4 col1\" >float64</td>\n",
       "      <td id=\"T_ca783_row4_col2\" class=\"data row4 col2\" >165401</td>\n",
       "      <td id=\"T_ca783_row4_col3\" class=\"data row4 col3\" >165398</td>\n",
       "      <td id=\"T_ca783_row4_col4\" class=\"data row4 col4\" >-1000.000000</td>\n",
       "      <td id=\"T_ca783_row4_col5\" class=\"data row4 col5\" >17500.000000</td>\n",
       "      <td id=\"T_ca783_row4_col6\" class=\"data row4 col6\" >88.664568</td>\n",
       "      <td id=\"T_ca783_row4_col7\" class=\"data row4 col7\" >60.964670</td>\n",
       "      <td id=\"T_ca783_row4_col8\" class=\"data row4 col8\" >359.925728</td>\n",
       "      <td id=\"T_ca783_row4_col9\" class=\"data row4 col9\" >114800</td>\n",
       "      <td id=\"T_ca783_row4_col10\" class=\"data row4 col10\" >0.000000</td>\n",
       "      <td id=\"T_ca783_row4_col11\" class=\"data row4 col11\" >707</td>\n",
       "      <td id=\"T_ca783_row4_col12\" class=\"data row4 col12\" >145.690750</td>\n",
       "      <td id=\"T_ca783_row4_col13\" class=\"data row4 col13\" >1</td>\n",
       "      <td id=\"T_ca783_row4_col14\" class=\"data row4 col14\" >3</td>\n",
       "      <td id=\"T_ca783_row4_col15\" class=\"data row4 col15\" >707.000000</td>\n",
       "    </tr>\n",
       "    <tr>\n",
       "      <th id=\"T_ca783_level0_row5\" class=\"row_heading level0 row5\" >5</th>\n",
       "      <td id=\"T_ca783_row5_col0\" class=\"data row5 col0\" >EEP</td>\n",
       "      <td id=\"T_ca783_row5_col1\" class=\"data row5 col1\" >float64</td>\n",
       "      <td id=\"T_ca783_row5_col2\" class=\"data row5 col2\" >165401</td>\n",
       "      <td id=\"T_ca783_row5_col3\" class=\"data row5 col3\" >165398</td>\n",
       "      <td id=\"T_ca783_row5_col4\" class=\"data row5 col4\" >0.000000</td>\n",
       "      <td id=\"T_ca783_row5_col5\" class=\"data row5 col5\" >0.000000</td>\n",
       "      <td id=\"T_ca783_row5_col6\" class=\"data row5 col6\" >0.000000</td>\n",
       "      <td id=\"T_ca783_row5_col7\" class=\"data row5 col7\" >0.000000</td>\n",
       "      <td id=\"T_ca783_row5_col8\" class=\"data row5 col8\" >0.000000</td>\n",
       "      <td id=\"T_ca783_row5_col9\" class=\"data row5 col9\" >1</td>\n",
       "      <td id=\"T_ca783_row5_col10\" class=\"data row5 col10\" >0.000000</td>\n",
       "      <td id=\"T_ca783_row5_col11\" class=\"data row5 col11\" >165398</td>\n",
       "      <td id=\"T_ca783_row5_col12\" class=\"data row5 col12\" >0.000000</td>\n",
       "      <td id=\"T_ca783_row5_col13\" class=\"data row5 col13\" >165398</td>\n",
       "      <td id=\"T_ca783_row5_col14\" class=\"data row5 col14\" >3</td>\n",
       "      <td id=\"T_ca783_row5_col15\" class=\"data row5 col15\" >165398.000000</td>\n",
       "    </tr>\n",
       "    <tr>\n",
       "      <th id=\"T_ca783_level0_row6\" class=\"row_heading level0 row6\" >6</th>\n",
       "      <td id=\"T_ca783_row6_col0\" class=\"data row6 col0\" >ROP</td>\n",
       "      <td id=\"T_ca783_row6_col1\" class=\"data row6 col1\" >float64</td>\n",
       "      <td id=\"T_ca783_row6_col2\" class=\"data row6 col2\" >165401</td>\n",
       "      <td id=\"T_ca783_row6_col3\" class=\"data row6 col3\" >165398</td>\n",
       "      <td id=\"T_ca783_row6_col4\" class=\"data row6 col4\" >-1000.003810</td>\n",
       "      <td id=\"T_ca783_row6_col5\" class=\"data row6 col5\" >2265000.000000</td>\n",
       "      <td id=\"T_ca783_row6_col6\" class=\"data row6 col6\" >1171.253437</td>\n",
       "      <td id=\"T_ca783_row6_col7\" class=\"data row6 col7\" >60.799880</td>\n",
       "      <td id=\"T_ca783_row6_col8\" class=\"data row6 col8\" >31087.227625</td>\n",
       "      <td id=\"T_ca783_row6_col9\" class=\"data row6 col9\" >115096</td>\n",
       "      <td id=\"T_ca783_row6_col10\" class=\"data row6 col10\" >0.000000</td>\n",
       "      <td id=\"T_ca783_row6_col11\" class=\"data row6 col11\" >718</td>\n",
       "      <td id=\"T_ca783_row6_col12\" class=\"data row6 col12\" >277.399960</td>\n",
       "      <td id=\"T_ca783_row6_col13\" class=\"data row6 col13\" >1</td>\n",
       "      <td id=\"T_ca783_row6_col14\" class=\"data row6 col14\" >3</td>\n",
       "      <td id=\"T_ca783_row6_col15\" class=\"data row6 col15\" >718.000000</td>\n",
       "    </tr>\n",
       "    <tr>\n",
       "      <th id=\"T_ca783_level0_row7\" class=\"row_heading level0 row7\" >7</th>\n",
       "      <td id=\"T_ca783_row7_col0\" class=\"data row7 col0\" >PRICE_STATUS</td>\n",
       "      <td id=\"T_ca783_row7_col1\" class=\"data row7 col1\" >object</td>\n",
       "      <td id=\"T_ca783_row7_col2\" class=\"data row7 col2\" >165401</td>\n",
       "      <td id=\"T_ca783_row7_col3\" class=\"data row7 col3\" >165398</td>\n",
       "      <td id=\"T_ca783_row7_col4\" class=\"data row7 col4\" >nan</td>\n",
       "      <td id=\"T_ca783_row7_col5\" class=\"data row7 col5\" >nan</td>\n",
       "      <td id=\"T_ca783_row7_col6\" class=\"data row7 col6\" >nan</td>\n",
       "      <td id=\"T_ca783_row7_col7\" class=\"data row7 col7\" >nan</td>\n",
       "      <td id=\"T_ca783_row7_col8\" class=\"data row7 col8\" >nan</td>\n",
       "      <td id=\"T_ca783_row7_col9\" class=\"data row7 col9\" >1</td>\n",
       "      <td id=\"T_ca783_row7_col10\" class=\"data row7 col10\" >FIRM</td>\n",
       "      <td id=\"T_ca783_row7_col11\" class=\"data row7 col11\" >165398</td>\n",
       "      <td id=\"T_ca783_row7_col12\" class=\"data row7 col12\" >FIRM</td>\n",
       "      <td id=\"T_ca783_row7_col13\" class=\"data row7 col13\" >165398</td>\n",
       "      <td id=\"T_ca783_row7_col14\" class=\"data row7 col14\" >3</td>\n",
       "      <td id=\"T_ca783_row7_col15\" class=\"data row7 col15\" >nan</td>\n",
       "    </tr>\n",
       "  </tbody>\n",
       "</table>\n"
      ],
      "text/plain": [
       "<pandas.io.formats.style.Styler at 0x2aa53faf0>"
      ]
     },
     "execution_count": 27,
     "metadata": {},
     "output_type": "execute_result"
    }
   ],
   "source": [
    "summarize_table_info(df_price_sample[['DISPATCH', 'PRICE', 'SETTLEMENTDATE', 'REGIONID', 'RRP', 'EEP', 'ROP', 'PRICE_STATUS']])"
   ]
  },
  {
   "cell_type": "code",
   "execution_count": 31,
   "id": "c416d217-6381-4c20-a060-1f87cc1934fe",
   "metadata": {},
   "outputs": [
    {
     "data": {
      "text/html": [
       "<style type=\"text/css\">\n",
       "#T_5cba4_row0_col2, #T_5cba4_row0_col3, #T_5cba4_row0_col11, #T_5cba4_row1_col2, #T_5cba4_row1_col3, #T_5cba4_row1_col11, #T_5cba4_row2_col2, #T_5cba4_row2_col3, #T_5cba4_row3_col2, #T_5cba4_row3_col3, #T_5cba4_row4_col2, #T_5cba4_row4_col3, #T_5cba4_row5_col2, #T_5cba4_row5_col3, #T_5cba4_row6_col2, #T_5cba4_row6_col3, #T_5cba4_row7_col2, #T_5cba4_row7_col3, #T_5cba4_row8_col2, #T_5cba4_row8_col3, #T_5cba4_row9_col2, #T_5cba4_row9_col3, #T_5cba4_row10_col2, #T_5cba4_row10_col3 {\n",
       "  background-color: #b40426;\n",
       "  color: #f1f1f1;\n",
       "}\n",
       "#T_5cba4_row0_col4, #T_5cba4_row0_col5, #T_5cba4_row0_col6, #T_5cba4_row0_col7, #T_5cba4_row0_col8, #T_5cba4_row0_col15, #T_5cba4_row1_col4, #T_5cba4_row1_col5, #T_5cba4_row1_col6, #T_5cba4_row1_col7, #T_5cba4_row1_col8, #T_5cba4_row1_col15, #T_5cba4_row2_col4, #T_5cba4_row2_col5, #T_5cba4_row2_col6, #T_5cba4_row2_col7, #T_5cba4_row2_col8, #T_5cba4_row2_col15, #T_5cba4_row3_col4, #T_5cba4_row3_col5, #T_5cba4_row3_col6, #T_5cba4_row3_col7, #T_5cba4_row3_col8, #T_5cba4_row3_col15, #T_5cba4_row4_col4, #T_5cba4_row4_col5, #T_5cba4_row4_col6, #T_5cba4_row4_col7, #T_5cba4_row4_col8, #T_5cba4_row4_col15, #T_5cba4_row5_col4, #T_5cba4_row5_col5, #T_5cba4_row5_col6, #T_5cba4_row5_col7, #T_5cba4_row5_col8, #T_5cba4_row5_col15, #T_5cba4_row10_col4, #T_5cba4_row10_col5, #T_5cba4_row10_col6, #T_5cba4_row10_col7, #T_5cba4_row10_col8, #T_5cba4_row10_col15 {\n",
       "  background-color: #000000;\n",
       "  color: #f1f1f1;\n",
       "}\n",
       "#T_5cba4_row0_col9, #T_5cba4_row0_col13, #T_5cba4_row0_col14, #T_5cba4_row1_col9, #T_5cba4_row1_col13, #T_5cba4_row1_col14, #T_5cba4_row2_col14, #T_5cba4_row3_col14, #T_5cba4_row4_col9, #T_5cba4_row4_col14, #T_5cba4_row5_col13, #T_5cba4_row5_col14, #T_5cba4_row6_col4, #T_5cba4_row6_col5, #T_5cba4_row6_col6, #T_5cba4_row6_col7, #T_5cba4_row6_col8, #T_5cba4_row6_col9, #T_5cba4_row6_col14, #T_5cba4_row6_col15, #T_5cba4_row7_col13, #T_5cba4_row7_col14, #T_5cba4_row7_col15, #T_5cba4_row8_col13, #T_5cba4_row8_col14, #T_5cba4_row8_col15, #T_5cba4_row9_col13, #T_5cba4_row9_col14, #T_5cba4_row9_col15, #T_5cba4_row10_col11, #T_5cba4_row10_col13, #T_5cba4_row10_col14 {\n",
       "  background-color: #3c4ec2;\n",
       "  color: #f1f1f1;\n",
       "}\n",
       "#T_5cba4_row2_col9, #T_5cba4_row2_col11, #T_5cba4_row2_col13, #T_5cba4_row3_col9, #T_5cba4_row3_col11, #T_5cba4_row3_col13, #T_5cba4_row5_col9, #T_5cba4_row5_col11, #T_5cba4_row7_col5, #T_5cba4_row7_col6, #T_5cba4_row7_col7, #T_5cba4_row7_col8, #T_5cba4_row7_col9, #T_5cba4_row7_col11, #T_5cba4_row8_col5, #T_5cba4_row8_col6, #T_5cba4_row8_col7, #T_5cba4_row8_col8, #T_5cba4_row8_col9, #T_5cba4_row8_col11, #T_5cba4_row9_col5, #T_5cba4_row9_col6, #T_5cba4_row9_col7, #T_5cba4_row9_col8, #T_5cba4_row9_col9, #T_5cba4_row9_col11 {\n",
       "  background-color: #3d50c3;\n",
       "  color: #f1f1f1;\n",
       "}\n",
       "#T_5cba4_row4_col11, #T_5cba4_row4_col13 {\n",
       "  background-color: #7da0f9;\n",
       "  color: #f1f1f1;\n",
       "}\n",
       "#T_5cba4_row6_col11, #T_5cba4_row6_col13 {\n",
       "  background-color: #4358cb;\n",
       "  color: #f1f1f1;\n",
       "}\n",
       "#T_5cba4_row7_col4, #T_5cba4_row8_col4, #T_5cba4_row9_col4 {\n",
       "  background-color: #3b4cc0;\n",
       "  color: #f1f1f1;\n",
       "}\n",
       "#T_5cba4_row10_col9 {\n",
       "  background-color: #4961d2;\n",
       "  color: #f1f1f1;\n",
       "}\n",
       "</style>\n",
       "<table id=\"T_5cba4\">\n",
       "  <thead>\n",
       "    <tr>\n",
       "      <th class=\"blank level0\" >&nbsp;</th>\n",
       "      <th id=\"T_5cba4_level0_col0\" class=\"col_heading level0 col0\" >Column</th>\n",
       "      <th id=\"T_5cba4_level0_col1\" class=\"col_heading level0 col1\" >Type</th>\n",
       "      <th id=\"T_5cba4_level0_col2\" class=\"col_heading level0 col2\" >Num Rows</th>\n",
       "      <th id=\"T_5cba4_level0_col3\" class=\"col_heading level0 col3\" >Num Non-Null Rows</th>\n",
       "      <th id=\"T_5cba4_level0_col4\" class=\"col_heading level0 col4\" >Min</th>\n",
       "      <th id=\"T_5cba4_level0_col5\" class=\"col_heading level0 col5\" >Max</th>\n",
       "      <th id=\"T_5cba4_level0_col6\" class=\"col_heading level0 col6\" >Mean</th>\n",
       "      <th id=\"T_5cba4_level0_col7\" class=\"col_heading level0 col7\" >Median</th>\n",
       "      <th id=\"T_5cba4_level0_col8\" class=\"col_heading level0 col8\" >Std Dev</th>\n",
       "      <th id=\"T_5cba4_level0_col9\" class=\"col_heading level0 col9\" >Num Unique</th>\n",
       "      <th id=\"T_5cba4_level0_col10\" class=\"col_heading level0 col10\" >Most Freq Value</th>\n",
       "      <th id=\"T_5cba4_level0_col11\" class=\"col_heading level0 col11\" >Most Freq Count</th>\n",
       "      <th id=\"T_5cba4_level0_col12\" class=\"col_heading level0 col12\" >Least Freq Value</th>\n",
       "      <th id=\"T_5cba4_level0_col13\" class=\"col_heading level0 col13\" >Least Freq Count</th>\n",
       "      <th id=\"T_5cba4_level0_col14\" class=\"col_heading level0 col14\" >Num Nulls</th>\n",
       "      <th id=\"T_5cba4_level0_col15\" class=\"col_heading level0 col15\" >Num Zeros</th>\n",
       "    </tr>\n",
       "  </thead>\n",
       "  <tbody>\n",
       "    <tr>\n",
       "      <th id=\"T_5cba4_level0_row0\" class=\"row_heading level0 row0\" >0</th>\n",
       "      <td id=\"T_5cba4_row0_col0\" class=\"data row0 col0\" >DEMAND</td>\n",
       "      <td id=\"T_5cba4_row0_col1\" class=\"data row0 col1\" >object</td>\n",
       "      <td id=\"T_5cba4_row0_col2\" class=\"data row0 col2\" >10074618</td>\n",
       "      <td id=\"T_5cba4_row0_col3\" class=\"data row0 col3\" >10074618</td>\n",
       "      <td id=\"T_5cba4_row0_col4\" class=\"data row0 col4\" >nan</td>\n",
       "      <td id=\"T_5cba4_row0_col5\" class=\"data row0 col5\" >nan</td>\n",
       "      <td id=\"T_5cba4_row0_col6\" class=\"data row0 col6\" >nan</td>\n",
       "      <td id=\"T_5cba4_row0_col7\" class=\"data row0 col7\" >nan</td>\n",
       "      <td id=\"T_5cba4_row0_col8\" class=\"data row0 col8\" >nan</td>\n",
       "      <td id=\"T_5cba4_row0_col9\" class=\"data row0 col9\" >2</td>\n",
       "      <td id=\"T_5cba4_row0_col10\" class=\"data row0 col10\" >DEMAND</td>\n",
       "      <td id=\"T_5cba4_row0_col11\" class=\"data row0 col11\" >10074613</td>\n",
       "      <td id=\"T_5cba4_row0_col12\" class=\"data row0 col12\" >END OF REPORT</td>\n",
       "      <td id=\"T_5cba4_row0_col13\" class=\"data row0 col13\" >5</td>\n",
       "      <td id=\"T_5cba4_row0_col14\" class=\"data row0 col14\" >0</td>\n",
       "      <td id=\"T_5cba4_row0_col15\" class=\"data row0 col15\" >nan</td>\n",
       "    </tr>\n",
       "    <tr>\n",
       "      <th id=\"T_5cba4_level0_row1\" class=\"row_heading level0 row1\" >1</th>\n",
       "      <td id=\"T_5cba4_row1_col0\" class=\"data row1 col0\" >PERIOD</td>\n",
       "      <td id=\"T_5cba4_row1_col1\" class=\"data row1 col1\" >object</td>\n",
       "      <td id=\"T_5cba4_row1_col2\" class=\"data row1 col2\" >10074618</td>\n",
       "      <td id=\"T_5cba4_row1_col3\" class=\"data row1 col3\" >10074618</td>\n",
       "      <td id=\"T_5cba4_row1_col4\" class=\"data row1 col4\" >nan</td>\n",
       "      <td id=\"T_5cba4_row1_col5\" class=\"data row1 col5\" >nan</td>\n",
       "      <td id=\"T_5cba4_row1_col6\" class=\"data row1 col6\" >nan</td>\n",
       "      <td id=\"T_5cba4_row1_col7\" class=\"data row1 col7\" >nan</td>\n",
       "      <td id=\"T_5cba4_row1_col8\" class=\"data row1 col8\" >nan</td>\n",
       "      <td id=\"T_5cba4_row1_col9\" class=\"data row1 col9\" >4</td>\n",
       "      <td id=\"T_5cba4_row1_col10\" class=\"data row1 col10\" >PERIOD</td>\n",
       "      <td id=\"T_5cba4_row1_col11\" class=\"data row1 col11\" >10074613</td>\n",
       "      <td id=\"T_5cba4_row1_col12\" class=\"data row1 col12\" >2726883</td>\n",
       "      <td id=\"T_5cba4_row1_col13\" class=\"data row1 col13\" >1</td>\n",
       "      <td id=\"T_5cba4_row1_col14\" class=\"data row1 col14\" >0</td>\n",
       "      <td id=\"T_5cba4_row1_col15\" class=\"data row1 col15\" >nan</td>\n",
       "    </tr>\n",
       "    <tr>\n",
       "      <th id=\"T_5cba4_level0_row2\" class=\"row_heading level0 row2\" >2</th>\n",
       "      <td id=\"T_5cba4_row2_col0\" class=\"data row2 col0\" >EFFECTIVEDATE</td>\n",
       "      <td id=\"T_5cba4_row2_col1\" class=\"data row2 col1\" >object</td>\n",
       "      <td id=\"T_5cba4_row2_col2\" class=\"data row2 col2\" >10074618</td>\n",
       "      <td id=\"T_5cba4_row2_col3\" class=\"data row2 col3\" >10074613</td>\n",
       "      <td id=\"T_5cba4_row2_col4\" class=\"data row2 col4\" >nan</td>\n",
       "      <td id=\"T_5cba4_row2_col5\" class=\"data row2 col5\" >nan</td>\n",
       "      <td id=\"T_5cba4_row2_col6\" class=\"data row2 col6\" >nan</td>\n",
       "      <td id=\"T_5cba4_row2_col7\" class=\"data row2 col7\" >nan</td>\n",
       "      <td id=\"T_5cba4_row2_col8\" class=\"data row2 col8\" >nan</td>\n",
       "      <td id=\"T_5cba4_row2_col9\" class=\"data row2 col9\" >2223</td>\n",
       "      <td id=\"T_5cba4_row2_col10\" class=\"data row2 col10\" >2020/08/18 00:00:00</td>\n",
       "      <td id=\"T_5cba4_row2_col11\" class=\"data row2 col11\" >4944</td>\n",
       "      <td id=\"T_5cba4_row2_col12\" class=\"data row2 col12\" >2025/01/22 00:00:00</td>\n",
       "      <td id=\"T_5cba4_row2_col13\" class=\"data row2 col13\" >2485</td>\n",
       "      <td id=\"T_5cba4_row2_col14\" class=\"data row2 col14\" >5</td>\n",
       "      <td id=\"T_5cba4_row2_col15\" class=\"data row2 col15\" >nan</td>\n",
       "    </tr>\n",
       "    <tr>\n",
       "      <th id=\"T_5cba4_level0_row3\" class=\"row_heading level0 row3\" >3</th>\n",
       "      <td id=\"T_5cba4_row3_col0\" class=\"data row3 col0\" >SETTLEMENTDATE</td>\n",
       "      <td id=\"T_5cba4_row3_col1\" class=\"data row3 col1\" >object</td>\n",
       "      <td id=\"T_5cba4_row3_col2\" class=\"data row3 col2\" >10074618</td>\n",
       "      <td id=\"T_5cba4_row3_col3\" class=\"data row3 col3\" >10074613</td>\n",
       "      <td id=\"T_5cba4_row3_col4\" class=\"data row3 col4\" >nan</td>\n",
       "      <td id=\"T_5cba4_row3_col5\" class=\"data row3 col5\" >nan</td>\n",
       "      <td id=\"T_5cba4_row3_col6\" class=\"data row3 col6\" >nan</td>\n",
       "      <td id=\"T_5cba4_row3_col7\" class=\"data row3 col7\" >nan</td>\n",
       "      <td id=\"T_5cba4_row3_col8\" class=\"data row3 col8\" >nan</td>\n",
       "      <td id=\"T_5cba4_row3_col9\" class=\"data row3 col9\" >2223</td>\n",
       "      <td id=\"T_5cba4_row3_col10\" class=\"data row3 col10\" >2020/08/18 00:00:00</td>\n",
       "      <td id=\"T_5cba4_row3_col11\" class=\"data row3 col11\" >4944</td>\n",
       "      <td id=\"T_5cba4_row3_col12\" class=\"data row3 col12\" >2025/01/22 00:00:00</td>\n",
       "      <td id=\"T_5cba4_row3_col13\" class=\"data row3 col13\" >2485</td>\n",
       "      <td id=\"T_5cba4_row3_col14\" class=\"data row3 col14\" >5</td>\n",
       "      <td id=\"T_5cba4_row3_col15\" class=\"data row3 col15\" >nan</td>\n",
       "    </tr>\n",
       "    <tr>\n",
       "      <th id=\"T_5cba4_level0_row4\" class=\"row_heading level0 row4\" >4</th>\n",
       "      <td id=\"T_5cba4_row4_col0\" class=\"data row4 col0\" >REGIONID</td>\n",
       "      <td id=\"T_5cba4_row4_col1\" class=\"data row4 col1\" >object</td>\n",
       "      <td id=\"T_5cba4_row4_col2\" class=\"data row4 col2\" >10074618</td>\n",
       "      <td id=\"T_5cba4_row4_col3\" class=\"data row4 col3\" >10074613</td>\n",
       "      <td id=\"T_5cba4_row4_col4\" class=\"data row4 col4\" >nan</td>\n",
       "      <td id=\"T_5cba4_row4_col5\" class=\"data row4 col5\" >nan</td>\n",
       "      <td id=\"T_5cba4_row4_col6\" class=\"data row4 col6\" >nan</td>\n",
       "      <td id=\"T_5cba4_row4_col7\" class=\"data row4 col7\" >nan</td>\n",
       "      <td id=\"T_5cba4_row4_col8\" class=\"data row4 col8\" >nan</td>\n",
       "      <td id=\"T_5cba4_row4_col9\" class=\"data row4 col9\" >5</td>\n",
       "      <td id=\"T_5cba4_row4_col10\" class=\"data row4 col10\" >NSW1</td>\n",
       "      <td id=\"T_5cba4_row4_col11\" class=\"data row4 col11\" >2015868</td>\n",
       "      <td id=\"T_5cba4_row4_col12\" class=\"data row4 col12\" >VIC1</td>\n",
       "      <td id=\"T_5cba4_row4_col13\" class=\"data row4 col13\" >2013207</td>\n",
       "      <td id=\"T_5cba4_row4_col14\" class=\"data row4 col14\" >5</td>\n",
       "      <td id=\"T_5cba4_row4_col15\" class=\"data row4 col15\" >nan</td>\n",
       "    </tr>\n",
       "    <tr>\n",
       "      <th id=\"T_5cba4_level0_row5\" class=\"row_heading level0 row5\" >5</th>\n",
       "      <td id=\"T_5cba4_row5_col0\" class=\"data row5 col0\" >OFFERDATE</td>\n",
       "      <td id=\"T_5cba4_row5_col1\" class=\"data row5 col1\" >object</td>\n",
       "      <td id=\"T_5cba4_row5_col2\" class=\"data row5 col2\" >10074618</td>\n",
       "      <td id=\"T_5cba4_row5_col3\" class=\"data row5 col3\" >10074613</td>\n",
       "      <td id=\"T_5cba4_row5_col4\" class=\"data row5 col4\" >nan</td>\n",
       "      <td id=\"T_5cba4_row5_col5\" class=\"data row5 col5\" >nan</td>\n",
       "      <td id=\"T_5cba4_row5_col6\" class=\"data row5 col6\" >nan</td>\n",
       "      <td id=\"T_5cba4_row5_col7\" class=\"data row5 col7\" >nan</td>\n",
       "      <td id=\"T_5cba4_row5_col8\" class=\"data row5 col8\" >nan</td>\n",
       "      <td id=\"T_5cba4_row5_col9\" class=\"data row5 col9\" >2231</td>\n",
       "      <td id=\"T_5cba4_row5_col10\" class=\"data row5 col10\" >2024/01/26 00:00:00</td>\n",
       "      <td id=\"T_5cba4_row5_col11\" class=\"data row5 col11\" >4928</td>\n",
       "      <td id=\"T_5cba4_row5_col12\" class=\"data row5 col12\" >2025/02/01 00:00:00</td>\n",
       "      <td id=\"T_5cba4_row5_col13\" class=\"data row5 col13\" >81</td>\n",
       "      <td id=\"T_5cba4_row5_col14\" class=\"data row5 col14\" >5</td>\n",
       "      <td id=\"T_5cba4_row5_col15\" class=\"data row5 col15\" >nan</td>\n",
       "    </tr>\n",
       "    <tr>\n",
       "      <th id=\"T_5cba4_level0_row6\" class=\"row_heading level0 row6\" >6</th>\n",
       "      <td id=\"T_5cba4_row6_col0\" class=\"data row6 col0\" >PERIODID</td>\n",
       "      <td id=\"T_5cba4_row6_col1\" class=\"data row6 col1\" >float64</td>\n",
       "      <td id=\"T_5cba4_row6_col2\" class=\"data row6 col2\" >10074618</td>\n",
       "      <td id=\"T_5cba4_row6_col3\" class=\"data row6 col3\" >10074613</td>\n",
       "      <td id=\"T_5cba4_row6_col4\" class=\"data row6 col4\" >1.000000</td>\n",
       "      <td id=\"T_5cba4_row6_col5\" class=\"data row6 col5\" >48.000000</td>\n",
       "      <td id=\"T_5cba4_row6_col6\" class=\"data row6 col6\" >24.499451</td>\n",
       "      <td id=\"T_5cba4_row6_col7\" class=\"data row6 col7\" >25.000000</td>\n",
       "      <td id=\"T_5cba4_row6_col8\" class=\"data row6 col8\" >13.852506</td>\n",
       "      <td id=\"T_5cba4_row6_col9\" class=\"data row6 col9\" >48</td>\n",
       "      <td id=\"T_5cba4_row6_col10\" class=\"data row6 col10\" >8.000000</td>\n",
       "      <td id=\"T_5cba4_row6_col11\" class=\"data row6 col11\" >210747</td>\n",
       "      <td id=\"T_5cba4_row6_col12\" class=\"data row6 col12\" >5.000000</td>\n",
       "      <td id=\"T_5cba4_row6_col13\" class=\"data row6 col13\" >208693</td>\n",
       "      <td id=\"T_5cba4_row6_col14\" class=\"data row6 col14\" >5</td>\n",
       "      <td id=\"T_5cba4_row6_col15\" class=\"data row6 col15\" >0.000000</td>\n",
       "    </tr>\n",
       "    <tr>\n",
       "      <th id=\"T_5cba4_level0_row7\" class=\"row_heading level0 row7\" >7</th>\n",
       "      <td id=\"T_5cba4_row7_col0\" class=\"data row7 col0\" >RESDEMAND</td>\n",
       "      <td id=\"T_5cba4_row7_col1\" class=\"data row7 col1\" >float64</td>\n",
       "      <td id=\"T_5cba4_row7_col2\" class=\"data row7 col2\" >10074618</td>\n",
       "      <td id=\"T_5cba4_row7_col3\" class=\"data row7 col3\" >10074613</td>\n",
       "      <td id=\"T_5cba4_row7_col4\" class=\"data row7 col4\" >-77555.000000</td>\n",
       "      <td id=\"T_5cba4_row7_col5\" class=\"data row7 col5\" >14221.000000</td>\n",
       "      <td id=\"T_5cba4_row7_col6\" class=\"data row7 col6\" >4195.981873</td>\n",
       "      <td id=\"T_5cba4_row7_col7\" class=\"data row7 col7\" >4582.000000</td>\n",
       "      <td id=\"T_5cba4_row7_col8\" class=\"data row7 col8\" >2745.478640</td>\n",
       "      <td id=\"T_5cba4_row7_col9\" class=\"data row7 col9\" >13419</td>\n",
       "      <td id=\"T_5cba4_row7_col10\" class=\"data row7 col10\" >1059.000000</td>\n",
       "      <td id=\"T_5cba4_row7_col11\" class=\"data row7 col11\" >8497</td>\n",
       "      <td id=\"T_5cba4_row7_col12\" class=\"data row7 col12\" >-129.000000</td>\n",
       "      <td id=\"T_5cba4_row7_col13\" class=\"data row7 col13\" >1</td>\n",
       "      <td id=\"T_5cba4_row7_col14\" class=\"data row7 col14\" >5</td>\n",
       "      <td id=\"T_5cba4_row7_col15\" class=\"data row7 col15\" >15.000000</td>\n",
       "    </tr>\n",
       "    <tr>\n",
       "      <th id=\"T_5cba4_level0_row8\" class=\"row_heading level0 row8\" >8</th>\n",
       "      <td id=\"T_5cba4_row8_col0\" class=\"data row8 col0\" >DEMAND90PROBABILITY</td>\n",
       "      <td id=\"T_5cba4_row8_col1\" class=\"data row8 col1\" >float64</td>\n",
       "      <td id=\"T_5cba4_row8_col2\" class=\"data row8 col2\" >10074618</td>\n",
       "      <td id=\"T_5cba4_row8_col3\" class=\"data row8 col3\" >10074613</td>\n",
       "      <td id=\"T_5cba4_row8_col4\" class=\"data row8 col4\" >-77555.000000</td>\n",
       "      <td id=\"T_5cba4_row8_col5\" class=\"data row8 col5\" >13628.000000</td>\n",
       "      <td id=\"T_5cba4_row8_col6\" class=\"data row8 col6\" >3991.907884</td>\n",
       "      <td id=\"T_5cba4_row8_col7\" class=\"data row8 col7\" >4337.000000</td>\n",
       "      <td id=\"T_5cba4_row8_col8\" class=\"data row8 col8\" >2652.288230</td>\n",
       "      <td id=\"T_5cba4_row8_col9\" class=\"data row8 col9\" >12880</td>\n",
       "      <td id=\"T_5cba4_row8_col10\" class=\"data row8 col10\" >1010.000000</td>\n",
       "      <td id=\"T_5cba4_row8_col11\" class=\"data row8 col11\" >9250</td>\n",
       "      <td id=\"T_5cba4_row8_col12\" class=\"data row8 col12\" >12461.000000</td>\n",
       "      <td id=\"T_5cba4_row8_col13\" class=\"data row8 col13\" >1</td>\n",
       "      <td id=\"T_5cba4_row8_col14\" class=\"data row8 col14\" >5</td>\n",
       "      <td id=\"T_5cba4_row8_col15\" class=\"data row8 col15\" >19.000000</td>\n",
       "    </tr>\n",
       "    <tr>\n",
       "      <th id=\"T_5cba4_level0_row9\" class=\"row_heading level0 row9\" >9</th>\n",
       "      <td id=\"T_5cba4_row9_col0\" class=\"data row9 col0\" >DEMAND10PROBABILITY</td>\n",
       "      <td id=\"T_5cba4_row9_col1\" class=\"data row9 col1\" >float64</td>\n",
       "      <td id=\"T_5cba4_row9_col2\" class=\"data row9 col2\" >10074618</td>\n",
       "      <td id=\"T_5cba4_row9_col3\" class=\"data row9 col3\" >10074613</td>\n",
       "      <td id=\"T_5cba4_row9_col4\" class=\"data row9 col4\" >-77555.000000</td>\n",
       "      <td id=\"T_5cba4_row9_col5\" class=\"data row9 col5\" >14813.000000</td>\n",
       "      <td id=\"T_5cba4_row9_col6\" class=\"data row9 col6\" >4400.056172</td>\n",
       "      <td id=\"T_5cba4_row9_col7\" class=\"data row9 col7\" >4824.000000</td>\n",
       "      <td id=\"T_5cba4_row9_col8\" class=\"data row9 col8\" >2842.265325</td>\n",
       "      <td id=\"T_5cba4_row9_col9\" class=\"data row9 col9\" >14143</td>\n",
       "      <td id=\"T_5cba4_row9_col10\" class=\"data row9 col10\" >1139.000000</td>\n",
       "      <td id=\"T_5cba4_row9_col11\" class=\"data row9 col11\" >7567</td>\n",
       "      <td id=\"T_5cba4_row9_col12\" class=\"data row9 col12\" >13498.000000</td>\n",
       "      <td id=\"T_5cba4_row9_col13\" class=\"data row9 col13\" >1</td>\n",
       "      <td id=\"T_5cba4_row9_col14\" class=\"data row9 col14\" >5</td>\n",
       "      <td id=\"T_5cba4_row9_col15\" class=\"data row9 col15\" >17.000000</td>\n",
       "    </tr>\n",
       "    <tr>\n",
       "      <th id=\"T_5cba4_level0_row10\" class=\"row_heading level0 row10\" >10</th>\n",
       "      <td id=\"T_5cba4_row10_col0\" class=\"data row10 col0\" >LASTCHANGED</td>\n",
       "      <td id=\"T_5cba4_row10_col1\" class=\"data row10 col1\" >object</td>\n",
       "      <td id=\"T_5cba4_row10_col2\" class=\"data row10 col2\" >10074618</td>\n",
       "      <td id=\"T_5cba4_row10_col3\" class=\"data row10 col3\" >10074613</td>\n",
       "      <td id=\"T_5cba4_row10_col4\" class=\"data row10 col4\" >nan</td>\n",
       "      <td id=\"T_5cba4_row10_col5\" class=\"data row10 col5\" >nan</td>\n",
       "      <td id=\"T_5cba4_row10_col6\" class=\"data row10 col6\" >nan</td>\n",
       "      <td id=\"T_5cba4_row10_col7\" class=\"data row10 col7\" >nan</td>\n",
       "      <td id=\"T_5cba4_row10_col8\" class=\"data row10 col8\" >nan</td>\n",
       "      <td id=\"T_5cba4_row10_col9\" class=\"data row10 col9\" >429781</td>\n",
       "      <td id=\"T_5cba4_row10_col10\" class=\"data row10 col10\" >2022/09/13 01:27:56</td>\n",
       "      <td id=\"T_5cba4_row10_col11\" class=\"data row10 col11\" >86</td>\n",
       "      <td id=\"T_5cba4_row10_col12\" class=\"data row10 col12\" >2024/10/05 18:27:42</td>\n",
       "      <td id=\"T_5cba4_row10_col13\" class=\"data row10 col13\" >1</td>\n",
       "      <td id=\"T_5cba4_row10_col14\" class=\"data row10 col14\" >5</td>\n",
       "      <td id=\"T_5cba4_row10_col15\" class=\"data row10 col15\" >nan</td>\n",
       "    </tr>\n",
       "  </tbody>\n",
       "</table>\n"
      ],
      "text/plain": [
       "<pandas.io.formats.style.Styler at 0x2aa536910>"
      ]
     },
     "execution_count": 31,
     "metadata": {},
     "output_type": "execute_result"
    }
   ],
   "source": [
    "summarize_table_info(df_demand_sample[['DEMAND', 'PERIOD', 'EFFECTIVEDATE', 'SETTLEMENTDATE',\n",
    "       'REGIONID', 'OFFERDATE', 'PERIODID', 'RESDEMAND',\n",
    "       'DEMAND90PROBABILITY', 'DEMAND10PROBABILITY', 'LASTCHANGED']])"
   ]
  },
  {
   "cell_type": "code",
   "execution_count": 32,
   "id": "8eec6bf6-624f-4315-bdd9-7c5ad2a52faa",
   "metadata": {},
   "outputs": [
    {
     "data": {
      "text/html": [
       "<style type=\"text/css\">\n",
       "#T_d2122_row0_col2, #T_d2122_row0_col3, #T_d2122_row0_col11, #T_d2122_row1_col2, #T_d2122_row1_col3, #T_d2122_row1_col11, #T_d2122_row2_col2, #T_d2122_row2_col3, #T_d2122_row2_col11, #T_d2122_row3_col2, #T_d2122_row3_col3, #T_d2122_row3_col11, #T_d2122_row3_col13, #T_d2122_row4_col2, #T_d2122_row4_col3, #T_d2122_row5_col2, #T_d2122_row5_col3, #T_d2122_row6_col2, #T_d2122_row6_col3, #T_d2122_row7_col2 {\n",
       "  background-color: #b40426;\n",
       "  color: #f1f1f1;\n",
       "}\n",
       "#T_d2122_row0_col4, #T_d2122_row0_col5, #T_d2122_row0_col6, #T_d2122_row0_col7, #T_d2122_row0_col8, #T_d2122_row0_col15, #T_d2122_row1_col4, #T_d2122_row1_col5, #T_d2122_row1_col6, #T_d2122_row1_col7, #T_d2122_row1_col8, #T_d2122_row1_col15, #T_d2122_row2_col4, #T_d2122_row2_col5, #T_d2122_row2_col6, #T_d2122_row2_col7, #T_d2122_row2_col8, #T_d2122_row2_col15, #T_d2122_row4_col4, #T_d2122_row4_col5, #T_d2122_row4_col6, #T_d2122_row4_col7, #T_d2122_row4_col8, #T_d2122_row4_col15, #T_d2122_row5_col4, #T_d2122_row5_col5, #T_d2122_row5_col6, #T_d2122_row5_col7, #T_d2122_row5_col8, #T_d2122_row5_col15, #T_d2122_row7_col4, #T_d2122_row7_col5, #T_d2122_row7_col6, #T_d2122_row7_col7, #T_d2122_row7_col8, #T_d2122_row7_col15 {\n",
       "  background-color: #000000;\n",
       "  color: #f1f1f1;\n",
       "}\n",
       "#T_d2122_row0_col9, #T_d2122_row0_col13, #T_d2122_row0_col14, #T_d2122_row1_col9, #T_d2122_row1_col13, #T_d2122_row1_col14, #T_d2122_row2_col9, #T_d2122_row2_col13, #T_d2122_row2_col14, #T_d2122_row3_col4, #T_d2122_row3_col5, #T_d2122_row3_col6, #T_d2122_row3_col7, #T_d2122_row3_col8, #T_d2122_row3_col9, #T_d2122_row3_col14, #T_d2122_row3_col15, #T_d2122_row4_col11, #T_d2122_row4_col13, #T_d2122_row4_col14, #T_d2122_row5_col9, #T_d2122_row5_col11, #T_d2122_row5_col13, #T_d2122_row5_col14, #T_d2122_row6_col4, #T_d2122_row6_col5, #T_d2122_row6_col6, #T_d2122_row6_col7, #T_d2122_row6_col8, #T_d2122_row6_col13, #T_d2122_row6_col14, #T_d2122_row7_col9, #T_d2122_row7_col11, #T_d2122_row7_col13 {\n",
       "  background-color: #3b4cc0;\n",
       "  color: #f1f1f1;\n",
       "}\n",
       "#T_d2122_row4_col9 {\n",
       "  background-color: #4961d2;\n",
       "  color: #f1f1f1;\n",
       "}\n",
       "#T_d2122_row6_col9 {\n",
       "  background-color: #5572df;\n",
       "  color: #f1f1f1;\n",
       "}\n",
       "#T_d2122_row6_col11, #T_d2122_row6_col15 {\n",
       "  background-color: #dedcdb;\n",
       "  color: #000000;\n",
       "}\n",
       "#T_d2122_row7_col3 {\n",
       "  background-color: #485fd1;\n",
       "  color: #f1f1f1;\n",
       "}\n",
       "#T_d2122_row7_col14 {\n",
       "  background-color: #c43032;\n",
       "  color: #f1f1f1;\n",
       "}\n",
       "</style>\n",
       "<table id=\"T_d2122\">\n",
       "  <thead>\n",
       "    <tr>\n",
       "      <th class=\"blank level0\" >&nbsp;</th>\n",
       "      <th id=\"T_d2122_level0_col0\" class=\"col_heading level0 col0\" >Column</th>\n",
       "      <th id=\"T_d2122_level0_col1\" class=\"col_heading level0 col1\" >Type</th>\n",
       "      <th id=\"T_d2122_level0_col2\" class=\"col_heading level0 col2\" >Num Rows</th>\n",
       "      <th id=\"T_d2122_level0_col3\" class=\"col_heading level0 col3\" >Num Non-Null Rows</th>\n",
       "      <th id=\"T_d2122_level0_col4\" class=\"col_heading level0 col4\" >Min</th>\n",
       "      <th id=\"T_d2122_level0_col5\" class=\"col_heading level0 col5\" >Max</th>\n",
       "      <th id=\"T_d2122_level0_col6\" class=\"col_heading level0 col6\" >Mean</th>\n",
       "      <th id=\"T_d2122_level0_col7\" class=\"col_heading level0 col7\" >Median</th>\n",
       "      <th id=\"T_d2122_level0_col8\" class=\"col_heading level0 col8\" >Std Dev</th>\n",
       "      <th id=\"T_d2122_level0_col9\" class=\"col_heading level0 col9\" >Num Unique</th>\n",
       "      <th id=\"T_d2122_level0_col10\" class=\"col_heading level0 col10\" >Most Freq Value</th>\n",
       "      <th id=\"T_d2122_level0_col11\" class=\"col_heading level0 col11\" >Most Freq Count</th>\n",
       "      <th id=\"T_d2122_level0_col12\" class=\"col_heading level0 col12\" >Least Freq Value</th>\n",
       "      <th id=\"T_d2122_level0_col13\" class=\"col_heading level0 col13\" >Least Freq Count</th>\n",
       "      <th id=\"T_d2122_level0_col14\" class=\"col_heading level0 col14\" >Num Nulls</th>\n",
       "      <th id=\"T_d2122_level0_col15\" class=\"col_heading level0 col15\" >Num Zeros</th>\n",
       "    </tr>\n",
       "  </thead>\n",
       "  <tbody>\n",
       "    <tr>\n",
       "      <th id=\"T_d2122_level0_row0\" class=\"row_heading level0 row0\" >0</th>\n",
       "      <td id=\"T_d2122_row0_col0\" class=\"data row0 col0\" >I</td>\n",
       "      <td id=\"T_d2122_row0_col1\" class=\"data row0 col1\" >object</td>\n",
       "      <td id=\"T_d2122_row0_col2\" class=\"data row0 col2\" >12822514</td>\n",
       "      <td id=\"T_d2122_row0_col3\" class=\"data row0 col3\" >12822514</td>\n",
       "      <td id=\"T_d2122_row0_col4\" class=\"data row0 col4\" >nan</td>\n",
       "      <td id=\"T_d2122_row0_col5\" class=\"data row0 col5\" >nan</td>\n",
       "      <td id=\"T_d2122_row0_col6\" class=\"data row0 col6\" >nan</td>\n",
       "      <td id=\"T_d2122_row0_col7\" class=\"data row0 col7\" >nan</td>\n",
       "      <td id=\"T_d2122_row0_col8\" class=\"data row0 col8\" >nan</td>\n",
       "      <td id=\"T_d2122_row0_col9\" class=\"data row0 col9\" >2</td>\n",
       "      <td id=\"T_d2122_row0_col10\" class=\"data row0 col10\" >D</td>\n",
       "      <td id=\"T_d2122_row0_col11\" class=\"data row0 col11\" >12822513</td>\n",
       "      <td id=\"T_d2122_row0_col12\" class=\"data row0 col12\" >C</td>\n",
       "      <td id=\"T_d2122_row0_col13\" class=\"data row0 col13\" >1</td>\n",
       "      <td id=\"T_d2122_row0_col14\" class=\"data row0 col14\" >0</td>\n",
       "      <td id=\"T_d2122_row0_col15\" class=\"data row0 col15\" >nan</td>\n",
       "    </tr>\n",
       "    <tr>\n",
       "      <th id=\"T_d2122_level0_row1\" class=\"row_heading level0 row1\" >1</th>\n",
       "      <td id=\"T_d2122_row1_col0\" class=\"data row1 col0\" >DISPATCH</td>\n",
       "      <td id=\"T_d2122_row1_col1\" class=\"data row1 col1\" >object</td>\n",
       "      <td id=\"T_d2122_row1_col2\" class=\"data row1 col2\" >12822514</td>\n",
       "      <td id=\"T_d2122_row1_col3\" class=\"data row1 col3\" >12822514</td>\n",
       "      <td id=\"T_d2122_row1_col4\" class=\"data row1 col4\" >nan</td>\n",
       "      <td id=\"T_d2122_row1_col5\" class=\"data row1 col5\" >nan</td>\n",
       "      <td id=\"T_d2122_row1_col6\" class=\"data row1 col6\" >nan</td>\n",
       "      <td id=\"T_d2122_row1_col7\" class=\"data row1 col7\" >nan</td>\n",
       "      <td id=\"T_d2122_row1_col8\" class=\"data row1 col8\" >nan</td>\n",
       "      <td id=\"T_d2122_row1_col9\" class=\"data row1 col9\" >2</td>\n",
       "      <td id=\"T_d2122_row1_col10\" class=\"data row1 col10\" >DISPATCH</td>\n",
       "      <td id=\"T_d2122_row1_col11\" class=\"data row1 col11\" >12822513</td>\n",
       "      <td id=\"T_d2122_row1_col12\" class=\"data row1 col12\" >END OF REPORT</td>\n",
       "      <td id=\"T_d2122_row1_col13\" class=\"data row1 col13\" >1</td>\n",
       "      <td id=\"T_d2122_row1_col14\" class=\"data row1 col14\" >0</td>\n",
       "      <td id=\"T_d2122_row1_col15\" class=\"data row1 col15\" >nan</td>\n",
       "    </tr>\n",
       "    <tr>\n",
       "      <th id=\"T_d2122_level0_row2\" class=\"row_heading level0 row2\" >2</th>\n",
       "      <td id=\"T_d2122_row2_col0\" class=\"data row2 col0\" >UNIT_SCADA</td>\n",
       "      <td id=\"T_d2122_row2_col1\" class=\"data row2 col1\" >object</td>\n",
       "      <td id=\"T_d2122_row2_col2\" class=\"data row2 col2\" >12822514</td>\n",
       "      <td id=\"T_d2122_row2_col3\" class=\"data row2 col3\" >12822514</td>\n",
       "      <td id=\"T_d2122_row2_col4\" class=\"data row2 col4\" >nan</td>\n",
       "      <td id=\"T_d2122_row2_col5\" class=\"data row2 col5\" >nan</td>\n",
       "      <td id=\"T_d2122_row2_col6\" class=\"data row2 col6\" >nan</td>\n",
       "      <td id=\"T_d2122_row2_col7\" class=\"data row2 col7\" >nan</td>\n",
       "      <td id=\"T_d2122_row2_col8\" class=\"data row2 col8\" >nan</td>\n",
       "      <td id=\"T_d2122_row2_col9\" class=\"data row2 col9\" >2</td>\n",
       "      <td id=\"T_d2122_row2_col10\" class=\"data row2 col10\" >UNIT_SCADA</td>\n",
       "      <td id=\"T_d2122_row2_col11\" class=\"data row2 col11\" >12822513</td>\n",
       "      <td id=\"T_d2122_row2_col12\" class=\"data row2 col12\" >3936158</td>\n",
       "      <td id=\"T_d2122_row2_col13\" class=\"data row2 col13\" >1</td>\n",
       "      <td id=\"T_d2122_row2_col14\" class=\"data row2 col14\" >0</td>\n",
       "      <td id=\"T_d2122_row2_col15\" class=\"data row2 col15\" >nan</td>\n",
       "    </tr>\n",
       "    <tr>\n",
       "      <th id=\"T_d2122_level0_row3\" class=\"row_heading level0 row3\" >3</th>\n",
       "      <td id=\"T_d2122_row3_col0\" class=\"data row3 col0\" >1</td>\n",
       "      <td id=\"T_d2122_row3_col1\" class=\"data row3 col1\" >float64</td>\n",
       "      <td id=\"T_d2122_row3_col2\" class=\"data row3 col2\" >12822514</td>\n",
       "      <td id=\"T_d2122_row3_col3\" class=\"data row3 col3\" >12822513</td>\n",
       "      <td id=\"T_d2122_row3_col4\" class=\"data row3 col4\" >1.000000</td>\n",
       "      <td id=\"T_d2122_row3_col5\" class=\"data row3 col5\" >1.000000</td>\n",
       "      <td id=\"T_d2122_row3_col6\" class=\"data row3 col6\" >1.000000</td>\n",
       "      <td id=\"T_d2122_row3_col7\" class=\"data row3 col7\" >1.000000</td>\n",
       "      <td id=\"T_d2122_row3_col8\" class=\"data row3 col8\" >0.000000</td>\n",
       "      <td id=\"T_d2122_row3_col9\" class=\"data row3 col9\" >1</td>\n",
       "      <td id=\"T_d2122_row3_col10\" class=\"data row3 col10\" >1.000000</td>\n",
       "      <td id=\"T_d2122_row3_col11\" class=\"data row3 col11\" >12822513</td>\n",
       "      <td id=\"T_d2122_row3_col12\" class=\"data row3 col12\" >1.000000</td>\n",
       "      <td id=\"T_d2122_row3_col13\" class=\"data row3 col13\" >12822513</td>\n",
       "      <td id=\"T_d2122_row3_col14\" class=\"data row3 col14\" >1</td>\n",
       "      <td id=\"T_d2122_row3_col15\" class=\"data row3 col15\" >0.000000</td>\n",
       "    </tr>\n",
       "    <tr>\n",
       "      <th id=\"T_d2122_level0_row4\" class=\"row_heading level0 row4\" >4</th>\n",
       "      <td id=\"T_d2122_row4_col0\" class=\"data row4 col0\" >SETTLEMENTDATE</td>\n",
       "      <td id=\"T_d2122_row4_col1\" class=\"data row4 col1\" >object</td>\n",
       "      <td id=\"T_d2122_row4_col2\" class=\"data row4 col2\" >12822514</td>\n",
       "      <td id=\"T_d2122_row4_col3\" class=\"data row4 col3\" >12822513</td>\n",
       "      <td id=\"T_d2122_row4_col4\" class=\"data row4 col4\" >nan</td>\n",
       "      <td id=\"T_d2122_row4_col5\" class=\"data row4 col5\" >nan</td>\n",
       "      <td id=\"T_d2122_row4_col6\" class=\"data row4 col6\" >nan</td>\n",
       "      <td id=\"T_d2122_row4_col7\" class=\"data row4 col7\" >nan</td>\n",
       "      <td id=\"T_d2122_row4_col8\" class=\"data row4 col8\" >nan</td>\n",
       "      <td id=\"T_d2122_row4_col9\" class=\"data row4 col9\" >640222</td>\n",
       "      <td id=\"T_d2122_row4_col10\" class=\"data row4 col10\" >2022/10/06 11:25:00</td>\n",
       "      <td id=\"T_d2122_row4_col11\" class=\"data row4 col11\" >46</td>\n",
       "      <td id=\"T_d2122_row4_col12\" class=\"data row4 col12\" >2024/09/05 13:35:00</td>\n",
       "      <td id=\"T_d2122_row4_col13\" class=\"data row4 col13\" >1</td>\n",
       "      <td id=\"T_d2122_row4_col14\" class=\"data row4 col14\" >1</td>\n",
       "      <td id=\"T_d2122_row4_col15\" class=\"data row4 col15\" >nan</td>\n",
       "    </tr>\n",
       "    <tr>\n",
       "      <th id=\"T_d2122_level0_row5\" class=\"row_heading level0 row5\" >5</th>\n",
       "      <td id=\"T_d2122_row5_col0\" class=\"data row5 col0\" >DUID</td>\n",
       "      <td id=\"T_d2122_row5_col1\" class=\"data row5 col1\" >object</td>\n",
       "      <td id=\"T_d2122_row5_col2\" class=\"data row5 col2\" >12822514</td>\n",
       "      <td id=\"T_d2122_row5_col3\" class=\"data row5 col3\" >12822513</td>\n",
       "      <td id=\"T_d2122_row5_col4\" class=\"data row5 col4\" >nan</td>\n",
       "      <td id=\"T_d2122_row5_col5\" class=\"data row5 col5\" >nan</td>\n",
       "      <td id=\"T_d2122_row5_col6\" class=\"data row5 col6\" >nan</td>\n",
       "      <td id=\"T_d2122_row5_col7\" class=\"data row5 col7\" >nan</td>\n",
       "      <td id=\"T_d2122_row5_col8\" class=\"data row5 col8\" >nan</td>\n",
       "      <td id=\"T_d2122_row5_col9\" class=\"data row5 col9\" >537</td>\n",
       "      <td id=\"T_d2122_row5_col10\" class=\"data row5 col10\" >JLB02</td>\n",
       "      <td id=\"T_d2122_row5_col11\" class=\"data row5 col11\" >32515</td>\n",
       "      <td id=\"T_d2122_row5_col12\" class=\"data row5 col12\" >KESSB1</td>\n",
       "      <td id=\"T_d2122_row5_col13\" class=\"data row5 col13\" >37</td>\n",
       "      <td id=\"T_d2122_row5_col14\" class=\"data row5 col14\" >1</td>\n",
       "      <td id=\"T_d2122_row5_col15\" class=\"data row5 col15\" >nan</td>\n",
       "    </tr>\n",
       "    <tr>\n",
       "      <th id=\"T_d2122_level0_row6\" class=\"row_heading level0 row6\" >6</th>\n",
       "      <td id=\"T_d2122_row6_col0\" class=\"data row6 col0\" >SCADAVALUE</td>\n",
       "      <td id=\"T_d2122_row6_col1\" class=\"data row6 col1\" >float64</td>\n",
       "      <td id=\"T_d2122_row6_col2\" class=\"data row6 col2\" >12822514</td>\n",
       "      <td id=\"T_d2122_row6_col3\" class=\"data row6 col3\" >12822513</td>\n",
       "      <td id=\"T_d2122_row6_col4\" class=\"data row6 col4\" >-253.899990</td>\n",
       "      <td id=\"T_d2122_row6_col5\" class=\"data row6 col5\" >1794.479980</td>\n",
       "      <td id=\"T_d2122_row6_col6\" class=\"data row6 col6\" >54.462650</td>\n",
       "      <td id=\"T_d2122_row6_col7\" class=\"data row6 col7\" >0.000000</td>\n",
       "      <td id=\"T_d2122_row6_col8\" class=\"data row6 col8\" >126.444682</td>\n",
       "      <td id=\"T_d2122_row6_col9\" class=\"data row6 col9\" >1137442</td>\n",
       "      <td id=\"T_d2122_row6_col10\" class=\"data row6 col10\" >0.000000</td>\n",
       "      <td id=\"T_d2122_row6_col11\" class=\"data row6 col11\" >6468995</td>\n",
       "      <td id=\"T_d2122_row6_col12\" class=\"data row6 col12\" >86.932460</td>\n",
       "      <td id=\"T_d2122_row6_col13\" class=\"data row6 col13\" >1</td>\n",
       "      <td id=\"T_d2122_row6_col14\" class=\"data row6 col14\" >1</td>\n",
       "      <td id=\"T_d2122_row6_col15\" class=\"data row6 col15\" >6468995.000000</td>\n",
       "    </tr>\n",
       "    <tr>\n",
       "      <th id=\"T_d2122_level0_row7\" class=\"row_heading level0 row7\" >7</th>\n",
       "      <td id=\"T_d2122_row7_col0\" class=\"data row7 col0\" >LASTCHANGED</td>\n",
       "      <td id=\"T_d2122_row7_col1\" class=\"data row7 col1\" >object</td>\n",
       "      <td id=\"T_d2122_row7_col2\" class=\"data row7 col2\" >12822514</td>\n",
       "      <td id=\"T_d2122_row7_col3\" class=\"data row7 col3\" >558586</td>\n",
       "      <td id=\"T_d2122_row7_col4\" class=\"data row7 col4\" >nan</td>\n",
       "      <td id=\"T_d2122_row7_col5\" class=\"data row7 col5\" >nan</td>\n",
       "      <td id=\"T_d2122_row7_col6\" class=\"data row7 col6\" >nan</td>\n",
       "      <td id=\"T_d2122_row7_col7\" class=\"data row7 col7\" >nan</td>\n",
       "      <td id=\"T_d2122_row7_col8\" class=\"data row7 col8\" >nan</td>\n",
       "      <td id=\"T_d2122_row7_col9\" class=\"data row7 col9\" >24648</td>\n",
       "      <td id=\"T_d2122_row7_col10\" class=\"data row7 col10\" >2024/11/25 08:15:16</td>\n",
       "      <td id=\"T_d2122_row7_col11\" class=\"data row7 col11\" >42</td>\n",
       "      <td id=\"T_d2122_row7_col12\" class=\"data row7 col12\" >2024/11/19 13:47:55</td>\n",
       "      <td id=\"T_d2122_row7_col13\" class=\"data row7 col13\" >2</td>\n",
       "      <td id=\"T_d2122_row7_col14\" class=\"data row7 col14\" >12263928</td>\n",
       "      <td id=\"T_d2122_row7_col15\" class=\"data row7 col15\" >nan</td>\n",
       "    </tr>\n",
       "  </tbody>\n",
       "</table>\n"
      ],
      "text/plain": [
       "<pandas.io.formats.style.Styler at 0x2aa589520>"
      ]
     },
     "execution_count": 32,
     "metadata": {},
     "output_type": "execute_result"
    }
   ],
   "source": [
    "summarize_table_info(df_scada_sample)"
   ]
  },
  {
   "cell_type": "markdown",
   "id": "4948ef07-5ae3-4c69-a39e-24155e04786b",
   "metadata": {},
   "source": [
    "<div style=\"background-color: lightblue; padding: 10px;\">\n",
    "\n",
    "- For price, they have multiple values of negative price, valuable columns are RRP, SETTLEMENTDATE, REGIONID.\n",
    "- For demand, they also have multiple values of negative values for RESDEMAND.\n",
    "- For power generation data, they also have negative values for SCADAVALUE. Valuable columns are DUID (for joining with participants' information), SCADAVALUE, SETTLEMENTDATE.\n",
    "\n",
    "</div>"
   ]
  },
  {
   "cell_type": "markdown",
   "id": "5895d80b-6b46-47a7-aab5-775f9f811f4c",
   "metadata": {},
   "source": [
    "### Power generation data"
   ]
  },
  {
   "cell_type": "markdown",
   "id": "a58955b4-2893-402e-b8c1-d1aa68dcdded",
   "metadata": {},
   "source": [
    "#### SCADAVALUE"
   ]
  },
  {
   "cell_type": "code",
   "execution_count": 33,
   "id": "93be7a8a-4786-4576-8587-8dc0b37abca4",
   "metadata": {},
   "outputs": [],
   "source": [
    "df_scada_sample[\"SETTLEMENTDATE\"] = pd.to_datetime(df_scada_sample[\"SETTLEMENTDATE\"], format=\"%Y/%m/%d %H:%M:%S\")"
   ]
  },
  {
   "cell_type": "code",
   "execution_count": 34,
   "id": "1b3ccb2e-f9e1-4b14-9658-0eff8324c131",
   "metadata": {},
   "outputs": [
    {
     "data": {
      "text/plain": [
       "Timestamp('2019-01-01 00:05:00')"
      ]
     },
     "execution_count": 34,
     "metadata": {},
     "output_type": "execute_result"
    }
   ],
   "source": [
    "df_scada_sample.SETTLEMENTDATE.min()"
   ]
  },
  {
   "cell_type": "code",
   "execution_count": 35,
   "id": "40ce0b13-7d67-4478-8236-a71878ff2a94",
   "metadata": {},
   "outputs": [
    {
     "data": {
      "text/plain": [
       "Timestamp('2025-02-01 00:00:00')"
      ]
     },
     "execution_count": 35,
     "metadata": {},
     "output_type": "execute_result"
    }
   ],
   "source": [
    "df_scada_sample.SETTLEMENTDATE.max()"
   ]
  },
  {
   "cell_type": "code",
   "execution_count": 37,
   "id": "8f2421c9-27e8-47c0-974e-ef3a1e6cb6ab",
   "metadata": {},
   "outputs": [
    {
     "data": {
      "text/plain": [
       "I                 253232\n",
       "DISPATCH          253232\n",
       "UNIT_SCADA        253232\n",
       "1                 253232\n",
       "SETTLEMENTDATE    253232\n",
       "DUID              253232\n",
       "SCADAVALUE        253232\n",
       "LASTCHANGED        24819\n",
       "dtype: int64"
      ]
     },
     "execution_count": 37,
     "metadata": {},
     "output_type": "execute_result"
    }
   ],
   "source": [
    "df_scada_sample[df_scada_sample['SCADAVALUE'] < 0].count()"
   ]
  },
  {
   "cell_type": "code",
   "execution_count": 38,
   "id": "59d2ee07-dbe3-4373-b43d-b0db1d9d9ba2",
   "metadata": {},
   "outputs": [
    {
     "data": {
      "text/plain": [
       "I                 6468995\n",
       "DISPATCH          6468995\n",
       "UNIT_SCADA        6468995\n",
       "1                 6468995\n",
       "SETTLEMENTDATE    6468995\n",
       "DUID              6468995\n",
       "SCADAVALUE        6468995\n",
       "LASTCHANGED        256728\n",
       "dtype: int64"
      ]
     },
     "execution_count": 38,
     "metadata": {},
     "output_type": "execute_result"
    }
   ],
   "source": [
    "df_scada_sample[df_scada_sample['SCADAVALUE'] == 0].count()"
   ]
  },
  {
   "cell_type": "code",
   "execution_count": 40,
   "id": "c2034c94-7cb2-4d54-944e-77d024a4ed31",
   "metadata": {},
   "outputs": [
    {
     "data": {
      "text/plain": [
       "I                 12822514\n",
       "DISPATCH          12822514\n",
       "UNIT_SCADA        12822514\n",
       "1                 12822513\n",
       "SETTLEMENTDATE    12822513\n",
       "DUID              12822513\n",
       "SCADAVALUE        12822513\n",
       "LASTCHANGED         558586\n",
       "dtype: int64"
      ]
     },
     "execution_count": 40,
     "metadata": {},
     "output_type": "execute_result"
    }
   ],
   "source": [
    "df_scada_sample.count()"
   ]
  },
  {
   "cell_type": "code",
   "execution_count": 86,
   "id": "222e973c-6fc9-43fb-92d8-e9ff3653c9b2",
   "metadata": {},
   "outputs": [
    {
     "data": {
      "image/png": "[encoded data removed]",
      "text/plain": [
       "<Figure size 1000x600 with 1 Axes>"
      ]
     },
     "metadata": {},
     "output_type": "display_data"
    },
    {
     "data": {
      "text/plain": [
       "<Figure size 640x480 with 0 Axes>"
      ]
     },
     "execution_count": 86,
     "metadata": {},
     "output_type": "execute_result"
    },
    {
     "data": {
      "text/plain": [
       "<Figure size 640x480 with 0 Axes>"
      ]
     },
     "metadata": {},
     "output_type": "display_data"
    }
   ],
   "source": [
    "distribution_plot_seaborn(df=df_scada_sample[df_scada_sample['SCADAVALUE'] >= 0], column='SCADAVALUE')"
   ]
  },
  {
   "cell_type": "markdown",
   "id": "f54966bd-57c4-4ad7-889c-875caf632e7e",
   "metadata": {},
   "source": [
    "<div style=\"background-color: lightblue; padding: 10px;\">\n",
    "\n",
    "- There are around 250k rows of negative values for power generation 0.25M/12.8M rows. My solution for this is dropping these values, because they may be errors when collecting data from generators.\n",
    "\n",
    "- There are around 6.4M/12.8M rows (nearly 50% of data are 0) have power generation of 0MW. The reasons behind may be that the units did not collect data at that time point or they rounded the data to 0 because data is too small.\n",
    "\n",
    "- Maximum values for power generation of an unit is 1783 MW.\n",
    "\n",
    "- Distribution of SCADAVALUE is too much right skewed.\n",
    "</div>"
   ]
  },
  {
   "cell_type": "markdown",
   "id": "523fae77-8b64-47f7-886a-2684a1cb5e89",
   "metadata": {},
   "source": [
    "#### number of units"
   ]
  },
  {
   "cell_type": "code",
   "execution_count": 41,
   "id": "dc0bcf08-bf9c-44da-a9f2-6b43e6bdad4f",
   "metadata": {},
   "outputs": [],
   "source": [
    "duid_lst = df_scada_sample.DUID.unique()"
   ]
  },
  {
   "cell_type": "code",
   "execution_count": 42,
   "id": "a47962ea-911b-473c-a85a-9732aaca06e0",
   "metadata": {},
   "outputs": [
    {
     "data": {
      "text/plain": [
       "538"
      ]
     },
     "execution_count": 42,
     "metadata": {},
     "output_type": "execute_result"
    }
   ],
   "source": [
    "len(duid_lst)"
   ]
  },
  {
   "cell_type": "code",
   "execution_count": 43,
   "id": "f6fa9948-ee33-4f1e-a07d-128ef06f5671",
   "metadata": {},
   "outputs": [],
   "source": [
    "registered_duid_lst = df_participants.DUID.unique()"
   ]
  },
  {
   "cell_type": "code",
   "execution_count": 44,
   "id": "14316619-cef3-4525-952d-cac4c01ed463",
   "metadata": {},
   "outputs": [
    {
     "data": {
      "text/plain": [
       "525"
      ]
     },
     "execution_count": 44,
     "metadata": {},
     "output_type": "execute_result"
    }
   ],
   "source": [
    "len(registered_duid_lst)"
   ]
  },
  {
   "cell_type": "markdown",
   "id": "7aec76d5-da5a-4a5e-8141-53c764a6ce8a",
   "metadata": {},
   "source": [
    "<div style=\"background-color: lightblue; padding: 10px;\">\n",
    "\n",
    "- There are 538 units recorded data in UNIT_SCADA_VALUE.\n",
    "\n",
    "- There are 525 units registered in the participants file.\n",
    "\n",
    "- Now, let's move to explore is there any units that not in the registered participant file.\n",
    "</div>"
   ]
  },
  {
   "cell_type": "code",
   "execution_count": 45,
   "id": "0a9b6e12-622a-40b4-b6a2-1baef9ca750f",
   "metadata": {},
   "outputs": [
    {
     "name": "stdout",
     "output_type": "stream",
     "text": [
      "[nan, 'DG_SA1', 'VBBL1', 'RT_VIC12', 'TB2BG1', 'TIBL1', 'PORTWF', 'BBATTERY', 'PIBESSG1', 'CAPBES1L', 'HVWWBA1L', 'DRXQDA01', 'DRXVQX01', 'RT_SA3', 'DG_TAS1', 'RT_SA2', 'RT_QLD1', 'PIBESSL1', 'BBATRYL1', 'TORRA3', 'VBBG1', 'DRXNQX01', 'LD04', 'HVGTS', 'HVWWBA1G', 'WALGRVG1', 'HPRG1', 'DRXNDA04', 'WANDBL1', 'RT_SA6', 'DRXVDX01', 'WDBESSG1', 'WALGRVL1', 'DRXQQE01', 'SATGN1', 'RT_VIC3', 'BOWWBA1L', 'DRXVDJ01', 'RT_NSW1', 'RT_VIC7', 'WDBESSL1', 'RT_VIC8', 'RT_VIC1', 'RESS1L', 'BALBL1', 'RT_NSW5', 'BALBG1', 'TORRA4', 'DRXVQX02', 'BOWWBA1G', 'DRXNDA03', 'WANDBG1', 'HPRL1', 'DPNTBL1', 'DG_QLD1', 'SLDCBLK1', 'RT_VIC5', 'RIVNBL2', 'RESS1G', 'DG_VIC1', 'BULBESL1', 'CBWWBA1L', 'RT_TAS1', 'RT_VIC11', 'TIBG1', 'DALNTH01', 'DG_NSW1', 'CBWWBA1G', 'BHBL1', 'GANNBL1', 'DPNTBG1', 'RT_SA1', 'DALNTHL1', 'DRXNDA01', 'SATGS1', 'LBBG1', 'PIONEER', 'CHBESSL1', 'BHBG1', 'MACKAYGT', 'RT_NSW4', 'DRXVDP01', 'LBBL1', 'RIVNBG2', 'RT_SA4', 'GANNBG1', 'CAPBES1G', 'RT_NSW2', 'TB2BL1', 'LD01', 'RT_NSW6', 'RT_VIC9', 'RT_SA5', 'TORRA2', 'RT_NSW3', 'DRXSQS01', 'BULBESG1', 'LD02', 'DRXNDA02', 'CALL_A_4', 'RT_VIC6', 'TORRA1', 'DRXVQP01', 'LD03', 'RT_VIC10', 'DRXNDE01', 'CHBESSG1', 'RT_VIC4', 'RT_VIC2']\n"
     ]
    }
   ],
   "source": [
    "diff_lst = list(set(duid_lst) - set(registered_duid_lst))\n",
    "print(diff_lst)  "
   ]
  },
  {
   "cell_type": "code",
   "execution_count": 52,
   "id": "97275237-4d5a-4b0e-8bc3-e10f21a3942f",
   "metadata": {},
   "outputs": [
    {
     "data": {
      "text/plain": [
       "I                 2091599\n",
       "DISPATCH          2091599\n",
       "UNIT_SCADA        2091599\n",
       "1                 2091598\n",
       "SETTLEMENTDATE    2091598\n",
       "DUID              2091598\n",
       "SCADAVALUE        2091598\n",
       "LASTCHANGED         42583\n",
       "dtype: int64"
      ]
     },
     "execution_count": 52,
     "metadata": {},
     "output_type": "execute_result"
    }
   ],
   "source": [
    "df_scada_sample[df_scada_sample['DUID'].isin(diff_lst)].count()"
   ]
  },
  {
   "cell_type": "markdown",
   "id": "84c7b2e2-dc23-45d0-8c43-68ac65d6b8da",
   "metadata": {},
   "source": [
    "<div style=\"background-color: lightblue; padding: 10px;\">\n",
    "\n",
    "There are 2M/12.8M rows of recorded data in UNIT_SCADA data has units that were not in registered participants data.\n",
    "\n",
    "That maybe labeled \"Other\" for energy source later.\n",
    "</div>"
   ]
  },
  {
   "cell_type": "markdown",
   "id": "b10fccdc-32a2-4180-a647-c072482df911",
   "metadata": {},
   "source": [
    "#### number of energy sources "
   ]
  },
  {
   "cell_type": "code",
   "execution_count": 53,
   "id": "23ce76e7-49dd-4193-85d1-e94358372056",
   "metadata": {},
   "outputs": [
    {
     "data": {
      "text/plain": [
       "array(['Grid', 'Water', 'Solar', 'Diesel', 'Waste Coal Mine Gas', 'Wind',\n",
       "       'Natural Gas', nan, 'Black Coal', 'Sewerage / Waste Water',\n",
       "       'Coal Seam Methane', 'Bagasse', 'Landfill Methane / Landfill Gas',\n",
       "       'Biogas - sludge', 'Solar ', 'Natural Gas / Diesel', 'Ethane',\n",
       "       'Brown Coal', 'solar', 'Kerosene', '-', 'Natural Gas / Fuel Oil',\n",
       "       'Bagasse and Diesel'], dtype=object)"
      ]
     },
     "execution_count": 53,
     "metadata": {},
     "output_type": "execute_result"
    }
   ],
   "source": [
    "df_participants['Fuel Source - Descriptor'].unique()"
   ]
  },
  {
   "cell_type": "code",
   "execution_count": 54,
   "id": "bcd8fdca-f57f-4e02-adc5-c6a31a8d0f26",
   "metadata": {},
   "outputs": [
    {
     "data": {
      "text/plain": [
       "22"
      ]
     },
     "execution_count": 54,
     "metadata": {},
     "output_type": "execute_result"
    }
   ],
   "source": [
    "df_participants['Fuel Source - Descriptor'].nunique()"
   ]
  },
  {
   "cell_type": "markdown",
   "id": "baa80ddc-2a6c-47c2-a0aa-e79cb304916a",
   "metadata": {},
   "source": [
    "<div style=\"background-color: lightblue; padding: 10px;\">\n",
    "\n",
    "There are 22 fuel energy sources.\n",
    "</div>"
   ]
  },
  {
   "cell_type": "markdown",
   "id": "60f5f504-c1d3-4c42-8794-e98adb5dda91",
   "metadata": {},
   "source": [
    "### Generator information"
   ]
  },
  {
   "cell_type": "markdown",
   "id": "29b10e64-3839-4124-9542-c0d1d5baffae",
   "metadata": {},
   "source": [
    "#### stats"
   ]
  },
  {
   "cell_type": "code",
   "execution_count": 56,
   "id": "f39293fd-a0e8-4b04-8bd5-30f019ce6b7b",
   "metadata": {},
   "outputs": [
    {
     "data": {
      "text/html": [
       "<div>\n",
       "<style scoped>\n",
       "    .dataframe tbody tr th:only-of-type {\n",
       "        vertical-align: middle;\n",
       "    }\n",
       "\n",
       "    .dataframe tbody tr th {\n",
       "        vertical-align: top;\n",
       "    }\n",
       "\n",
       "    .dataframe thead th {\n",
       "        text-align: right;\n",
       "    }\n",
       "</style>\n",
       "<table border=\"1\" class=\"dataframe\">\n",
       "  <thead>\n",
       "    <tr style=\"text-align: right;\">\n",
       "      <th></th>\n",
       "      <th>4</th>\n",
       "      <th>TRANSMISSIONLOSSFACTOR</th>\n",
       "      <th>DISTRIBUTIONLOSSFACTOR</th>\n",
       "      <th>MINIMUM_ENERGY_PRICE</th>\n",
       "      <th>MAXIMUM_ENERGY_PRICE</th>\n",
       "      <th>MIN_RAMP_RATE_UP</th>\n",
       "      <th>MIN_RAMP_RATE_DOWN</th>\n",
       "      <th>MAX_RAMP_RATE_UP</th>\n",
       "      <th>MAX_RAMP_RATE_DOWN</th>\n",
       "      <th>IS_AGGREGATED</th>\n",
       "      <th>5</th>\n",
       "      <th>6</th>\n",
       "      <th>7</th>\n",
       "      <th>LOAD_MINIMUM_ENERGY_PRICE</th>\n",
       "      <th>LOAD_MAXIMUM_ENERGY_PRICE</th>\n",
       "      <th>LOAD_MIN_RAMP_RATE_UP</th>\n",
       "      <th>LOAD_MIN_RAMP_RATE_DOWN</th>\n",
       "      <th>LOAD_MAX_RAMP_RATE_UP</th>\n",
       "      <th>LOAD_MAX_RAMP_RATE_DOWN</th>\n",
       "      <th>SECONDARY_TLF</th>\n",
       "    </tr>\n",
       "  </thead>\n",
       "  <tbody>\n",
       "    <tr>\n",
       "      <th>count</th>\n",
       "      <td>323556.0</td>\n",
       "      <td>800249.000000</td>\n",
       "      <td>800249.000000</td>\n",
       "      <td>800249.000000</td>\n",
       "      <td>800249.000000</td>\n",
       "      <td>696717.000000</td>\n",
       "      <td>696717.000000</td>\n",
       "      <td>305844.000000</td>\n",
       "      <td>305844.000000</td>\n",
       "      <td>479924.000000</td>\n",
       "      <td>236070.0</td>\n",
       "      <td>121989.0</td>\n",
       "      <td>118634.0</td>\n",
       "      <td>185.000000</td>\n",
       "      <td>185.000000</td>\n",
       "      <td>185.000000</td>\n",
       "      <td>185.000000</td>\n",
       "      <td>185.000000</td>\n",
       "      <td>185.000000</td>\n",
       "      <td>356.000000</td>\n",
       "    </tr>\n",
       "    <tr>\n",
       "      <th>mean</th>\n",
       "      <td>4.0</td>\n",
       "      <td>0.984538</td>\n",
       "      <td>0.999575</td>\n",
       "      <td>-984.146660</td>\n",
       "      <td>11584.190027</td>\n",
       "      <td>1.891973</td>\n",
       "      <td>1.891973</td>\n",
       "      <td>74.086616</td>\n",
       "      <td>76.438086</td>\n",
       "      <td>0.087631</td>\n",
       "      <td>5.0</td>\n",
       "      <td>6.0</td>\n",
       "      <td>7.0</td>\n",
       "      <td>-965.856757</td>\n",
       "      <td>16902.472378</td>\n",
       "      <td>44.286486</td>\n",
       "      <td>44.286486</td>\n",
       "      <td>133.416216</td>\n",
       "      <td>133.416216</td>\n",
       "      <td>0.973453</td>\n",
       "    </tr>\n",
       "    <tr>\n",
       "      <th>std</th>\n",
       "      <td>0.0</td>\n",
       "      <td>0.043131</td>\n",
       "      <td>0.010969</td>\n",
       "      <td>44.961138</td>\n",
       "      <td>3070.012027</td>\n",
       "      <td>4.635980</td>\n",
       "      <td>4.635980</td>\n",
       "      <td>160.152982</td>\n",
       "      <td>167.091743</td>\n",
       "      <td>0.282757</td>\n",
       "      <td>0.0</td>\n",
       "      <td>0.0</td>\n",
       "      <td>0.0</td>\n",
       "      <td>58.279243</td>\n",
       "      <td>1019.873839</td>\n",
       "      <td>54.981608</td>\n",
       "      <td>54.981608</td>\n",
       "      <td>205.160607</td>\n",
       "      <td>205.160607</td>\n",
       "      <td>0.039962</td>\n",
       "    </tr>\n",
       "    <tr>\n",
       "      <th>min</th>\n",
       "      <td>4.0</td>\n",
       "      <td>0.674500</td>\n",
       "      <td>0.820000</td>\n",
       "      <td>-1284.100000</td>\n",
       "      <td>3372.500000</td>\n",
       "      <td>0.000000</td>\n",
       "      <td>0.000000</td>\n",
       "      <td>0.000000</td>\n",
       "      <td>0.000000</td>\n",
       "      <td>0.000000</td>\n",
       "      <td>5.0</td>\n",
       "      <td>6.0</td>\n",
       "      <td>7.0</td>\n",
       "      <td>-1047.590000</td>\n",
       "      <td>14497.000000</td>\n",
       "      <td>2.000000</td>\n",
       "      <td>2.000000</td>\n",
       "      <td>2.000000</td>\n",
       "      <td>2.000000</td>\n",
       "      <td>0.842300</td>\n",
       "    </tr>\n",
       "    <tr>\n",
       "      <th>25%</th>\n",
       "      <td>4.0</td>\n",
       "      <td>0.965000</td>\n",
       "      <td>1.000000</td>\n",
       "      <td>-1001.000000</td>\n",
       "      <td>9852.000000</td>\n",
       "      <td>0.000000</td>\n",
       "      <td>0.000000</td>\n",
       "      <td>6.000000</td>\n",
       "      <td>6.000000</td>\n",
       "      <td>0.000000</td>\n",
       "      <td>5.0</td>\n",
       "      <td>6.0</td>\n",
       "      <td>7.0</td>\n",
       "      <td>-999.600000</td>\n",
       "      <td>16423.590000</td>\n",
       "      <td>10.000000</td>\n",
       "      <td>10.000000</td>\n",
       "      <td>10.000000</td>\n",
       "      <td>10.000000</td>\n",
       "      <td>0.960125</td>\n",
       "    </tr>\n",
       "    <tr>\n",
       "      <th>50%</th>\n",
       "      <td>4.0</td>\n",
       "      <td>0.986600</td>\n",
       "      <td>1.000000</td>\n",
       "      <td>-986.400000</td>\n",
       "      <td>12500.000000</td>\n",
       "      <td>1.000000</td>\n",
       "      <td>1.000000</td>\n",
       "      <td>23.000000</td>\n",
       "      <td>23.000000</td>\n",
       "      <td>0.000000</td>\n",
       "      <td>5.0</td>\n",
       "      <td>6.0</td>\n",
       "      <td>7.0</td>\n",
       "      <td>-986.400000</td>\n",
       "      <td>17262.000000</td>\n",
       "      <td>33.000000</td>\n",
       "      <td>33.000000</td>\n",
       "      <td>40.000000</td>\n",
       "      <td>40.000000</td>\n",
       "      <td>0.987700</td>\n",
       "    </tr>\n",
       "    <tr>\n",
       "      <th>75%</th>\n",
       "      <td>4.0</td>\n",
       "      <td>1.000900</td>\n",
       "      <td>1.000000</td>\n",
       "      <td>-963.900000</td>\n",
       "      <td>13926.960000</td>\n",
       "      <td>3.000000</td>\n",
       "      <td>3.000000</td>\n",
       "      <td>60.000000</td>\n",
       "      <td>60.000000</td>\n",
       "      <td>0.000000</td>\n",
       "      <td>5.0</td>\n",
       "      <td>6.0</td>\n",
       "      <td>7.0</td>\n",
       "      <td>-938.500000</td>\n",
       "      <td>17493.000000</td>\n",
       "      <td>54.000000</td>\n",
       "      <td>54.000000</td>\n",
       "      <td>132.000000</td>\n",
       "      <td>132.000000</td>\n",
       "      <td>1.000400</td>\n",
       "    </tr>\n",
       "    <tr>\n",
       "      <th>max</th>\n",
       "      <td>4.0</td>\n",
       "      <td>1.284100</td>\n",
       "      <td>1.167550</td>\n",
       "      <td>-674.500000</td>\n",
       "      <td>19955.250000</td>\n",
       "      <td>288.000000</td>\n",
       "      <td>288.000000</td>\n",
       "      <td>1492.000000</td>\n",
       "      <td>1492.000000</td>\n",
       "      <td>1.000000</td>\n",
       "      <td>5.0</td>\n",
       "      <td>6.0</td>\n",
       "      <td>7.0</td>\n",
       "      <td>-828.400000</td>\n",
       "      <td>18332.750000</td>\n",
       "      <td>288.000000</td>\n",
       "      <td>288.000000</td>\n",
       "      <td>720.000000</td>\n",
       "      <td>720.000000</td>\n",
       "      <td>1.015500</td>\n",
       "    </tr>\n",
       "  </tbody>\n",
       "</table>\n",
       "</div>"
      ],
      "text/plain": [
       "              4  TRANSMISSIONLOSSFACTOR  DISTRIBUTIONLOSSFACTOR  \\\n",
       "count  323556.0           800249.000000           800249.000000   \n",
       "mean        4.0                0.984538                0.999575   \n",
       "std         0.0                0.043131                0.010969   \n",
       "min         4.0                0.674500                0.820000   \n",
       "25%         4.0                0.965000                1.000000   \n",
       "50%         4.0                0.986600                1.000000   \n",
       "75%         4.0                1.000900                1.000000   \n",
       "max         4.0                1.284100                1.167550   \n",
       "\n",
       "       MINIMUM_ENERGY_PRICE  MAXIMUM_ENERGY_PRICE  MIN_RAMP_RATE_UP  \\\n",
       "count         800249.000000         800249.000000     696717.000000   \n",
       "mean            -984.146660          11584.190027          1.891973   \n",
       "std               44.961138           3070.012027          4.635980   \n",
       "min            -1284.100000           3372.500000          0.000000   \n",
       "25%            -1001.000000           9852.000000          0.000000   \n",
       "50%             -986.400000          12500.000000          1.000000   \n",
       "75%             -963.900000          13926.960000          3.000000   \n",
       "max             -674.500000          19955.250000        288.000000   \n",
       "\n",
       "       MIN_RAMP_RATE_DOWN  MAX_RAMP_RATE_UP  MAX_RAMP_RATE_DOWN  \\\n",
       "count       696717.000000     305844.000000       305844.000000   \n",
       "mean             1.891973         74.086616           76.438086   \n",
       "std              4.635980        160.152982          167.091743   \n",
       "min              0.000000          0.000000            0.000000   \n",
       "25%              0.000000          6.000000            6.000000   \n",
       "50%              1.000000         23.000000           23.000000   \n",
       "75%              3.000000         60.000000           60.000000   \n",
       "max            288.000000       1492.000000         1492.000000   \n",
       "\n",
       "       IS_AGGREGATED         5         6         7  LOAD_MINIMUM_ENERGY_PRICE  \\\n",
       "count  479924.000000  236070.0  121989.0  118634.0                 185.000000   \n",
       "mean        0.087631       5.0       6.0       7.0                -965.856757   \n",
       "std         0.282757       0.0       0.0       0.0                  58.279243   \n",
       "min         0.000000       5.0       6.0       7.0               -1047.590000   \n",
       "25%         0.000000       5.0       6.0       7.0                -999.600000   \n",
       "50%         0.000000       5.0       6.0       7.0                -986.400000   \n",
       "75%         0.000000       5.0       6.0       7.0                -938.500000   \n",
       "max         1.000000       5.0       6.0       7.0                -828.400000   \n",
       "\n",
       "       LOAD_MAXIMUM_ENERGY_PRICE  LOAD_MIN_RAMP_RATE_UP  \\\n",
       "count                 185.000000             185.000000   \n",
       "mean                16902.472378              44.286486   \n",
       "std                  1019.873839              54.981608   \n",
       "min                 14497.000000               2.000000   \n",
       "25%                 16423.590000              10.000000   \n",
       "50%                 17262.000000              33.000000   \n",
       "75%                 17493.000000              54.000000   \n",
       "max                 18332.750000             288.000000   \n",
       "\n",
       "       LOAD_MIN_RAMP_RATE_DOWN  LOAD_MAX_RAMP_RATE_UP  \\\n",
       "count               185.000000             185.000000   \n",
       "mean                 44.286486             133.416216   \n",
       "std                  54.981608             205.160607   \n",
       "min                   2.000000               2.000000   \n",
       "25%                  10.000000              10.000000   \n",
       "50%                  33.000000              40.000000   \n",
       "75%                  54.000000             132.000000   \n",
       "max                 288.000000             720.000000   \n",
       "\n",
       "       LOAD_MAX_RAMP_RATE_DOWN  SECONDARY_TLF  \n",
       "count               185.000000     356.000000  \n",
       "mean                133.416216       0.973453  \n",
       "std                 205.160607       0.039962  \n",
       "min                   2.000000       0.842300  \n",
       "25%                  10.000000       0.960125  \n",
       "50%                  40.000000       0.987700  \n",
       "75%                 132.000000       1.000400  \n",
       "max                 720.000000       1.015500  "
      ]
     },
     "execution_count": 56,
     "metadata": {},
     "output_type": "execute_result"
    }
   ],
   "source": [
    "df_summary.describe()"
   ]
  },
  {
   "cell_type": "markdown",
   "id": "96fff6a9-81c0-442d-81e6-7b1da6d25961",
   "metadata": {},
   "source": [
    "<div style=\"background-color: lightblue; padding: 10px;\">\n",
    "\n",
    "TRANSMISSIONLOSSFACTOR is energy losses during transmission in the grid. \n",
    "\n",
    "DISTRIBUTIONLOSSFACTOR is column represents the factor used to account for energy losses that occur during the distribution of electricity from the generation source to the end consumers.\n",
    "\n",
    "MINIMUM_ENERGY_PRICE is the minimum price for energy that a unit can offer, adjusted for transmission and distribution loss factors. But they have negative values. It could represent a situation where the energy price is pushed below zero to balance the market.\n",
    "\n",
    "MIN_RAMP_RATE_UP is the minimum rate at which a unit can increase its output (in MW/min) when transitioning from a low to a high generation state. It indicates how quickly a generator can respond when there is an increased demand for electricity or when it is asked to increase its generation output.\n",
    "\n",
    "MAX_RAMP_RATE_DOWN is the maximum rate at which a unit can decrease its output (in MW/min).\n",
    "\n",
    "LOAD_MINIMUM_ENERGY_PRICE also has negative values.\n",
    "\n",
    "</div>"
   ]
  },
  {
   "cell_type": "markdown",
   "id": "ceab6544-34ab-4fd5-80dd-dfa0231756a7",
   "metadata": {},
   "source": [
    "#### dispatchable types"
   ]
  },
  {
   "cell_type": "code",
   "execution_count": 57,
   "id": "1863bf3b-a701-4f36-bb42-cee47f317df4",
   "metadata": {},
   "outputs": [
    {
     "data": {
      "text/plain": [
       "array(['GENERATOR', 'LOAD', nan, 'BIDIRECTIONAL'], dtype=object)"
      ]
     },
     "execution_count": 57,
     "metadata": {},
     "output_type": "execute_result"
    }
   ],
   "source": [
    "df_summary.DISPATCHTYPE.unique()"
   ]
  },
  {
   "cell_type": "markdown",
   "id": "40897076-8928-470d-8113-f7dd9ed6689b",
   "metadata": {},
   "source": [
    "<div style=\"background-color: lightblue; padding: 10px;\">\n",
    "\n",
    "There are many null values.\n",
    "\n",
    "LOAD: A load unit (consumer).\n",
    "\n",
    "GENERATOR: A power generation unit.\n",
    "\n",
    "BIDIRECTIONAL: A unit that can both generate and consume power, such as battery storage or hybrid systems.\n",
    "</div>"
   ]
  },
  {
   "cell_type": "markdown",
   "id": "838f5e55-2ae6-49e3-920d-e958f4dccee5",
   "metadata": {},
   "source": [
    "#### regions"
   ]
  },
  {
   "cell_type": "code",
   "execution_count": 58,
   "id": "043aca66-e192-43b1-94e2-7eefd0ef0f6f",
   "metadata": {},
   "outputs": [
    {
     "data": {
      "text/plain": [
       "array(['SA1', 'NSW1', 'VIC1', 'QLD1', 'TAS1', 'SNOWY1', nan], dtype=object)"
      ]
     },
     "execution_count": 58,
     "metadata": {},
     "output_type": "execute_result"
    }
   ],
   "source": [
    "df_summary.REGIONID.unique()"
   ]
  },
  {
   "cell_type": "markdown",
   "id": "0f210dbd-b551-4326-954d-3f66d83076df",
   "metadata": {},
   "source": [
    "<div style=\"background-color: lightblue; padding: 10px;\">\n",
    "\n",
    "There is SNOWY1 value, The Snowy Mountains Hydroelectric Scheme (SMHS) is a large-scale hydroelectric power system in southeastern Australia, primarily located in the Snowy Mountains. It spans for ACT, VIC, NSW.\n",
    "</div>"
   ]
  },
  {
   "cell_type": "markdown",
   "id": "830042c0-014f-4902-8b4e-1e431bedc4e6",
   "metadata": {},
   "source": [
    "#### number of stations"
   ]
  },
  {
   "cell_type": "code",
   "execution_count": 59,
   "id": "b535fc2a-df70-445b-a497-17dcd3641e16",
   "metadata": {},
   "outputs": [
    {
     "data": {
      "text/plain": [
       "585"
      ]
     },
     "execution_count": 59,
     "metadata": {},
     "output_type": "execute_result"
    }
   ],
   "source": [
    "df_summary.STATIONID.nunique()"
   ]
  },
  {
   "cell_type": "markdown",
   "id": "32e756a7-827e-430a-8fdd-22b06ff49881",
   "metadata": {},
   "source": [
    "<div style=\"background-color: lightblue; padding: 10px;\">\n",
    "\n",
    "There are 585 stations.\n",
    "</div>"
   ]
  },
  {
   "cell_type": "markdown",
   "id": "4748e1eb-ea55-4b40-9b63-b0b8f9ccafda",
   "metadata": {},
   "source": [
    "#### check number of dispatchable units"
   ]
  },
  {
   "cell_type": "code",
   "execution_count": 60,
   "id": "476c4279-063c-40b7-a5e4-7e86f7848e5d",
   "metadata": {},
   "outputs": [
    {
     "data": {
      "text/plain": [
       "933"
      ]
     },
     "execution_count": 60,
     "metadata": {},
     "output_type": "execute_result"
    }
   ],
   "source": [
    "df_summary.DUID.nunique()"
   ]
  },
  {
   "cell_type": "markdown",
   "id": "93334d5c-4672-4487-b54a-5a0ee8b6c117",
   "metadata": {},
   "source": [
    "<div style=\"background-color: lightblue; padding: 10px;\">\n",
    "\n",
    "There are over 900 dispatchable units in 585 stations. But there are only 500 units appearing in UNIT_SCADA.\n",
    "</div>"
   ]
  },
  {
   "cell_type": "code",
   "execution_count": 62,
   "id": "3f03cdbc-16c1-4e8c-81d0-11be9baccdbe",
   "metadata": {},
   "outputs": [],
   "source": [
    "summary_ids = df_summary.DUID.unique()\n",
    "summary_ids_scada = df_scada_sample.DUID.unique()"
   ]
  },
  {
   "cell_type": "code",
   "execution_count": 63,
   "id": "741f102a-c1d5-4692-8c69-a75a72d63b97",
   "metadata": {},
   "outputs": [
    {
     "name": "stdout",
     "output_type": "stream",
     "text": [
      "[]\n"
     ]
    }
   ],
   "source": [
    "diff_lst = list(set(summary_ids_scada) - set(summary_ids))\n",
    "print(diff_lst)  "
   ]
  },
  {
   "cell_type": "markdown",
   "id": "e9a3de0e-7c7a-43f9-94e7-49879057b84e",
   "metadata": {},
   "source": [
    "<div style=\"background-color: lightblue; padding: 10px;\">\n",
    "\n",
    "There is no DUID in UNIT_SCADA that are not in SUMMARY file.\n",
    "</div>"
   ]
  },
  {
   "cell_type": "markdown",
   "id": "71a8d642-5350-460c-a4b5-cbeaee89ea04",
   "metadata": {},
   "source": [
    "### Demand data"
   ]
  },
  {
   "cell_type": "markdown",
   "id": "9566fc74-bd42-4e99-b8a3-a63b2d482413",
   "metadata": {},
   "source": [
    "#### region and date"
   ]
  },
  {
   "cell_type": "code",
   "execution_count": 64,
   "id": "2b6bb556-2724-4a13-b691-8aa3d3df6231",
   "metadata": {},
   "outputs": [
    {
     "data": {
      "text/plain": [
       "array(['TAS1', 'NSW1', 'SA1', 'QLD1', 'VIC1', nan], dtype=object)"
      ]
     },
     "execution_count": 64,
     "metadata": {},
     "output_type": "execute_result"
    }
   ],
   "source": [
    "df_demand_sample.REGIONID.unique()"
   ]
  },
  {
   "cell_type": "code",
   "execution_count": 66,
   "id": "ed2e4a60-3f79-44ab-bb15-e928f0121f75",
   "metadata": {},
   "outputs": [
    {
     "data": {
      "text/plain": [
       "Timestamp('2019-01-01 00:00:00')"
      ]
     },
     "execution_count": 66,
     "metadata": {},
     "output_type": "execute_result"
    }
   ],
   "source": [
    "df_demand_sample[\"SETTLEMENTDATE\"] = pd.to_datetime(df_demand_sample[\"SETTLEMENTDATE\"], format=\"%Y/%m/%d %H:%M:%S\")\n",
    "df_demand_sample.SETTLEMENTDATE.min()"
   ]
  },
  {
   "cell_type": "code",
   "execution_count": 67,
   "id": "301cb1e5-1171-46fa-8509-82429d61b59f",
   "metadata": {},
   "outputs": [
    {
     "data": {
      "text/plain": [
       "Timestamp('2025-01-31 00:00:00')"
      ]
     },
     "execution_count": 67,
     "metadata": {},
     "output_type": "execute_result"
    }
   ],
   "source": [
    "df_demand_sample.SETTLEMENTDATE.max()"
   ]
  },
  {
   "cell_type": "markdown",
   "id": "eecafcc7-5906-452c-ac0a-e7a71d8d8b15",
   "metadata": {},
   "source": [
    "#### demand value"
   ]
  },
  {
   "cell_type": "code",
   "execution_count": 83,
   "id": "489fe014-3bd6-45a6-8d30-defd531380ab",
   "metadata": {},
   "outputs": [
    {
     "data": {
      "image/png": "[encoded data removed]",
      "text/plain": [
       "<Figure size 1000x600 with 1 Axes>"
      ]
     },
     "metadata": {},
     "output_type": "display_data"
    },
    {
     "data": {
      "text/plain": [
       "<Figure size 640x480 with 0 Axes>"
      ]
     },
     "execution_count": 83,
     "metadata": {},
     "output_type": "execute_result"
    },
    {
     "data": {
      "text/plain": [
       "<Figure size 640x480 with 0 Axes>"
      ]
     },
     "metadata": {},
     "output_type": "display_data"
    }
   ],
   "source": [
    "distribution_plot_seaborn(df=df_demand_sample[df_demand_sample['RESDEMAND'] >= 0], column='RESDEMAND')"
   ]
  },
  {
   "cell_type": "code",
   "execution_count": 84,
   "id": "ee06e0c5-0c77-4fa2-8cd0-0a96793d6165",
   "metadata": {},
   "outputs": [
    {
     "data": {
      "text/plain": [
       "0.012973203040156481"
      ]
     },
     "execution_count": 84,
     "metadata": {},
     "output_type": "execute_result"
    }
   ],
   "source": [
    "df_demand_sample[df_demand_sample['RESDEMAND'] < 0]['DEMAND'].count()/df_demand_sample['RESDEMAND'].count()*100"
   ]
  },
  {
   "cell_type": "markdown",
   "id": "e402174b-0352-4435-b113-4eab76e5e94c",
   "metadata": {},
   "source": [
    "<div style=\"background-color: lightblue; padding: 10px;\">\n",
    "\n",
    "There are only 0.013% demand data which is negative values of demand column.\n",
    "\n",
    "The distribution is right skewed and \n",
    "</div>"
   ]
  },
  {
   "cell_type": "markdown",
   "id": "c9acec74-fa89-4de1-bfac-6f904fd44205",
   "metadata": {},
   "source": [
    "### Pricing data"
   ]
  },
  {
   "cell_type": "markdown",
   "id": "b48b849b-df05-4848-9961-039ffb48849e",
   "metadata": {},
   "source": [
    "#### region"
   ]
  },
  {
   "cell_type": "code",
   "execution_count": 85,
   "id": "55555ed3-320e-41b0-ba29-4cb93fedc206",
   "metadata": {},
   "outputs": [
    {
     "data": {
      "text/plain": [
       "array(['SA1', 'TAS1', 'QLD1', 'NSW1', 'VIC1', nan], dtype=object)"
      ]
     },
     "execution_count": 85,
     "metadata": {},
     "output_type": "execute_result"
    }
   ],
   "source": [
    "df_price_sample.REGIONID.unique()"
   ]
  },
  {
   "cell_type": "markdown",
   "id": "5260b58d-8fcd-4598-8a65-576dae8ac61e",
   "metadata": {},
   "source": [
    "#### price"
   ]
  },
  {
   "cell_type": "code",
   "execution_count": 87,
   "id": "68d5203d-ec33-460d-a92c-6b71b08bbdd4",
   "metadata": {},
   "outputs": [
    {
     "data": {
      "text/plain": [
       "9.156700806539378"
      ]
     },
     "execution_count": 87,
     "metadata": {},
     "output_type": "execute_result"
    }
   ],
   "source": [
    "df_price_sample[df_price_sample['RRP'] < 0]['RRP'].count()/df_price_sample['RRP'].count()*100"
   ]
  },
  {
   "cell_type": "code",
   "execution_count": 88,
   "id": "a8c7162e-2ba6-4d74-a6d1-826068150951",
   "metadata": {},
   "outputs": [
    {
     "data": {
      "image/png": "[encoded data removed]",
      "text/plain": [
       "<Figure size 1000x600 with 1 Axes>"
      ]
     },
     "metadata": {},
     "output_type": "display_data"
    },
    {
     "data": {
      "text/plain": [
       "<Figure size 640x480 with 0 Axes>"
      ]
     },
     "execution_count": 88,
     "metadata": {},
     "output_type": "execute_result"
    },
    {
     "data": {
      "text/plain": [
       "<Figure size 640x480 with 0 Axes>"
      ]
     },
     "metadata": {},
     "output_type": "display_data"
    }
   ],
   "source": [
    "distribution_plot_seaborn(df=df_price_sample[df_price_sample['RRP'] >= 0], column='RRP')"
   ]
  },
  {
   "cell_type": "markdown",
   "id": "67b778d1-dee9-424e-b216-f77ea4112329",
   "metadata": {},
   "source": [
    "## 2D Exploration"
   ]
  },
  {
   "cell_type": "markdown",
   "id": "083857f8-5d4c-4ef7-ac35-0216ed537217",
   "metadata": {},
   "source": [
    "Explore [2D_EDA] files because the content may be too long."
   ]
  }
 ],
 "metadata": {
  "kernelspec": {
   "display_name": "Python 3 (ipykernel)",
   "language": "python",
   "name": "python3"
  },
  "language_info": {
   "codemirror_mode": {
    "name": "ipython",
    "version": 3
   },
   "file_extension": ".py",
   "mimetype": "text/x-python",
   "name": "python",
   "nbconvert_exporter": "python",
   "pygments_lexer": "ipython3",
   "version": "3.8.13"
  }
 },
 "nbformat": 4,
 "nbformat_minor": 5
}
